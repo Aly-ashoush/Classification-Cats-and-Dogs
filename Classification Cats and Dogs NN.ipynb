{
 "cells": [
  {
   "cell_type": "code",
   "execution_count": 1,
   "id": "ISQtBOkGut6x",
   "metadata": {
    "colab": {
     "base_uri": "https://localhost:8080/"
    },
    "id": "ISQtBOkGut6x",
    "outputId": "c13b6dab-c2c7-4dae-8eea-bdc223e74a95"
   },
   "outputs": [
    {
     "name": "stdout",
     "output_type": "stream",
     "text": [
      "Mounted at /content/drive\n"
     ]
    }
   ],
   "source": [
    "from google.colab import drive\n",
    "drive.mount('/content/drive')"
   ]
  },
  {
   "cell_type": "code",
   "execution_count": null,
   "id": "1d3d228f-c594-403e-b4d0-2e87f96a7e9a",
   "metadata": {},
   "outputs": [],
   "source": [
    "import os\n",
    "import requests\n",
    "from PIL import Image\n",
    "from io import BytesIO\n",
    "\n",
    "API_KEY = 'eef7HgSP5A3qy4wFCoePad5s'\n",
    "base_folder = r\"/content/drive/MyDrive/test_data\"\n",
    "cats_folder = os.path.join(base_folder, \"cats\")\n",
    "dogs_folder = os.path.join(base_folder, \"dogs\")\n",
    "output_folder = r\"/content/drive/MyDrive/after_processing\"\n",
    "output_cats_folder = os.path.join(output_folder, \"catsss\")\n",
    "output_dogs_folder = os.path.join(output_folder, \"dogsss\")\n",
    "os.makedirs(output_cats_folder, exist_ok=True)\n",
    "os.makedirs(output_dogs_folder, exist_ok=True)\n",
    "def process_images(input_folder, output_folder):\n",
    "    for filename in os.listdir(input_folder):\n",
    "        if filename.lower().endswith(('.jpg', '.jpeg', '.png')):\n",
    "            image_path = os.path.join(input_folder, filename)\n",
    "            \n",
    "            try:\n",
    "                \n",
    "                response = requests.post(\n",
    "                    'https://api.remove.bg/v1.0/removebg',\n",
    "                    files={'image_file': open(image_path, 'rb')},\n",
    "                    data={'size': 'auto'},\n",
    "                    headers={'X-Api-Key': API_KEY},\n",
    "                )\n",
    "\n",
    "                if response.status_code == requests.codes.ok:\n",
    "                    image_data = BytesIO(response.content)\n",
    "                    image = Image.open(image_data)\n",
    "\n",
    "                    \n",
    "                    output_path = os.path.join(output_folder, f\"processed_{filename}\")\n",
    "                    image.save(output_path)\n",
    "                    print(f\"تم حفظ الصورة بنجاح: {output_path}\")\n",
    "                else:\n",
    "                    print(f\"فشل معالجة الصورة {filename}: {response.status_code} - {response.text}\")\n",
    "\n",
    "            except Exception as e:\n",
    "                print(f\"حصلت مشكلة مع الصورة {filename}: {e}\")\n",
    "\n",
    "\n",
    "print(\"جاري معالجة صور القطط...\")\n",
    "process_images(cats_folder, output_cats_folder)\n",
    "\n",
    "\n",
    "print(\"جاري معالجة صور الكلاب...\")\n",
    "process_images(dogs_folder, output_dogs_folder)\n",
    "\n",
    "print(\"تمت المعالجة بنجاح!\")\n",
    "\n"
   ]
  },
  {
   "cell_type": "code",
   "execution_count": 2,
   "id": "a83dac8c-444e-4c5f-9dc3-2cb6b3356fa5",
   "metadata": {
    "colab": {
     "base_uri": "https://localhost:8080/"
    },
    "id": "a83dac8c-444e-4c5f-9dc3-2cb6b3356fa5",
    "outputId": "30c3a6f0-087d-4cc6-a1b0-fbdaf73c5354"
   },
   "outputs": [
    {
     "name": "stdout",
     "output_type": "stream",
     "text": [
      "تمت معالجة الصور وحفظها في المجلدات الجديدة.\n"
     ]
    }
   ],
   "source": [
    "import os\n",
    "from PIL import Image\n",
    "import numpy as np\n",
    "import shutil\n",
    "base_folder = r\"/content/drive/MyDrive/test_data\"\n",
    "cats_folder = os.path.join(base_folder, r\"/content/drive/MyDrive/test_data/cats\")\n",
    "dogs_folder = os.path.join(base_folder, r\"/content/drive/MyDrive/test_data/dogs\")\n",
    "output_folder = r\"/content/drive/MyDrive/after processing\"\n",
    "output_cats_folder = os.path.join(output_folder, r\"/content/drive/MyDrive/after processing/catsss\")\n",
    "output_dogs_folder = os.path.join(output_folder, r\"/content/drive/MyDrive/after processing/dogsss\")\n",
    "os.makedirs(output_cats_folder, exist_ok=True)\n",
    "os.makedirs(output_dogs_folder, exist_ok=True)\n",
    "target_size = (150, 150)\n",
    "def process_and_save_images(input_folder, output_folder):\n",
    "    for filename in os.listdir(input_folder):\n",
    "        if filename.lower().endswith(('.png', '.jpg', '.jpeg','.webp')):\n",
    "            image_path = os.path.join(input_folder, filename)\n",
    "            with Image.open(image_path) as img:\n",
    "                img = img.resize(target_size)\n",
    "                img_array = np.array(img) / 255.0\n",
    "\n",
    "                processed_img = Image.fromarray((img_array * 255).astype(np.uint8))\n",
    "                processed_img.save(os.path.join(output_folder, filename))\n",
    "process_and_save_images(cats_folder, output_cats_folder)\n",
    "process_and_save_images(dogs_folder, output_dogs_folder)\n",
    "print(\"تمت معالجة الصور وحفظها في المجلدات الجديدة.\")"
   ]
  },
  {
   "cell_type": "code",
   "execution_count": 3,
   "id": "IB9rqBWAsJzz",
   "metadata": {
    "colab": {
     "base_uri": "https://localhost:8080/"
    },
    "id": "IB9rqBWAsJzz",
    "outputId": "a1a621b7-33ea-4289-983b-dfd375759ce4"
   },
   "outputs": [
    {
     "name": "stdout",
     "output_type": "stream",
     "text": [
      "تم إنشاء صور جديدة بزوايا ثابتة!\n"
     ]
    }
   ],
   "source": [
    "from tensorflow.keras.preprocessing.image import ImageDataGenerator\n",
    "import os\n",
    "import numpy as np\n",
    "from PIL import Image\n",
    "processed_cats_folder = r\"/content/drive/MyDrive/after processing/catsss\"\n",
    "processed_dogs_folder = r\"/content/drive/MyDrive/after processing/dogsss\"\n",
    "augmented_cats_folder = r\"/content/drive/MyDrive/after processing/augmented_cats\"\n",
    "augmented_dogs_folder = r\"/content/drive/MyDrive/after processing/augmented_dogs\"\n",
    "os.makedirs(augmented_cats_folder, exist_ok=True)\n",
    "os.makedirs(augmented_dogs_folder, exist_ok=True)\n",
    "def augment_images(input_folder, output_folder, num_augmented_images=8):\n",
    "datagen = ImageDataGenerator(\n",
    "    rotation_range=10, \n",
    "    width_shift_range=0.1, \n",
    "    height_shift_range=0.1,  \n",
    "    zoom_range=0.1,  \n",
    "    horizontal_flip=True, \n",
    "    fill_mode='nearest'  \n",
    ")\n",
    "    \n",
    "    for filename in os.listdir(input_folder):\n",
    "        if filename.lower().endswith(('.png', '.jpg', '.jpeg', '.webp')):\n",
    "            image_path = os.path.join(input_folder, filename)\n",
    "            img = Image.open(image_path)\n",
    "            img = img.resize((150, 150))  \n",
    "            img = img.convert(\"RGB\")  \n",
    "            img_array = np.array(img) \n",
    "            \n",
    "            img_array = np.expand_dims(img_array, axis=0)  \n",
    "            i = 0\n",
    "            for batch in datagen.flow(img_array, batch_size=1, save_to_dir=output_folder, save_prefix=\"aug\", save_format=\"jpeg\"):\n",
    "                i += 1\n",
    "                if i >= num_augmented_images:\n",
    "                    break \n",
    "augment_images(processed_cats_folder, augmented_cats_folder)\n",
    "augment_images(processed_dogs_folder, augmented_dogs_folder)\n",
    "\n",
    "print(\"تم إنشاء صور Augmentation جديدة!\")\n"
   ]
  },
  {
   "cell_type": "code",
   "execution_count": 4,
   "id": "b0126676-6aea-461d-91ad-10e55b9135fb",
   "metadata": {
    "colab": {
     "base_uri": "https://localhost:8080/"
    },
    "id": "b0126676-6aea-461d-91ad-10e55b9135fb",
    "outputId": "a06d261b-ae6b-4fcd-9bce-ecd8e1585fc0"
   },
   "outputs": [
    {
     "name": "stdout",
     "output_type": "stream",
     "text": [
      "عدد الصور في فئة القطط: 3488\n",
      "عدد الصور في فئة الكلاب: 3484\n"
     ]
    }
   ],
   "source": [
    "import os\n",
    "processed_cats_folder = r\"/content/drive/MyDrive/after processing/catsss\"\n",
    "processed_dogs_folder = r\"/content/drive/MyDrive/after processing/dogsss\"\n",
    "num_cats = len([f for f in os.listdir(processed_cats_folder) if f.lower().endswith(('.png', '.jpg', '.jpeg', '.webp'))])\n",
    "num_dogs = len([f for f in os.listdir(processed_dogs_folder) if f.lower().endswith(('.png', '.jpg', '.jpeg', '.webp'))])\n",
    "print(f\"عدد الصور في فئة القطط: {num_cats}\")\n",
    "print(f\"عدد الصور في فئة الكلاب: {num_dogs}\")"
   ]
  },
  {
   "cell_type": "code",
   "execution_count": 5,
   "id": "ab27a769-9327-4e37-8ab9-5f2c94aec6a8",
   "metadata": {
    "colab": {
     "base_uri": "https://localhost:8080/"
    },
    "id": "ab27a769-9327-4e37-8ab9-5f2c94aec6a8",
    "outputId": "fba85c8e-170b-46de-d842-35225b1554bc"
   },
   "outputs": [
    {
     "name": "stdout",
     "output_type": "stream",
     "text": [
      "أبعاد صور القطط:  {(150, 150)}\n",
      "أبعاد صور الكلاب:  {(150, 150)}\n"
     ]
    }
   ],
   "source": [
    "def analyze_image_dimensions(folder):\n",
    "    dimensions = []\n",
    "    for img_name in os.listdir(folder):\n",
    "        if img_name.lower().endswith(('.png', '.jpg', '.jpeg', '.webp')):\n",
    "            img_path = os.path.join(folder, img_name)\n",
    "            img = Image.open(img_path)\n",
    "            dimensions.append(img.size)\n",
    "    return dimensions\n",
    "cat_dimensions = analyze_image_dimensions(processed_cats_folder)\n",
    "dog_dimensions = analyze_image_dimensions(processed_dogs_folder)\n",
    "print(\"أبعاد صور القطط: \", set(cat_dimensions))\n",
    "print(\"أبعاد صور الكلاب: \", set(dog_dimensions))"
   ]
  },
  {
   "cell_type": "code",
   "execution_count": 6,
   "id": "06407bf4-f2a8-4127-8ab2-da09386c7787",
   "metadata": {
    "colab": {
     "base_uri": "https://localhost:8080/",
     "height": 521
    },
    "id": "06407bf4-f2a8-4127-8ab2-da09386c7787",
    "outputId": "9ee2bcaf-d7c3-4bad-e2c7-5b7c8ce49081"
   },
   "outputs": [
    {
     "data": {
      "image/png": "[encoded data removed]",
      "text/plain": [
       "<Figure size 600x600 with 1 Axes>"
      ]
     },
     "metadata": {},
     "output_type": "display_data"
    }
   ],
   "source": [
    "import matplotlib.pyplot as plt\n",
    "labels = ['cat', 'dogs']\n",
    "sizes = [num_cats, num_dogs]\n",
    "plt.figure(figsize=(6, 6))\n",
    "plt.pie(sizes, labels=labels, autopct='%1.1f%%', startangle=90, colors=['#ff9999','#66b3ff'])\n",
    "plt.axis('equal')  # لضمان أن الدائرة ستكون دائرية\n",
    "plt.title('distrubuted of cat and dogs ')\n",
    "plt.show()"
   ]
  },
  {
   "cell_type": "code",
   "execution_count": 7,
   "id": "2d91ea81-d054-40f1-bb3a-6077f9a7e304",
   "metadata": {
    "colab": {
     "base_uri": "https://localhost:8080/"
    },
    "id": "2d91ea81-d054-40f1-bb3a-6077f9a7e304",
    "outputId": "abbb4106-0daf-4a2a-940f-d6756f0dbf2b"
   },
   "outputs": [
    {
     "name": "stdout",
     "output_type": "stream",
     "text": [
      "Found 5575 images belonging to 2 classes.\n",
      "Found 1393 images belonging to 2 classes.\n"
     ]
    }
   ],
   "source": [
    "from tensorflow.keras.preprocessing.image import ImageDataGenerator\n",
    "data_dir = r\"/content/drive/MyDrive/after processing\"\n",
    "datagen = ImageDataGenerator(rescale=1./255, validation_split=0.2)  # إعادة قياس الصور وقسم البيانات\n",
    "train_generator = datagen.flow_from_directory(\n",
    "    data_dir,\n",
    "    target_size=(150, 150),\n",
    "    batch_size=32,\n",
    "    class_mode='binary',\n",
    "    subset='training'\n",
    ")\n",
    "validation_generator = datagen.flow_from_directory(\n",
    "    data_dir,\n",
    "    target_size=(150, 150),\n",
    "    batch_size=32,\n",
    "    class_mode='binary',\n",
    "    subset='validation'\n",
    ")"
   ]
  },
  {
   "cell_type": "code",
   "execution_count": 8,
   "id": "4d55cfdd-92b2-4b39-9e62-a184992ca1a6",
   "metadata": {
    "id": "4d55cfdd-92b2-4b39-9e62-a184992ca1a6"
   },
   "outputs": [],
   "source": [
    "import numpy as np\n",
    "X_train, y_train = [], []\n",
    "for i in range(len(train_generator)):\n",
    "    X_batch, y_batch = train_generator[i]\n",
    "    X_train.extend(X_batch)\n",
    "    y_train.extend(y_batch)\n",
    "X_train = np.array(X_train)\n",
    "y_train = np.array(y_train)\n",
    "X_val, y_val = [], []\n",
    "for i in range(len(validation_generator)):\n",
    "    X_batch, y_batch = validation_generator[i]\n",
    "    X_val.extend(X_batch)\n",
    "    y_val.extend(y_batch)\n",
    "X_val = np.array(X_val)\n",
    "y_val = np.array(y_val)"
   ]
  },
  {
   "cell_type": "code",
   "execution_count": 9,
   "id": "dff0bbf5-2d44-4d59-a72e-2460e8111bdb",
   "metadata": {
    "colab": {
     "base_uri": "https://localhost:8080/"
    },
    "id": "dff0bbf5-2d44-4d59-a72e-2460e8111bdb",
    "outputId": "a1535401-41a9-4bd1-edc1-acaf6dcf82f7"
   },
   "outputs": [
    {
     "name": "stdout",
     "output_type": "stream",
     "text": [
      "Collecting scikeras\n",
      "  Downloading scikeras-0.13.0-py3-none-any.whl.metadata (3.1 kB)\n",
      "Requirement already satisfied: keras>=3.2.0 in /usr/local/lib/python3.10/dist-packages (from scikeras) (3.5.0)\n",
      "Requirement already satisfied: scikit-learn>=1.4.2 in /usr/local/lib/python3.10/dist-packages (from scikeras) (1.5.2)\n",
      "Requirement already satisfied: absl-py in /usr/local/lib/python3.10/dist-packages (from keras>=3.2.0->scikeras) (1.4.0)\n",
      "Requirement already satisfied: numpy in /usr/local/lib/python3.10/dist-packages (from keras>=3.2.0->scikeras) (1.26.4)\n",
      "Requirement already satisfied: rich in /usr/local/lib/python3.10/dist-packages (from keras>=3.2.0->scikeras) (13.9.4)\n",
      "Requirement already satisfied: namex in /usr/local/lib/python3.10/dist-packages (from keras>=3.2.0->scikeras) (0.0.8)\n",
      "Requirement already satisfied: h5py in /usr/local/lib/python3.10/dist-packages (from keras>=3.2.0->scikeras) (3.12.1)\n",
      "Requirement already satisfied: optree in /usr/local/lib/python3.10/dist-packages (from keras>=3.2.0->scikeras) (0.13.1)\n",
      "Requirement already satisfied: ml-dtypes in /usr/local/lib/python3.10/dist-packages (from keras>=3.2.0->scikeras) (0.4.1)\n",
      "Requirement already satisfied: packaging in /usr/local/lib/python3.10/dist-packages (from keras>=3.2.0->scikeras) (24.2)\n",
      "Requirement already satisfied: scipy>=1.6.0 in /usr/local/lib/python3.10/dist-packages (from scikit-learn>=1.4.2->scikeras) (1.13.1)\n",
      "Requirement already satisfied: joblib>=1.2.0 in /usr/local/lib/python3.10/dist-packages (from scikit-learn>=1.4.2->scikeras) (1.4.2)\n",
      "Requirement already satisfied: threadpoolctl>=3.1.0 in /usr/local/lib/python3.10/dist-packages (from scikit-learn>=1.4.2->scikeras) (3.5.0)\n",
      "Requirement already satisfied: typing-extensions>=4.5.0 in /usr/local/lib/python3.10/dist-packages (from optree->keras>=3.2.0->scikeras) (4.12.2)\n",
      "Requirement already satisfied: markdown-it-py>=2.2.0 in /usr/local/lib/python3.10/dist-packages (from rich->keras>=3.2.0->scikeras) (3.0.0)\n",
      "Requirement already satisfied: pygments<3.0.0,>=2.13.0 in /usr/local/lib/python3.10/dist-packages (from rich->keras>=3.2.0->scikeras) (2.18.0)\n",
      "Requirement already satisfied: mdurl~=0.1 in /usr/local/lib/python3.10/dist-packages (from markdown-it-py>=2.2.0->rich->keras>=3.2.0->scikeras) (0.1.2)\n",
      "Downloading scikeras-0.13.0-py3-none-any.whl (26 kB)\n",
      "Installing collected packages: scikeras\n",
      "Successfully installed scikeras-0.13.0\n"
     ]
    }
   ],
   "source": [
    "!pip install scikeras\n",
    "from keras.optimizers import Adam\n",
    "from tensorflow.keras.models import Sequential\n",
    "from tensorflow.keras.layers import Conv2D, MaxPooling2D, Flatten, Dense\n",
    "from tensorflow.keras.layers import Dense, Dropout\n",
    "from scikeras.wrappers import KerasClassifier\n",
    "from sklearn.model_selection import GridSearchCV\n",
    "from tensorflow.keras.optimizers import Adam\n",
    "from tensorflow.keras.layers import Dense, Dropout\n",
    "from keras.callbacks import EarlyStopping\n",
    "from tensorflow.keras.callbacks import ModelCheckpoint, EarlyStopping, ReduceLROnPlateau"
   ]
  },
  {
   "cell_type": "code",
   "execution_count": 10,
   "id": "13bbb99f-0640-427d-850a-de61cf74b009",
   "metadata": {
    "id": "13bbb99f-0640-427d-850a-de61cf74b009"
   },
   "outputs": [],
   "source": [
    "\n",
    "X_train_flattened = X_train.reshape(X_train.shape[0], -1)\n",
    "X_test_flattened = X_val.reshape(X_val.shape[0], -1)\n"
   ]
  },
  {
   "cell_type": "markdown",
   "id": "8531e723-78f1-41bd-b307-16a7761edd9e",
   "metadata": {
    "id": "8531e723-78f1-41bd-b307-16a7761edd9e"
   },
   "source": [
    "## NN"
   ]
  },
  {
   "cell_type": "code",
   "execution_count": 12,
   "id": "ecaf3ebf-33b8-41b4-96dd-a9124e27b38b",
   "metadata": {
    "id": "ecaf3ebf-33b8-41b4-96dd-a9124e27b38b"
   },
   "outputs": [],
   "source": [
    "from tensorflow.keras.models import Sequential\n",
    "from tensorflow.keras.layers import Dense, Dropout\n",
    "from tensorflow.keras.optimizers import Adam\n",
    "from tensorflow.keras.callbacks import ReduceLROnPlateau, EarlyStopping, ModelCheckpoint\n",
    "from sklearn.metrics import classification_report\n",
    "def create_model():\n",
    "    model = Sequential()\n",
    "    model.add(Dense(units=128, activation='relu', input_shape=(150 * 150 * 3,)))\n",
    "    model.add(Dense(units=128, activation='relu'))\n",
    "    model.add(Dense(units=64, activation='relu'))\n",
    "    model.add(Dense(units=32, activation='relu'))\n",
    "    model.add(Dropout(0.3))\n",
    "    model.add(Dense(units=1, activation='sigmoid'))\n",
    "\n",
    "    model.compile(optimizer=Adam(learning_rate=0.0001),\n",
    "                  loss='binary_crossentropy',\n",
    "                  metrics=['accuracy'])\n",
    "    return model\n",
    "\n",
    "model = create_model()\n",
    "\n",
    "learning_rate_reduction = ReduceLROnPlateau(monitor='val_accuracy', patience=3, verbose=1, factor=0.5, min_lr=0.00001)\n",
    "early_stopping = EarlyStopping(monitor='val_loss', patience=10, verbose=1, restore_best_weights=True)\n",
    "checkpoint = ModelCheckpoint(\"ANN_model.keras\", monitor='val_accuracy', verbose=1, save_best_only=True, mode='max')"
   ]
  },
  {
   "cell_type": "code",
   "execution_count": 15,
   "id": "88e2e821-376b-4eab-b4fa-591697aaf37f",
   "metadata": {
    "colab": {
     "base_uri": "https://localhost:8080/"
    },
    "id": "88e2e821-376b-4eab-b4fa-591697aaf37f",
    "outputId": "ce9adacb-2411-4897-a8b2-f61cc68a5fda"
   },
   "outputs": [
    {
     "name": "stdout",
     "output_type": "stream",
     "text": [
      "Epoch 1/50\n",
      "\u001b[1m173/175\u001b[0m \u001b[32m━━━━━━━━━━━━━━━━━━━\u001b[0m\u001b[37m━\u001b[0m \u001b[1m0s\u001b[0m 7ms/step - accuracy: 0.9968 - loss: 0.0223\n",
      "Epoch 1: val_accuracy improved from 0.99282 to 0.99569, saving model to ANN_model.keras\n",
      "\u001b[1m175/175\u001b[0m \u001b[32m━━━━━━━━━━━━━━━━━━━━\u001b[0m\u001b[37m\u001b[0m \u001b[1m3s\u001b[0m 16ms/step - accuracy: 0.9968 - loss: 0.0224 - val_accuracy: 0.9957 - val_loss: 0.0430 - learning_rate: 1.0000e-05\n",
      "Epoch 2/50\n",
      "\u001b[1m172/175\u001b[0m \u001b[32m━━━━━━━━━━━━━━━━━━━\u001b[0m\u001b[37m━\u001b[0m \u001b[1m0s\u001b[0m 9ms/step - accuracy: 0.9959 - loss: 0.0258\n",
      "Epoch 2: val_accuracy did not improve from 0.99569\n",
      "\u001b[1m175/175\u001b[0m \u001b[32m━━━━━━━━━━━━━━━━━━━━\u001b[0m\u001b[37m\u001b[0m \u001b[1m4s\u001b[0m 11ms/step - accuracy: 0.9959 - loss: 0.0257 - val_accuracy: 0.9957 - val_loss: 0.0384 - learning_rate: 1.0000e-05\n",
      "Epoch 3/50\n",
      "\u001b[1m171/175\u001b[0m \u001b[32m━━━━━━━━━━━━━━━━━━━\u001b[0m\u001b[37m━\u001b[0m \u001b[1m0s\u001b[0m 8ms/step - accuracy: 0.9968 - loss: 0.0264\n",
      "Epoch 3: val_accuracy did not improve from 0.99569\n",
      "\u001b[1m175/175\u001b[0m \u001b[32m━━━━━━━━━━━━━━━━━━━━\u001b[0m\u001b[37m\u001b[0m \u001b[1m2s\u001b[0m 9ms/step - accuracy: 0.9968 - loss: 0.0262 - val_accuracy: 0.9943 - val_loss: 0.0388 - learning_rate: 1.0000e-05\n",
      "Epoch 4/50\n",
      "\u001b[1m171/175\u001b[0m \u001b[32m━━━━━━━━━━━━━━━━━━━\u001b[0m\u001b[37m━\u001b[0m \u001b[1m0s\u001b[0m 7ms/step - accuracy: 0.9976 - loss: 0.0220\n",
      "Epoch 4: val_accuracy did not improve from 0.99569\n",
      "\u001b[1m175/175\u001b[0m \u001b[32m━━━━━━━━━━━━━━━━━━━━\u001b[0m\u001b[37m\u001b[0m \u001b[1m2s\u001b[0m 9ms/step - accuracy: 0.9976 - loss: 0.0219 - val_accuracy: 0.9957 - val_loss: 0.0374 - learning_rate: 1.0000e-05\n",
      "Epoch 5/50\n",
      "\u001b[1m174/175\u001b[0m \u001b[32m━━━━━━━━━━━━━━━━━━━\u001b[0m\u001b[37m━\u001b[0m \u001b[1m0s\u001b[0m 7ms/step - accuracy: 0.9987 - loss: 0.0194\n",
      "Epoch 5: val_accuracy did not improve from 0.99569\n",
      "\u001b[1m175/175\u001b[0m \u001b[32m━━━━━━━━━━━━━━━━━━━━\u001b[0m\u001b[37m\u001b[0m \u001b[1m3s\u001b[0m 9ms/step - accuracy: 0.9987 - loss: 0.0194 - val_accuracy: 0.9957 - val_loss: 0.0363 - learning_rate: 1.0000e-05\n",
      "Epoch 6/50\n",
      "\u001b[1m168/175\u001b[0m \u001b[32m━━━━━━━━━━━━━━━━━━━\u001b[0m\u001b[37m━\u001b[0m \u001b[1m0s\u001b[0m 8ms/step - accuracy: 0.9986 - loss: 0.0195\n",
      "Epoch 6: val_accuracy did not improve from 0.99569\n",
      "\u001b[1m175/175\u001b[0m \u001b[32m━━━━━━━━━━━━━━━━━━━━\u001b[0m\u001b[37m\u001b[0m \u001b[1m2s\u001b[0m 10ms/step - accuracy: 0.9987 - loss: 0.0195 - val_accuracy: 0.9957 - val_loss: 0.0354 - learning_rate: 1.0000e-05\n",
      "Epoch 7/50\n",
      "\u001b[1m170/175\u001b[0m \u001b[32m━━━━━━━━━━━━━━━━━━━\u001b[0m\u001b[37m━\u001b[0m \u001b[1m0s\u001b[0m 9ms/step - accuracy: 0.9954 - loss: 0.0259\n",
      "Epoch 7: val_accuracy did not improve from 0.99569\n",
      "\u001b[1m175/175\u001b[0m \u001b[32m━━━━━━━━━━━━━━━━━━━━\u001b[0m\u001b[37m\u001b[0m \u001b[1m2s\u001b[0m 11ms/step - accuracy: 0.9954 - loss: 0.0259 - val_accuracy: 0.9957 - val_loss: 0.0348 - learning_rate: 1.0000e-05\n",
      "Epoch 8/50\n",
      "\u001b[1m168/175\u001b[0m \u001b[32m━━━━━━━━━━━━━━━━━━━\u001b[0m\u001b[37m━\u001b[0m \u001b[1m0s\u001b[0m 8ms/step - accuracy: 0.9967 - loss: 0.0226\n",
      "Epoch 8: val_accuracy did not improve from 0.99569\n",
      "\u001b[1m175/175\u001b[0m \u001b[32m━━━━━━━━━━━━━━━━━━━━\u001b[0m\u001b[37m\u001b[0m \u001b[1m2s\u001b[0m 10ms/step - accuracy: 0.9967 - loss: 0.0226 - val_accuracy: 0.9957 - val_loss: 0.0384 - learning_rate: 1.0000e-05\n",
      "Epoch 9/50\n",
      "\u001b[1m169/175\u001b[0m \u001b[32m━━━━━━━━━━━━━━━━━━━\u001b[0m\u001b[37m━\u001b[0m \u001b[1m0s\u001b[0m 7ms/step - accuracy: 0.9986 - loss: 0.0191\n",
      "Epoch 9: val_accuracy did not improve from 0.99569\n",
      "\u001b[1m175/175\u001b[0m \u001b[32m━━━━━━━━━━━━━━━━━━━━\u001b[0m\u001b[37m\u001b[0m \u001b[1m2s\u001b[0m 9ms/step - accuracy: 0.9986 - loss: 0.0190 - val_accuracy: 0.9957 - val_loss: 0.0327 - learning_rate: 1.0000e-05\n",
      "Epoch 10/50\n",
      "\u001b[1m167/175\u001b[0m \u001b[32m━━━━━━━━━━━━━━━━━━━\u001b[0m\u001b[37m━\u001b[0m \u001b[1m0s\u001b[0m 7ms/step - accuracy: 0.9990 - loss: 0.0161\n",
      "Epoch 10: val_accuracy did not improve from 0.99569\n",
      "\u001b[1m175/175\u001b[0m \u001b[32m━━━━━━━━━━━━━━━━━━━━\u001b[0m\u001b[37m\u001b[0m \u001b[1m2s\u001b[0m 9ms/step - accuracy: 0.9989 - loss: 0.0162 - val_accuracy: 0.9957 - val_loss: 0.0315 - learning_rate: 1.0000e-05\n",
      "Epoch 11/50\n",
      "\u001b[1m170/175\u001b[0m \u001b[32m━━━━━━━━━━━━━━━━━━━\u001b[0m\u001b[37m━\u001b[0m \u001b[1m0s\u001b[0m 7ms/step - accuracy: 0.9987 - loss: 0.0181\n",
      "Epoch 11: val_accuracy did not improve from 0.99569\n",
      "\u001b[1m175/175\u001b[0m \u001b[32m━━━━━━━━━━━━━━━━━━━━\u001b[0m\u001b[37m\u001b[0m \u001b[1m2s\u001b[0m 9ms/step - accuracy: 0.9987 - loss: 0.0181 - val_accuracy: 0.9957 - val_loss: 0.0307 - learning_rate: 1.0000e-05\n",
      "Epoch 12/50\n",
      "\u001b[1m172/175\u001b[0m \u001b[32m━━━━━━━━━━━━━━━━━━━\u001b[0m\u001b[37m━\u001b[0m \u001b[1m0s\u001b[0m 7ms/step - accuracy: 0.9987 - loss: 0.0165\n",
      "Epoch 12: val_accuracy did not improve from 0.99569\n",
      "\u001b[1m175/175\u001b[0m \u001b[32m━━━━━━━━━━━━━━━━━━━━\u001b[0m\u001b[37m\u001b[0m \u001b[1m2s\u001b[0m 8ms/step - accuracy: 0.9987 - loss: 0.0165 - val_accuracy: 0.9935 - val_loss: 0.0443 - learning_rate: 1.0000e-05\n",
      "Epoch 13/50\n",
      "\u001b[1m171/175\u001b[0m \u001b[32m━━━━━━━━━━━━━━━━━━━\u001b[0m\u001b[37m━\u001b[0m \u001b[1m0s\u001b[0m 7ms/step - accuracy: 0.9987 - loss: 0.0175\n",
      "Epoch 13: val_accuracy did not improve from 0.99569\n",
      "\u001b[1m175/175\u001b[0m \u001b[32m━━━━━━━━━━━━━━━━━━━━\u001b[0m\u001b[37m\u001b[0m \u001b[1m1s\u001b[0m 8ms/step - accuracy: 0.9987 - loss: 0.0174 - val_accuracy: 0.9943 - val_loss: 0.0397 - learning_rate: 1.0000e-05\n",
      "Epoch 14/50\n",
      "\u001b[1m174/175\u001b[0m \u001b[32m━━━━━━━━━━━━━━━━━━━\u001b[0m\u001b[37m━\u001b[0m \u001b[1m0s\u001b[0m 11ms/step - accuracy: 0.9986 - loss: 0.0173\n",
      "Epoch 14: val_accuracy did not improve from 0.99569\n",
      "\u001b[1m175/175\u001b[0m \u001b[32m━━━━━━━━━━━━━━━━━━━━\u001b[0m\u001b[37m\u001b[0m \u001b[1m3s\u001b[0m 13ms/step - accuracy: 0.9986 - loss: 0.0173 - val_accuracy: 0.9957 - val_loss: 0.0297 - learning_rate: 1.0000e-05\n",
      "Epoch 15/50\n",
      "\u001b[1m172/175\u001b[0m \u001b[32m━━━━━━━━━━━━━━━━━━━\u001b[0m\u001b[37m━\u001b[0m \u001b[1m0s\u001b[0m 15ms/step - accuracy: 0.9962 - loss: 0.0231\n",
      "Epoch 15: val_accuracy did not improve from 0.99569\n",
      "\u001b[1m175/175\u001b[0m \u001b[32m━━━━━━━━━━━━━━━━━━━━\u001b[0m\u001b[37m\u001b[0m \u001b[1m3s\u001b[0m 19ms/step - accuracy: 0.9962 - loss: 0.0231 - val_accuracy: 0.9943 - val_loss: 0.0392 - learning_rate: 1.0000e-05\n",
      "Epoch 16/50\n",
      "\u001b[1m172/175\u001b[0m \u001b[32m━━━━━━━━━━━━━━━━━━━\u001b[0m\u001b[37m━\u001b[0m \u001b[1m0s\u001b[0m 14ms/step - accuracy: 0.9983 - loss: 0.0174\n",
      "Epoch 16: val_accuracy did not improve from 0.99569\n",
      "\u001b[1m175/175\u001b[0m \u001b[32m━━━━━━━━━━━━━━━━━━━━\u001b[0m\u001b[37m\u001b[0m \u001b[1m3s\u001b[0m 18ms/step - accuracy: 0.9984 - loss: 0.0173 - val_accuracy: 0.9957 - val_loss: 0.0279 - learning_rate: 1.0000e-05\n",
      "Epoch 17/50\n",
      "\u001b[1m173/175\u001b[0m \u001b[32m━━━━━━━━━━━━━━━━━━━\u001b[0m\u001b[37m━\u001b[0m \u001b[1m0s\u001b[0m 12ms/step - accuracy: 0.9991 - loss: 0.0135\n",
      "Epoch 17: val_accuracy did not improve from 0.99569\n",
      "\u001b[1m175/175\u001b[0m \u001b[32m━━━━━━━━━━━━━━━━━━━━\u001b[0m\u001b[37m\u001b[0m \u001b[1m3s\u001b[0m 14ms/step - accuracy: 0.9991 - loss: 0.0135 - val_accuracy: 0.9957 - val_loss: 0.0266 - learning_rate: 1.0000e-05\n",
      "Epoch 18/50\n",
      "\u001b[1m168/175\u001b[0m \u001b[32m━━━━━━━━━━━━━━━━━━━\u001b[0m\u001b[37m━\u001b[0m \u001b[1m0s\u001b[0m 7ms/step - accuracy: 0.9983 - loss: 0.0164\n",
      "Epoch 18: val_accuracy did not improve from 0.99569\n",
      "\u001b[1m175/175\u001b[0m \u001b[32m━━━━━━━━━━━━━━━━━━━━\u001b[0m\u001b[37m\u001b[0m \u001b[1m2s\u001b[0m 9ms/step - accuracy: 0.9983 - loss: 0.0165 - val_accuracy: 0.9957 - val_loss: 0.0343 - learning_rate: 1.0000e-05\n",
      "Epoch 19/50\n",
      "\u001b[1m170/175\u001b[0m \u001b[32m━━━━━━━━━━━━━━━━━━━\u001b[0m\u001b[37m━\u001b[0m \u001b[1m0s\u001b[0m 7ms/step - accuracy: 0.9953 - loss: 0.0224\n",
      "Epoch 19: val_accuracy did not improve from 0.99569\n",
      "\u001b[1m175/175\u001b[0m \u001b[32m━━━━━━━━━━━━━━━━━━━━\u001b[0m\u001b[37m\u001b[0m \u001b[1m3s\u001b[0m 9ms/step - accuracy: 0.9954 - loss: 0.0221 - val_accuracy: 0.9957 - val_loss: 0.0276 - learning_rate: 1.0000e-05\n",
      "Epoch 20/50\n",
      "\u001b[1m167/175\u001b[0m \u001b[32m━━━━━━━━━━━━━━━━━━━\u001b[0m\u001b[37m━\u001b[0m \u001b[1m0s\u001b[0m 8ms/step - accuracy: 0.9978 - loss: 0.0161\n",
      "Epoch 20: val_accuracy improved from 0.99569 to 0.99713, saving model to ANN_model.keras\n",
      "\u001b[1m175/175\u001b[0m \u001b[32m━━━━━━━━━━━━━━━━━━━━\u001b[0m\u001b[37m\u001b[0m \u001b[1m3s\u001b[0m 13ms/step - accuracy: 0.9978 - loss: 0.0160 - val_accuracy: 0.9971 - val_loss: 0.0236 - learning_rate: 1.0000e-05\n",
      "Epoch 21/50\n",
      "\u001b[1m175/175\u001b[0m \u001b[32m━━━━━━━━━━━━━━━━━━━━\u001b[0m\u001b[37m\u001b[0m \u001b[1m0s\u001b[0m 8ms/step - accuracy: 0.9990 - loss: 0.0117\n",
      "Epoch 21: val_accuracy did not improve from 0.99713\n",
      "\u001b[1m175/175\u001b[0m \u001b[32m━━━━━━━━━━━━━━━━━━━━\u001b[0m\u001b[37m\u001b[0m \u001b[1m2s\u001b[0m 10ms/step - accuracy: 0.9990 - loss: 0.0117 - val_accuracy: 0.9957 - val_loss: 0.0287 - learning_rate: 1.0000e-05\n",
      "Epoch 22/50\n",
      "\u001b[1m174/175\u001b[0m \u001b[32m━━━━━━━━━━━━━━━━━━━\u001b[0m\u001b[37m━\u001b[0m \u001b[1m0s\u001b[0m 8ms/step - accuracy: 0.9993 - loss: 0.0105\n",
      "Epoch 22: val_accuracy did not improve from 0.99713\n",
      "\u001b[1m175/175\u001b[0m \u001b[32m━━━━━━━━━━━━━━━━━━━━\u001b[0m\u001b[37m\u001b[0m \u001b[1m2s\u001b[0m 10ms/step - accuracy: 0.9993 - loss: 0.0106 - val_accuracy: 0.9971 - val_loss: 0.0215 - learning_rate: 1.0000e-05\n",
      "Epoch 23/50\n",
      "\u001b[1m170/175\u001b[0m \u001b[32m━━━━━━━━━━━━━━━━━━━\u001b[0m\u001b[37m━\u001b[0m \u001b[1m0s\u001b[0m 7ms/step - accuracy: 0.9991 - loss: 0.0123\n",
      "Epoch 23: val_accuracy did not improve from 0.99713\n",
      "\u001b[1m175/175\u001b[0m \u001b[32m━━━━━━━━━━━━━━━━━━━━\u001b[0m\u001b[37m\u001b[0m \u001b[1m2s\u001b[0m 9ms/step - accuracy: 0.9991 - loss: 0.0122 - val_accuracy: 0.9971 - val_loss: 0.0217 - learning_rate: 1.0000e-05\n",
      "Epoch 24/50\n",
      "\u001b[1m169/175\u001b[0m \u001b[32m━━━━━━━━━━━━━━━━━━━\u001b[0m\u001b[37m━\u001b[0m \u001b[1m0s\u001b[0m 7ms/step - accuracy: 0.9992 - loss: 0.0127\n",
      "Epoch 24: val_accuracy did not improve from 0.99713\n",
      "\u001b[1m175/175\u001b[0m \u001b[32m━━━━━━━━━━━━━━━━━━━━\u001b[0m\u001b[37m\u001b[0m \u001b[1m2s\u001b[0m 8ms/step - accuracy: 0.9992 - loss: 0.0128 - val_accuracy: 0.9971 - val_loss: 0.0262 - learning_rate: 1.0000e-05\n",
      "Epoch 25/50\n",
      "\u001b[1m167/175\u001b[0m \u001b[32m━━━━━━━━━━━━━━━━━━━\u001b[0m\u001b[37m━\u001b[0m \u001b[1m0s\u001b[0m 7ms/step - accuracy: 0.9977 - loss: 0.0144\n",
      "Epoch 25: val_accuracy did not improve from 0.99713\n",
      "\u001b[1m175/175\u001b[0m \u001b[32m━━━━━━━━━━━━━━━━━━━━\u001b[0m\u001b[37m\u001b[0m \u001b[1m3s\u001b[0m 9ms/step - accuracy: 0.9978 - loss: 0.0143 - val_accuracy: 0.9971 - val_loss: 0.0195 - learning_rate: 1.0000e-05\n",
      "Epoch 26/50\n",
      "\u001b[1m169/175\u001b[0m \u001b[32m━━━━━━━━━━━━━━━━━━━\u001b[0m\u001b[37m━\u001b[0m \u001b[1m0s\u001b[0m 7ms/step - accuracy: 0.9990 - loss: 0.0099\n",
      "Epoch 26: val_accuracy did not improve from 0.99713\n",
      "\u001b[1m175/175\u001b[0m \u001b[32m━━━━━━━━━━━━━━━━━━━━\u001b[0m\u001b[37m\u001b[0m \u001b[1m2s\u001b[0m 9ms/step - accuracy: 0.9990 - loss: 0.0100 - val_accuracy: 0.9971 - val_loss: 0.0185 - learning_rate: 1.0000e-05\n",
      "Epoch 27/50\n",
      "\u001b[1m170/175\u001b[0m \u001b[32m━━━━━━━━━━━━━━━━━━━\u001b[0m\u001b[37m━\u001b[0m \u001b[1m0s\u001b[0m 7ms/step - accuracy: 0.9996 - loss: 0.0089\n",
      "Epoch 27: val_accuracy improved from 0.99713 to 0.99856, saving model to ANN_model.keras\n",
      "\u001b[1m175/175\u001b[0m \u001b[32m━━━━━━━━━━━━━━━━━━━━\u001b[0m\u001b[37m\u001b[0m \u001b[1m2s\u001b[0m 12ms/step - accuracy: 0.9996 - loss: 0.0089 - val_accuracy: 0.9986 - val_loss: 0.0158 - learning_rate: 1.0000e-05\n",
      "Epoch 28/50\n",
      "\u001b[1m174/175\u001b[0m \u001b[32m━━━━━━━━━━━━━━━━━━━\u001b[0m\u001b[37m━\u001b[0m \u001b[1m0s\u001b[0m 8ms/step - accuracy: 0.9985 - loss: 0.0118\n",
      "Epoch 28: val_accuracy did not improve from 0.99856\n",
      "\u001b[1m175/175\u001b[0m \u001b[32m━━━━━━━━━━━━━━━━━━━━\u001b[0m\u001b[37m\u001b[0m \u001b[1m2s\u001b[0m 10ms/step - accuracy: 0.9985 - loss: 0.0118 - val_accuracy: 0.9971 - val_loss: 0.0165 - learning_rate: 1.0000e-05\n",
      "Epoch 29/50\n",
      "\u001b[1m171/175\u001b[0m \u001b[32m━━━━━━━━━━━━━━━━━━━\u001b[0m\u001b[37m━\u001b[0m \u001b[1m0s\u001b[0m 8ms/step - accuracy: 0.9992 - loss: 0.0112\n",
      "Epoch 29: val_accuracy did not improve from 0.99856\n",
      "\u001b[1m175/175\u001b[0m \u001b[32m━━━━━━━━━━━━━━━━━━━━\u001b[0m\u001b[37m\u001b[0m \u001b[1m3s\u001b[0m 10ms/step - accuracy: 0.9992 - loss: 0.0111 - val_accuracy: 0.9986 - val_loss: 0.0143 - learning_rate: 1.0000e-05\n",
      "Epoch 30/50\n",
      "\u001b[1m170/175\u001b[0m \u001b[32m━━━━━━━━━━━━━━━━━━━\u001b[0m\u001b[37m━\u001b[0m \u001b[1m0s\u001b[0m 7ms/step - accuracy: 0.9994 - loss: 0.0079\n",
      "Epoch 30: val_accuracy did not improve from 0.99856\n",
      "\u001b[1m175/175\u001b[0m \u001b[32m━━━━━━━━━━━━━━━━━━━━\u001b[0m\u001b[37m\u001b[0m \u001b[1m2s\u001b[0m 9ms/step - accuracy: 0.9994 - loss: 0.0079 - val_accuracy: 0.9986 - val_loss: 0.0141 - learning_rate: 1.0000e-05\n",
      "Epoch 31/50\n",
      "\u001b[1m171/175\u001b[0m \u001b[32m━━━━━━━━━━━━━━━━━━━\u001b[0m\u001b[37m━\u001b[0m \u001b[1m0s\u001b[0m 7ms/step - accuracy: 0.9997 - loss: 0.0068\n",
      "Epoch 31: val_accuracy did not improve from 0.99856\n",
      "\u001b[1m175/175\u001b[0m \u001b[32m━━━━━━━━━━━━━━━━━━━━\u001b[0m\u001b[37m\u001b[0m \u001b[1m2s\u001b[0m 9ms/step - accuracy: 0.9997 - loss: 0.0068 - val_accuracy: 0.9986 - val_loss: 0.0141 - learning_rate: 1.0000e-05\n",
      "Epoch 32/50\n",
      "\u001b[1m172/175\u001b[0m \u001b[32m━━━━━━━━━━━━━━━━━━━\u001b[0m\u001b[37m━\u001b[0m \u001b[1m0s\u001b[0m 7ms/step - accuracy: 0.9977 - loss: 0.0122\n",
      "Epoch 32: val_accuracy did not improve from 0.99856\n",
      "\u001b[1m175/175\u001b[0m \u001b[32m━━━━━━━━━━━━━━━━━━━━\u001b[0m\u001b[37m\u001b[0m \u001b[1m1s\u001b[0m 8ms/step - accuracy: 0.9976 - loss: 0.0122 - val_accuracy: 0.9986 - val_loss: 0.0136 - learning_rate: 1.0000e-05\n",
      "Epoch 33/50\n",
      "\u001b[1m167/175\u001b[0m \u001b[32m━━━━━━━━━━━━━━━━━━━\u001b[0m\u001b[37m━\u001b[0m \u001b[1m0s\u001b[0m 7ms/step - accuracy: 0.9998 - loss: 0.0064\n",
      "Epoch 33: val_accuracy did not improve from 0.99856\n",
      "\u001b[1m175/175\u001b[0m \u001b[32m━━━━━━━━━━━━━━━━━━━━\u001b[0m\u001b[37m\u001b[0m \u001b[1m2s\u001b[0m 9ms/step - accuracy: 0.9998 - loss: 0.0064 - val_accuracy: 0.9986 - val_loss: 0.0105 - learning_rate: 1.0000e-05\n",
      "Epoch 34/50\n",
      "\u001b[1m169/175\u001b[0m \u001b[32m━━━━━━━━━━━━━━━━━━━\u001b[0m\u001b[37m━\u001b[0m \u001b[1m0s\u001b[0m 7ms/step - accuracy: 0.9998 - loss: 0.0067\n",
      "Epoch 34: val_accuracy did not improve from 0.99856\n",
      "\u001b[1m175/175\u001b[0m \u001b[32m━━━━━━━━━━━━━━━━━━━━\u001b[0m\u001b[37m\u001b[0m \u001b[1m2s\u001b[0m 9ms/step - accuracy: 0.9998 - loss: 0.0067 - val_accuracy: 0.9986 - val_loss: 0.0099 - learning_rate: 1.0000e-05\n",
      "Epoch 35/50\n",
      "\u001b[1m172/175\u001b[0m \u001b[32m━━━━━━━━━━━━━━━━━━━\u001b[0m\u001b[37m━\u001b[0m \u001b[1m0s\u001b[0m 8ms/step - accuracy: 0.9995 - loss: 0.0072\n",
      "Epoch 35: val_accuracy did not improve from 0.99856\n",
      "\u001b[1m175/175\u001b[0m \u001b[32m━━━━━━━━━━━━━━━━━━━━\u001b[0m\u001b[37m\u001b[0m \u001b[1m3s\u001b[0m 10ms/step - accuracy: 0.9995 - loss: 0.0072 - val_accuracy: 0.9986 - val_loss: 0.0109 - learning_rate: 1.0000e-05\n",
      "Epoch 36/50\n",
      "\u001b[1m172/175\u001b[0m \u001b[32m━━━━━━━━━━━━━━━━━━━\u001b[0m\u001b[37m━\u001b[0m \u001b[1m0s\u001b[0m 7ms/step - accuracy: 0.9992 - loss: 0.0086\n",
      "Epoch 36: val_accuracy did not improve from 0.99856\n",
      "\u001b[1m175/175\u001b[0m \u001b[32m━━━━━━━━━━━━━━━━━━━━\u001b[0m\u001b[37m\u001b[0m \u001b[1m2s\u001b[0m 9ms/step - accuracy: 0.9992 - loss: 0.0085 - val_accuracy: 0.9986 - val_loss: 0.0087 - learning_rate: 1.0000e-05\n",
      "Epoch 37/50\n",
      "\u001b[1m169/175\u001b[0m \u001b[32m━━━━━━━━━━━━━━━━━━━\u001b[0m\u001b[37m━\u001b[0m \u001b[1m0s\u001b[0m 7ms/step - accuracy: 0.9998 - loss: 0.0058\n",
      "Epoch 37: val_accuracy did not improve from 0.99856\n",
      "\u001b[1m175/175\u001b[0m \u001b[32m━━━━━━━━━━━━━━━━━━━━\u001b[0m\u001b[37m\u001b[0m \u001b[1m3s\u001b[0m 9ms/step - accuracy: 0.9998 - loss: 0.0058 - val_accuracy: 0.9978 - val_loss: 0.0082 - learning_rate: 1.0000e-05\n",
      "Epoch 38/50\n",
      "\u001b[1m167/175\u001b[0m \u001b[32m━━━━━━━━━━━━━━━━━━━\u001b[0m\u001b[37m━\u001b[0m \u001b[1m0s\u001b[0m 7ms/step - accuracy: 0.9993 - loss: 0.0067\n",
      "Epoch 38: val_accuracy improved from 0.99856 to 1.00000, saving model to ANN_model.keras\n",
      "\u001b[1m175/175\u001b[0m \u001b[32m━━━━━━━━━━━━━━━━━━━━\u001b[0m\u001b[37m\u001b[0m \u001b[1m3s\u001b[0m 12ms/step - accuracy: 0.9992 - loss: 0.0068 - val_accuracy: 1.0000 - val_loss: 0.0047 - learning_rate: 1.0000e-05\n",
      "Epoch 39/50\n",
      "\u001b[1m167/175\u001b[0m \u001b[32m━━━━━━━━━━━━━━━━━━━\u001b[0m\u001b[37m━\u001b[0m \u001b[1m0s\u001b[0m 7ms/step - accuracy: 0.9992 - loss: 0.0065\n",
      "Epoch 39: val_accuracy did not improve from 1.00000\n",
      "\u001b[1m175/175\u001b[0m \u001b[32m━━━━━━━━━━━━━━━━━━━━\u001b[0m\u001b[37m\u001b[0m \u001b[1m2s\u001b[0m 9ms/step - accuracy: 0.9991 - loss: 0.0068 - val_accuracy: 1.0000 - val_loss: 0.0113 - learning_rate: 1.0000e-05\n",
      "Epoch 40/50\n",
      "\u001b[1m170/175\u001b[0m \u001b[32m━━━━━━━━━━━━━━━━━━━\u001b[0m\u001b[37m━\u001b[0m \u001b[1m0s\u001b[0m 8ms/step - accuracy: 0.9999 - loss: 0.0054\n",
      "Epoch 40: val_accuracy did not improve from 1.00000\n",
      "\u001b[1m175/175\u001b[0m \u001b[32m━━━━━━━━━━━━━━━━━━━━\u001b[0m\u001b[37m\u001b[0m \u001b[1m2s\u001b[0m 10ms/step - accuracy: 0.9999 - loss: 0.0054 - val_accuracy: 1.0000 - val_loss: 0.0114 - learning_rate: 1.0000e-05\n",
      "Epoch 41/50\n",
      "\u001b[1m173/175\u001b[0m \u001b[32m━━━━━━━━━━━━━━━━━━━\u001b[0m\u001b[37m━\u001b[0m \u001b[1m0s\u001b[0m 8ms/step - accuracy: 1.0000 - loss: 0.0062\n",
      "Epoch 41: val_accuracy did not improve from 1.00000\n",
      "\u001b[1m175/175\u001b[0m \u001b[32m━━━━━━━━━━━━━━━━━━━━\u001b[0m\u001b[37m\u001b[0m \u001b[1m3s\u001b[0m 10ms/step - accuracy: 1.0000 - loss: 0.0062 - val_accuracy: 1.0000 - val_loss: 0.0038 - learning_rate: 1.0000e-05\n",
      "Epoch 42/50\n",
      "\u001b[1m174/175\u001b[0m \u001b[32m━━━━━━━━━━━━━━━━━━━\u001b[0m\u001b[37m━\u001b[0m \u001b[1m0s\u001b[0m 7ms/step - accuracy: 1.0000 - loss: 0.0037\n",
      "Epoch 42: val_accuracy did not improve from 1.00000\n",
      "\u001b[1m175/175\u001b[0m \u001b[32m━━━━━━━━━━━━━━━━━━━━\u001b[0m\u001b[37m\u001b[0m \u001b[1m2s\u001b[0m 9ms/step - accuracy: 1.0000 - loss: 0.0037 - val_accuracy: 1.0000 - val_loss: 0.0038 - learning_rate: 1.0000e-05\n",
      "Epoch 43/50\n",
      "\u001b[1m171/175\u001b[0m \u001b[32m━━━━━━━━━━━━━━━━━━━\u001b[0m\u001b[37m━\u001b[0m \u001b[1m0s\u001b[0m 7ms/step - accuracy: 0.9999 - loss: 0.0049\n",
      "Epoch 43: val_accuracy did not improve from 1.00000\n",
      "\u001b[1m175/175\u001b[0m \u001b[32m━━━━━━━━━━━━━━━━━━━━\u001b[0m\u001b[37m\u001b[0m \u001b[1m2s\u001b[0m 9ms/step - accuracy: 0.9999 - loss: 0.0049 - val_accuracy: 1.0000 - val_loss: 0.0045 - learning_rate: 1.0000e-05\n",
      "Epoch 44/50\n",
      "\u001b[1m168/175\u001b[0m \u001b[32m━━━━━━━━━━━━━━━━━━━\u001b[0m\u001b[37m━\u001b[0m \u001b[1m0s\u001b[0m 7ms/step - accuracy: 1.0000 - loss: 0.0043\n",
      "Epoch 44: val_accuracy did not improve from 1.00000\n",
      "\u001b[1m175/175\u001b[0m \u001b[32m━━━━━━━━━━━━━━━━━━━━\u001b[0m\u001b[37m\u001b[0m \u001b[1m2s\u001b[0m 9ms/step - accuracy: 1.0000 - loss: 0.0043 - val_accuracy: 1.0000 - val_loss: 0.0034 - learning_rate: 1.0000e-05\n",
      "Epoch 45/50\n",
      "\u001b[1m171/175\u001b[0m \u001b[32m━━━━━━━━━━━━━━━━━━━\u001b[0m\u001b[37m━\u001b[0m \u001b[1m0s\u001b[0m 7ms/step - accuracy: 0.9998 - loss: 0.0047\n",
      "Epoch 45: val_accuracy did not improve from 1.00000\n",
      "\u001b[1m175/175\u001b[0m \u001b[32m━━━━━━━━━━━━━━━━━━━━\u001b[0m\u001b[37m\u001b[0m \u001b[1m2s\u001b[0m 9ms/step - accuracy: 0.9998 - loss: 0.0047 - val_accuracy: 1.0000 - val_loss: 0.0031 - learning_rate: 1.0000e-05\n",
      "Epoch 46/50\n",
      "\u001b[1m169/175\u001b[0m \u001b[32m━━━━━━━━━━━━━━━━━━━\u001b[0m\u001b[37m━\u001b[0m \u001b[1m0s\u001b[0m 7ms/step - accuracy: 1.0000 - loss: 0.0034\n",
      "Epoch 46: val_accuracy did not improve from 1.00000\n",
      "\u001b[1m175/175\u001b[0m \u001b[32m━━━━━━━━━━━━━━━━━━━━\u001b[0m\u001b[37m\u001b[0m \u001b[1m3s\u001b[0m 9ms/step - accuracy: 1.0000 - loss: 0.0034 - val_accuracy: 1.0000 - val_loss: 0.0040 - learning_rate: 1.0000e-05\n",
      "Epoch 47/50\n",
      "\u001b[1m174/175\u001b[0m \u001b[32m━━━━━━━━━━━━━━━━━━━\u001b[0m\u001b[37m━\u001b[0m \u001b[1m0s\u001b[0m 7ms/step - accuracy: 0.9999 - loss: 0.0036\n",
      "Epoch 47: val_accuracy did not improve from 1.00000\n",
      "\u001b[1m175/175\u001b[0m \u001b[32m━━━━━━━━━━━━━━━━━━━━\u001b[0m\u001b[37m\u001b[0m \u001b[1m3s\u001b[0m 9ms/step - accuracy: 0.9999 - loss: 0.0036 - val_accuracy: 1.0000 - val_loss: 0.0031 - learning_rate: 1.0000e-05\n",
      "Epoch 48/50\n",
      "\u001b[1m168/175\u001b[0m \u001b[32m━━━━━━━━━━━━━━━━━━━\u001b[0m\u001b[37m━\u001b[0m \u001b[1m0s\u001b[0m 7ms/step - accuracy: 1.0000 - loss: 0.0030\n",
      "Epoch 48: val_accuracy did not improve from 1.00000\n",
      "\u001b[1m175/175\u001b[0m \u001b[32m━━━━━━━━━━━━━━━━━━━━\u001b[0m\u001b[37m\u001b[0m \u001b[1m3s\u001b[0m 9ms/step - accuracy: 1.0000 - loss: 0.0030 - val_accuracy: 1.0000 - val_loss: 0.0025 - learning_rate: 1.0000e-05\n",
      "Epoch 49/50\n",
      "\u001b[1m169/175\u001b[0m \u001b[32m━━━━━━━━━━━━━━━━━━━\u001b[0m\u001b[37m━\u001b[0m \u001b[1m0s\u001b[0m 7ms/step - accuracy: 0.9999 - loss: 0.0042\n",
      "Epoch 49: val_accuracy did not improve from 1.00000\n",
      "\u001b[1m175/175\u001b[0m \u001b[32m━━━━━━━━━━━━━━━━━━━━\u001b[0m\u001b[37m\u001b[0m \u001b[1m2s\u001b[0m 9ms/step - accuracy: 0.9998 - loss: 0.0043 - val_accuracy: 0.9899 - val_loss: 0.0257 - learning_rate: 1.0000e-05\n",
      "Epoch 50/50\n",
      "\u001b[1m169/175\u001b[0m \u001b[32m━━━━━━━━━━━━━━━━━━━\u001b[0m\u001b[37m━\u001b[0m \u001b[1m0s\u001b[0m 7ms/step - accuracy: 0.9994 - loss: 0.0052\n",
      "Epoch 50: val_accuracy did not improve from 1.00000\n",
      "\u001b[1m175/175\u001b[0m \u001b[32m━━━━━━━━━━━━━━━━━━━━\u001b[0m\u001b[37m\u001b[0m \u001b[1m3s\u001b[0m 9ms/step - accuracy: 0.9994 - loss: 0.0051 - val_accuracy: 1.0000 - val_loss: 0.0025 - learning_rate: 1.0000e-05\n",
      "Restoring model weights from the end of the best epoch: 50.\n",
      "\u001b[1m44/44\u001b[0m \u001b[32m━━━━━━━━━━━━━━━━━━━━\u001b[0m\u001b[37m\u001b[0m \u001b[1m0s\u001b[0m 5ms/step\n",
      "Classification Report:\n",
      "               precision    recall  f1-score   support\n",
      "\n",
      "         0.0       1.00      1.00      1.00       697\n",
      "         1.0       1.00      1.00      1.00       696\n",
      "\n",
      "    accuracy                           1.00      1393\n",
      "   macro avg       1.00      1.00      1.00      1393\n",
      "weighted avg       1.00      1.00      1.00      1393\n",
      "\n"
     ]
    }
   ],
   "source": [
    "history = model.fit(\n",
    "    X_train_flattened, y_train,\n",
    "    batch_size=32,\n",
    "    epochs=50,\n",
    "    validation_data=(X_test_flattened, y_val),\n",
    "    callbacks=[checkpoint, early_stopping, learning_rate_reduction]\n",
    ")\n",
    "y_pred = (model.predict(X_test_flattened) > 0.5).astype(\"int32\")\n",
    "print('Classification Report:\\n', classification_report(y_val, y_pred))"
   ]
  },
  {
   "cell_type": "code",
   "execution_count": 16,
   "id": "7b7524e6-82ec-40ba-99b4-38ba5f0c14c2",
   "metadata": {
    "colab": {
     "base_uri": "https://localhost:8080/",
     "height": 759
    },
    "id": "7b7524e6-82ec-40ba-99b4-38ba5f0c14c2",
    "outputId": "d1b53028-e174-4ca8-de68-31571ff57b53"
   },
   "outputs": [
    {
     "ename": "TypeError",
     "evalue": "_process_plot_var_args.__call__() got multiple values for argument 'axes'",
     "output_type": "error",
     "traceback": [
      "\u001b[0;31m---------------------------------------------------------------------------\u001b[0m",
      "\u001b[0;31mTypeError\u001b[0m                                 Traceback (most recent call last)",
      "\u001b[0;32m<ipython-input-16-4a41e1909a6c>\u001b[0m in \u001b[0;36m<cell line: 3>\u001b[0;34m()\u001b[0m\n\u001b[1;32m      1\u001b[0m \u001b[0mfig\u001b[0m\u001b[0;34m,\u001b[0m \u001b[0max\u001b[0m \u001b[0;34m=\u001b[0m \u001b[0mplt\u001b[0m\u001b[0;34m.\u001b[0m\u001b[0msubplots\u001b[0m\u001b[0;34m(\u001b[0m\u001b[0;36m2\u001b[0m\u001b[0;34m,\u001b[0m\u001b[0;36m1\u001b[0m\u001b[0;34m)\u001b[0m\u001b[0;34m\u001b[0m\u001b[0;34m\u001b[0m\u001b[0m\n\u001b[1;32m      2\u001b[0m \u001b[0max\u001b[0m\u001b[0;34m[\u001b[0m\u001b[0;36m0\u001b[0m\u001b[0;34m]\u001b[0m\u001b[0;34m.\u001b[0m\u001b[0mplot\u001b[0m\u001b[0;34m(\u001b[0m\u001b[0mhistory\u001b[0m\u001b[0;34m.\u001b[0m\u001b[0mhistory\u001b[0m\u001b[0;34m[\u001b[0m\u001b[0;34m'loss'\u001b[0m\u001b[0;34m]\u001b[0m\u001b[0;34m,\u001b[0m \u001b[0mcolor\u001b[0m\u001b[0;34m=\u001b[0m\u001b[0;34m'b'\u001b[0m\u001b[0;34m,\u001b[0m \u001b[0mlabel\u001b[0m\u001b[0;34m=\u001b[0m\u001b[0;34m\"Training loss\"\u001b[0m\u001b[0;34m)\u001b[0m\u001b[0;34m\u001b[0m\u001b[0;34m\u001b[0m\u001b[0m\n\u001b[0;32m----> 3\u001b[0;31m \u001b[0max\u001b[0m\u001b[0;34m[\u001b[0m\u001b[0;36m0\u001b[0m\u001b[0;34m]\u001b[0m\u001b[0;34m.\u001b[0m\u001b[0mplot\u001b[0m\u001b[0;34m(\u001b[0m\u001b[0mhistory\u001b[0m\u001b[0;34m.\u001b[0m\u001b[0mhistory\u001b[0m\u001b[0;34m[\u001b[0m\u001b[0;34m'val_loss'\u001b[0m\u001b[0;34m]\u001b[0m\u001b[0;34m,\u001b[0m \u001b[0mcolor\u001b[0m\u001b[0;34m=\u001b[0m\u001b[0;34m'r'\u001b[0m\u001b[0;34m,\u001b[0m \u001b[0mlabel\u001b[0m\u001b[0;34m=\u001b[0m\u001b[0;34m\"validation loss\"\u001b[0m\u001b[0;34m,\u001b[0m\u001b[0maxes\u001b[0m \u001b[0;34m=\u001b[0m\u001b[0max\u001b[0m\u001b[0;34m[\u001b[0m\u001b[0;36m0\u001b[0m\u001b[0;34m]\u001b[0m\u001b[0;34m)\u001b[0m\u001b[0;34m\u001b[0m\u001b[0;34m\u001b[0m\u001b[0m\n\u001b[0m\u001b[1;32m      4\u001b[0m \u001b[0mlegend\u001b[0m \u001b[0;34m=\u001b[0m \u001b[0max\u001b[0m\u001b[0;34m[\u001b[0m\u001b[0;36m0\u001b[0m\u001b[0;34m]\u001b[0m\u001b[0;34m.\u001b[0m\u001b[0mlegend\u001b[0m\u001b[0;34m(\u001b[0m\u001b[0mloc\u001b[0m\u001b[0;34m=\u001b[0m\u001b[0;34m'best'\u001b[0m\u001b[0;34m,\u001b[0m \u001b[0mshadow\u001b[0m\u001b[0;34m=\u001b[0m\u001b[0;32mTrue\u001b[0m\u001b[0;34m)\u001b[0m\u001b[0;34m\u001b[0m\u001b[0;34m\u001b[0m\u001b[0m\n\u001b[1;32m      5\u001b[0m \u001b[0;34m\u001b[0m\u001b[0m\n",
      "\u001b[0;32m/usr/local/lib/python3.10/dist-packages/matplotlib/axes/_axes.py\u001b[0m in \u001b[0;36mplot\u001b[0;34m(self, scalex, scaley, data, *args, **kwargs)\u001b[0m\n\u001b[1;32m   1719\u001b[0m         \"\"\"\n\u001b[1;32m   1720\u001b[0m         \u001b[0mkwargs\u001b[0m \u001b[0;34m=\u001b[0m \u001b[0mcbook\u001b[0m\u001b[0;34m.\u001b[0m\u001b[0mnormalize_kwargs\u001b[0m\u001b[0;34m(\u001b[0m\u001b[0mkwargs\u001b[0m\u001b[0;34m,\u001b[0m \u001b[0mmlines\u001b[0m\u001b[0;34m.\u001b[0m\u001b[0mLine2D\u001b[0m\u001b[0;34m)\u001b[0m\u001b[0;34m\u001b[0m\u001b[0;34m\u001b[0m\u001b[0m\n\u001b[0;32m-> 1721\u001b[0;31m         \u001b[0mlines\u001b[0m \u001b[0;34m=\u001b[0m \u001b[0;34m[\u001b[0m\u001b[0;34m*\u001b[0m\u001b[0mself\u001b[0m\u001b[0;34m.\u001b[0m\u001b[0m_get_lines\u001b[0m\u001b[0;34m(\u001b[0m\u001b[0mself\u001b[0m\u001b[0;34m,\u001b[0m \u001b[0;34m*\u001b[0m\u001b[0margs\u001b[0m\u001b[0;34m,\u001b[0m \u001b[0mdata\u001b[0m\u001b[0;34m=\u001b[0m\u001b[0mdata\u001b[0m\u001b[0;34m,\u001b[0m \u001b[0;34m**\u001b[0m\u001b[0mkwargs\u001b[0m\u001b[0;34m)\u001b[0m\u001b[0;34m]\u001b[0m\u001b[0;34m\u001b[0m\u001b[0;34m\u001b[0m\u001b[0m\n\u001b[0m\u001b[1;32m   1722\u001b[0m         \u001b[0;32mfor\u001b[0m \u001b[0mline\u001b[0m \u001b[0;32min\u001b[0m \u001b[0mlines\u001b[0m\u001b[0;34m:\u001b[0m\u001b[0;34m\u001b[0m\u001b[0;34m\u001b[0m\u001b[0m\n\u001b[1;32m   1723\u001b[0m             \u001b[0mself\u001b[0m\u001b[0;34m.\u001b[0m\u001b[0madd_line\u001b[0m\u001b[0;34m(\u001b[0m\u001b[0mline\u001b[0m\u001b[0;34m)\u001b[0m\u001b[0;34m\u001b[0m\u001b[0;34m\u001b[0m\u001b[0m\n",
      "\u001b[0;31mTypeError\u001b[0m: _process_plot_var_args.__call__() got multiple values for argument 'axes'"
     ]
    },
    {
     "data": {
      "image/png": "[encoded data removed]",
      "text/plain": [
       "<Figure size 640x480 with 2 Axes>"
      ]
     },
     "metadata": {},
     "output_type": "display_data"
    }
   ],
   "source": [
    "fig, ax = plt.subplots(2, 1)\n",
    "ax[0].plot(history.history['loss'], color='b', label=\"Training loss\")\n",
    "ax[0].plot(history.history['val_loss'], color='r', label=\"Validation loss\")\n",
    "ax[0].legend(loc='best', shadow=True)\n",
    "ax[0].set_title(\"Loss\")\n",
    "ax[0].set_xlabel(\"Epochs\")\n",
    "ax[0].set_ylabel(\"Loss\")\n",
    "ax[1].plot(history.history['accuracy'], color='b', label=\"Training accuracy\")\n",
    "ax[1].plot(history.history['val_accuracy'], color='r', label=\"Validation accuracy\")\n",
    "ax[1].legend(loc='best', shadow=True)\n",
    "ax[1].set_title(\"Accuracy\")\n",
    "ax[1].set_xlabel(\"Epochs\")\n",
    "ax[1].set_ylabel(\"Accuracy\")\n",
    "plt.tight_layout()\n",
    "plt.show()"
   ]
  },
  {
   "cell_type": "code",
   "execution_count": 36,
   "id": "0bbbd10c-a7c2-405e-9738-87938c06f5e4",
   "metadata": {
    "colab": {
     "base_uri": "https://localhost:8080/"
    },
    "id": "0bbbd10c-a7c2-405e-9738-87938c06f5e4",
    "outputId": "8cb36bcc-4076-4847-c1c9-9614c54e8d9c"
   },
   "outputs": [
    {
     "name": "stdout",
     "output_type": "stream",
     "text": [
      "\u001b[1m1/1\u001b[0m \u001b[32m━━━━━━━━━━━━━━━━━━━━\u001b[0m\u001b[37m\u001b[0m \u001b[1m0s\u001b[0m 159ms/step\n",
      "The image is a Dog with probability 1.00\n"
     ]
    }
   ],
   "source": [
    "from tensorflow.keras.models import load_model\n",
    "from tensorflow.keras.preprocessing.image import load_img, img_to_array\n",
    "import numpy as np\n",
    "\n",
    "image_path = \"/content/OIP (9).jpg\"\n",
    "model_path = \"/content/ANN_model.keras\"\n",
    "\n",
    "img = load_img(image_path, target_size=(150, 150))  \n",
    "img_array = img_to_array(img)  \n",
    "img_array = img_array / 255.0 \n",
    "img_flattened = img_array.flatten()  \n",
    "img_flattened = np.expand_dims(img_flattened, axis=0) \n",
    "\n",
    "model = load_model(model_path)\n",
    "\n",
    "\n",
    "prediction = model.predict(img_flattened)\n",
    "\n",
    "\n",
    "if prediction[0][0] > 0.5:\n",
    "    print(f\"The image is a Dog with probability {prediction[0][0]:.2f}\")\n",
    "else:\n",
    "    print(f\"The image is a Cat with probability {1 - prediction[0][0]:.2f}\")"
   ]
  },
  {
   "cell_type": "code",
   "execution_count": 26,
   "id": "102e54b6-f631-4cb6-8c7d-525eff44a7c7",
   "metadata": {
    "colab": {
     "base_uri": "https://localhost:8080/",
     "height": 355
    },
    "id": "102e54b6-f631-4cb6-8c7d-525eff44a7c7",
    "outputId": "cdfe7126-40ef-4bbb-b649-a0700f464781"
   },
   "outputs": [
    {
     "data": {
      "text/html": [
       "<pre style=\"white-space:pre;overflow-x:auto;line-height:normal;font-family:Menlo,'DejaVu Sans Mono',consolas,'Courier New',monospace\"><span style=\"font-weight: bold\">Model: \"sequential_1\"</span>\n",
       "</pre>\n"
      ],
      "text/plain": [
       "\u001b[1mModel: \"sequential_1\"\u001b[0m\n"
      ]
     },
     "metadata": {},
     "output_type": "display_data"
    },
    {
     "data": {
      "text/html": [
       "<pre style=\"white-space:pre;overflow-x:auto;line-height:normal;font-family:Menlo,'DejaVu Sans Mono',consolas,'Courier New',monospace\">┏━━━━━━━━━━━━━━━━━━━━━━━━━━━━━━━━━━━━━━┳━━━━━━━━━━━━━━━━━━━━━━━━━━━━━┳━━━━━━━━━━━━━━━━━┓\n",
       "┃<span style=\"font-weight: bold\"> Layer (type)                         </span>┃<span style=\"font-weight: bold\"> Output Shape                </span>┃<span style=\"font-weight: bold\">         Param # </span>┃\n",
       "┡━━━━━━━━━━━━━━━━━━━━━━━━━━━━━━━━━━━━━━╇━━━━━━━━━━━━━━━━━━━━━━━━━━━━━╇━━━━━━━━━━━━━━━━━┩\n",
       "│ dense_5 (<span style=\"color: #0087ff; text-decoration-color: #0087ff\">Dense</span>)                      │ (<span style=\"color: #00d7ff; text-decoration-color: #00d7ff\">None</span>, <span style=\"color: #00af00; text-decoration-color: #00af00\">128</span>)                 │       <span style=\"color: #00af00; text-decoration-color: #00af00\">8,640,128</span> │\n",
       "├──────────────────────────────────────┼─────────────────────────────┼─────────────────┤\n",
       "│ dense_6 (<span style=\"color: #0087ff; text-decoration-color: #0087ff\">Dense</span>)                      │ (<span style=\"color: #00d7ff; text-decoration-color: #00d7ff\">None</span>, <span style=\"color: #00af00; text-decoration-color: #00af00\">128</span>)                 │          <span style=\"color: #00af00; text-decoration-color: #00af00\">16,512</span> │\n",
       "├──────────────────────────────────────┼─────────────────────────────┼─────────────────┤\n",
       "│ dense_7 (<span style=\"color: #0087ff; text-decoration-color: #0087ff\">Dense</span>)                      │ (<span style=\"color: #00d7ff; text-decoration-color: #00d7ff\">None</span>, <span style=\"color: #00af00; text-decoration-color: #00af00\">64</span>)                  │           <span style=\"color: #00af00; text-decoration-color: #00af00\">8,256</span> │\n",
       "├──────────────────────────────────────┼─────────────────────────────┼─────────────────┤\n",
       "│ dense_8 (<span style=\"color: #0087ff; text-decoration-color: #0087ff\">Dense</span>)                      │ (<span style=\"color: #00d7ff; text-decoration-color: #00d7ff\">None</span>, <span style=\"color: #00af00; text-decoration-color: #00af00\">32</span>)                  │           <span style=\"color: #00af00; text-decoration-color: #00af00\">2,080</span> │\n",
       "├──────────────────────────────────────┼─────────────────────────────┼─────────────────┤\n",
       "│ dropout_1 (<span style=\"color: #0087ff; text-decoration-color: #0087ff\">Dropout</span>)                  │ (<span style=\"color: #00d7ff; text-decoration-color: #00d7ff\">None</span>, <span style=\"color: #00af00; text-decoration-color: #00af00\">32</span>)                  │               <span style=\"color: #00af00; text-decoration-color: #00af00\">0</span> │\n",
       "├──────────────────────────────────────┼─────────────────────────────┼─────────────────┤\n",
       "│ dense_9 (<span style=\"color: #0087ff; text-decoration-color: #0087ff\">Dense</span>)                      │ (<span style=\"color: #00d7ff; text-decoration-color: #00d7ff\">None</span>, <span style=\"color: #00af00; text-decoration-color: #00af00\">1</span>)                   │              <span style=\"color: #00af00; text-decoration-color: #00af00\">33</span> │\n",
       "└──────────────────────────────────────┴─────────────────────────────┴─────────────────┘\n",
       "</pre>\n"
      ],
      "text/plain": [
       "┏━━━━━━━━━━━━━━━━━━━━━━━━━━━━━━━━━━━━━━┳━━━━━━━━━━━━━━━━━━━━━━━━━━━━━┳━━━━━━━━━━━━━━━━━┓\n",
       "┃\u001b[1m \u001b[0m\u001b[1mLayer (type)                        \u001b[0m\u001b[1m \u001b[0m┃\u001b[1m \u001b[0m\u001b[1mOutput Shape               \u001b[0m\u001b[1m \u001b[0m┃\u001b[1m \u001b[0m\u001b[1m        Param #\u001b[0m\u001b[1m \u001b[0m┃\n",
       "┡━━━━━━━━━━━━━━━━━━━━━━━━━━━━━━━━━━━━━━╇━━━━━━━━━━━━━━━━━━━━━━━━━━━━━╇━━━━━━━━━━━━━━━━━┩\n",
       "│ dense_5 (\u001b[38;5;33mDense\u001b[0m)                      │ (\u001b[38;5;45mNone\u001b[0m, \u001b[38;5;34m128\u001b[0m)                 │       \u001b[38;5;34m8,640,128\u001b[0m │\n",
       "├──────────────────────────────────────┼─────────────────────────────┼─────────────────┤\n",
       "│ dense_6 (\u001b[38;5;33mDense\u001b[0m)                      │ (\u001b[38;5;45mNone\u001b[0m, \u001b[38;5;34m128\u001b[0m)                 │          \u001b[38;5;34m16,512\u001b[0m │\n",
       "├──────────────────────────────────────┼─────────────────────────────┼─────────────────┤\n",
       "│ dense_7 (\u001b[38;5;33mDense\u001b[0m)                      │ (\u001b[38;5;45mNone\u001b[0m, \u001b[38;5;34m64\u001b[0m)                  │           \u001b[38;5;34m8,256\u001b[0m │\n",
       "├──────────────────────────────────────┼─────────────────────────────┼─────────────────┤\n",
       "│ dense_8 (\u001b[38;5;33mDense\u001b[0m)                      │ (\u001b[38;5;45mNone\u001b[0m, \u001b[38;5;34m32\u001b[0m)                  │           \u001b[38;5;34m2,080\u001b[0m │\n",
       "├──────────────────────────────────────┼─────────────────────────────┼─────────────────┤\n",
       "│ dropout_1 (\u001b[38;5;33mDropout\u001b[0m)                  │ (\u001b[38;5;45mNone\u001b[0m, \u001b[38;5;34m32\u001b[0m)                  │               \u001b[38;5;34m0\u001b[0m │\n",
       "├──────────────────────────────────────┼─────────────────────────────┼─────────────────┤\n",
       "│ dense_9 (\u001b[38;5;33mDense\u001b[0m)                      │ (\u001b[38;5;45mNone\u001b[0m, \u001b[38;5;34m1\u001b[0m)                   │              \u001b[38;5;34m33\u001b[0m │\n",
       "└──────────────────────────────────────┴─────────────────────────────┴─────────────────┘\n"
      ]
     },
     "metadata": {},
     "output_type": "display_data"
    },
    {
     "data": {
      "text/html": [
       "<pre style=\"white-space:pre;overflow-x:auto;line-height:normal;font-family:Menlo,'DejaVu Sans Mono',consolas,'Courier New',monospace\"><span style=\"font-weight: bold\"> Total params: </span><span style=\"color: #00af00; text-decoration-color: #00af00\">26,001,029</span> (99.19 MB)\n",
       "</pre>\n"
      ],
      "text/plain": [
       "\u001b[1m Total params: \u001b[0m\u001b[38;5;34m26,001,029\u001b[0m (99.19 MB)\n"
      ]
     },
     "metadata": {},
     "output_type": "display_data"
    },
    {
     "data": {
      "text/html": [
       "<pre style=\"white-space:pre;overflow-x:auto;line-height:normal;font-family:Menlo,'DejaVu Sans Mono',consolas,'Courier New',monospace\"><span style=\"font-weight: bold\"> Trainable params: </span><span style=\"color: #00af00; text-decoration-color: #00af00\">8,667,009</span> (33.06 MB)\n",
       "</pre>\n"
      ],
      "text/plain": [
       "\u001b[1m Trainable params: \u001b[0m\u001b[38;5;34m8,667,009\u001b[0m (33.06 MB)\n"
      ]
     },
     "metadata": {},
     "output_type": "display_data"
    },
    {
     "data": {
      "text/html": [
       "<pre style=\"white-space:pre;overflow-x:auto;line-height:normal;font-family:Menlo,'DejaVu Sans Mono',consolas,'Courier New',monospace\"><span style=\"font-weight: bold\"> Non-trainable params: </span><span style=\"color: #00af00; text-decoration-color: #00af00\">0</span> (0.00 B)\n",
       "</pre>\n"
      ],
      "text/plain": [
       "\u001b[1m Non-trainable params: \u001b[0m\u001b[38;5;34m0\u001b[0m (0.00 B)\n"
      ]
     },
     "metadata": {},
     "output_type": "display_data"
    },
    {
     "data": {
      "text/html": [
       "<pre style=\"white-space:pre;overflow-x:auto;line-height:normal;font-family:Menlo,'DejaVu Sans Mono',consolas,'Courier New',monospace\"><span style=\"font-weight: bold\"> Optimizer params: </span><span style=\"color: #00af00; text-decoration-color: #00af00\">17,334,020</span> (66.12 MB)\n",
       "</pre>\n"
      ],
      "text/plain": [
       "\u001b[1m Optimizer params: \u001b[0m\u001b[38;5;34m17,334,020\u001b[0m (66.12 MB)\n"
      ]
     },
     "metadata": {},
     "output_type": "display_data"
    },
    {
     "name": "stdout",
     "output_type": "stream",
     "text": [
      "None\n"
     ]
    }
   ],
   "source": [
    "print(model.summary())"
   ]
  },
  {
   "cell_type": "markdown",
   "id": "b1aa184c-95aa-4c1d-825e-da97d578f329",
   "metadata": {},
   "source": [
    "## NN2"
   ]
  },
  {
   "cell_type": "code",
   "execution_count": null,
   "id": "a3e4df2a-1069-4cf8-8820-303a21c6ed36",
   "metadata": {},
   "outputs": [],
   "source": [
    "from tensorflow.keras.models import Sequential\n",
    "from tensorflow.keras.layers import Dense, Dropout\n",
    "from tensorflow.keras.optimizers import Adam\n",
    "from tensorflow.keras.callbacks import ReduceLROnPlateau, EarlyStopping, ModelCheckpoint\n",
    "from sklearn.metrics import classification_report\n",
    "from tensorflow.keras.regularizers import l2\n",
    "def create_model():\n",
    "    model = Sequential()\n",
    "    model.add(Dense(units=128, activation='relu', input_shape=(150 * 150 * 3,)))\n",
    "    model.add(Dense(units=128, activation='relu'))\n",
    "    model.add(Dense(units=64, activation='relu'))\n",
    "    model.add(Dense(units=32, activation='relu',kernel_regularizer=l2(0.001)))\n",
    "    model.add(Dropout(0.3))\n",
    "    model.add(Dense(units=1, activation='sigmoid'))\n",
    "\n",
    "    model.compile(optimizer=Adam(learning_rate=0.001),\n",
    "                  loss='binary_crossentropy',\n",
    "                  metrics=['accuracy'])\n",
    "    return model\n",
    "\n",
    "model = create_model()\n",
    "\n",
    "learning_rate_reduction = ReduceLROnPlateau(monitor='val_accuracy', patience=3, verbose=1, factor=0.5, min_lr=0.000001)\n",
    "early_stopping = EarlyStopping(monitor='val_loss', patience=10, verbose=1, restore_best_weights=True)\n",
    "checkpoint = ModelCheckpoint(\"ANN_model.keras\", monitor='val_accuracy', verbose=1, save_best_only=True, mode='max')"
   ]
  },
  {
   "cell_type": "code",
   "execution_count": null,
   "id": "881971cc-dcfd-4a96-afd6-80390d1a8203",
   "metadata": {},
   "outputs": [],
   "source": [
    "history = model.fit(\n",
    "    X_train_flattened, y_train,\n",
    "    batch_size=32,\n",
    "    epochs=70,\n",
    "    validation_data=(X_test_flattened, y_val),\n",
    "    callbacks=[checkpoint, early_stopping, learning_rate_reduction]\n",
    ")\n",
    "y_pred = (model.predict(X_test_flattened) > 0.5).astype(\"int32\")\n",
    "print('Classification Report:\\n', classification_report(y_val, y_pred))"
   ]
  },
  {
   "cell_type": "code",
   "execution_count": null,
   "id": "aaf69247-1193-4d7f-af67-e7ffebfc762f",
   "metadata": {},
   "outputs": [],
   "source": [
    "print(model.summary())"
   ]
  },
  {
   "cell_type": "code",
   "execution_count": null,
   "id": "77dbeb72-3376-430b-b65d-f5ef51fbbe11",
   "metadata": {},
   "outputs": [],
   "source": [
    "fig, ax = plt.subplots(2, 1)\n",
    "ax[0].plot(history.history['loss'], color='b', label=\"Training loss\")\n",
    "ax[0].plot(history.history['val_loss'], color='r', label=\"Validation loss\")\n",
    "ax[0].legend(loc='best', shadow=True)\n",
    "ax[0].set_title(\"Loss\")\n",
    "ax[0].set_xlabel(\"Epochs\")\n",
    "ax[0].set_ylabel(\"Loss\")\n",
    "ax[1].plot(history.history['accuracy'], color='b', label=\"Training accuracy\")\n",
    "ax[1].plot(history.history['val_accuracy'], color='r', label=\"Validation accuracy\")\n",
    "ax[1].legend(loc='best', shadow=True)\n",
    "ax[1].set_title(\"Accuracy\")\n",
    "ax[1].set_xlabel(\"Epochs\")\n",
    "ax[1].set_ylabel(\"Accuracy\")\n",
    "plt.tight_layout()\n",
    "plt.show()"
   ]
  },
  {
   "cell_type": "markdown",
   "id": "42e52297-c5a8-4020-a62f-039ce87d9af5",
   "metadata": {},
   "source": [
    "## NN3"
   ]
  },
  {
   "cell_type": "code",
   "execution_count": null,
   "id": "85dfc076-0c92-4a9f-827f-e65f20f26b75",
   "metadata": {},
   "outputs": [],
   "source": [
    "from tensorflow.keras.models import Sequential\n",
    "from tensorflow.keras.layers import Dense, Dropout\n",
    "from tensorflow.keras.optimizers import Adam\n",
    "from tensorflow.keras.callbacks import ReduceLROnPlateau, EarlyStopping, ModelCheckpoint\n",
    "from sklearn.metrics import classification_report\n",
    "from tensorflow.keras.regularizers import l2\n",
    "def create_model():\n",
    "    model = Sequential()\n",
    "    model.add(Dense(units=128, activation='relu',kernel_regularizer=l2(0.01), input_shape=(150 * 150 * 3,)))\n",
    "    model.add(Dense(units=128, activation='relu',kernel_regularizer=l2(0.01)))\n",
    "    model.add(Dropout(0.3))\n",
    "    model.add(Dense(units=64, activation='relu',,kernel_regularizer=l2(0.01)))\n",
    "    model.add(Dense(units=32, activation='relu',kernel_regularizer=l2(0.01)))\n",
    "    model.add(Dropout(0.4))\n",
    "    model.add(Dense(units=1, activation='sigmoid'))\n",
    "\n",
    "    model.compile(optimizer=Adam(learning_rate=0.0001),\n",
    "                  loss='binary_crossentropy',\n",
    "                  metrics=['accuracy'])\n",
    "    return model\n",
    "\n",
    "model = create_model()\n",
    "\n",
    "learning_rate_reduction = ReduceLROnPlateau(monitor='val_accuracy', patience=3, verbose=1, factor=0.5, min_lr=0.000001)\n",
    "early_stopping = EarlyStopping(monitor='val_loss', patience=10, verbose=1, restore_best_weights=True)\n",
    "checkpoint = ModelCheckpoint(\"ANN_model.keras\", monitor='val_accuracy', verbose=1, save_best_only=True, mode='max')"
   ]
  },
  {
   "cell_type": "code",
   "execution_count": null,
   "id": "5e66ee52-3d88-4001-b33e-ea36b315c191",
   "metadata": {},
   "outputs": [],
   "source": [
    "history = model.fit(\n",
    "    X_train_flattened, y_train,\n",
    "    batch_size=32,\n",
    "    epochs=50,\n",
    "    validation_data=(X_test_flattened, y_val),\n",
    "    callbacks=[checkpoint, early_stopping, learning_rate_reduction]\n",
    ")\n",
    "y_pred = (model.predict(X_test_flattened) > 0.5).astype(\"int32\")\n",
    "print('Classification Report:\\n', classification_report(y_val, y_pred))"
   ]
  },
  {
   "cell_type": "code",
   "execution_count": null,
   "id": "37393d0e-bbc2-4f88-ab49-2012f58bd654",
   "metadata": {},
   "outputs": [],
   "source": [
    "print(model.summary())"
   ]
  },
  {
   "cell_type": "code",
   "execution_count": null,
   "id": "451cca7f-5889-498d-bae3-4ca48ceef637",
   "metadata": {},
   "outputs": [],
   "source": [
    "fig, ax = plt.subplots(2, 1)\n",
    "ax[0].plot(history.history['loss'], color='b', label=\"Training loss\")\n",
    "ax[0].plot(history.history['val_loss'], color='r', label=\"Validation loss\")\n",
    "ax[0].legend(loc='best', shadow=True)\n",
    "ax[0].set_title(\"Loss\")\n",
    "ax[0].set_xlabel(\"Epochs\")\n",
    "ax[0].set_ylabel(\"Loss\")\n",
    "ax[1].plot(history.history['accuracy'], color='b', label=\"Training accuracy\")\n",
    "ax[1].plot(history.history['val_accuracy'], color='r', label=\"Validation accuracy\")\n",
    "ax[1].legend(loc='best', shadow=True)\n",
    "ax[1].set_title(\"Accuracy\")\n",
    "ax[1].set_xlabel(\"Epochs\")\n",
    "ax[1].set_ylabel(\"Accuracy\")\n",
    "plt.tight_layout()\n",
    "plt.show()"
   ]
  },
  {
   "cell_type": "markdown",
   "id": "3483b244-22b2-4fb5-9f0d-e66f775a5129",
   "metadata": {
    "id": "3483b244-22b2-4fb5-9f0d-e66f775a5129"
   },
   "source": [
    "## CNN"
   ]
  },
  {
   "cell_type": "code",
   "execution_count": 18,
   "id": "7660a7ae-e686-4a51-8cec-fd6155fd98ec",
   "metadata": {
    "colab": {
     "base_uri": "https://localhost:8080/"
    },
    "id": "7660a7ae-e686-4a51-8cec-fd6155fd98ec",
    "outputId": "c526a080-43a2-49af-d82f-c10c719c0b96"
   },
   "outputs": [
    {
     "name": "stderr",
     "output_type": "stream",
     "text": [
      "/usr/local/lib/python3.10/dist-packages/keras/src/layers/convolutional/base_conv.py:107: UserWarning: Do not pass an `input_shape`/`input_dim` argument to a layer. When using Sequential models, prefer using an `Input(shape)` object as the first layer in the model instead.\n",
      "  super().__init__(activity_regularizer=activity_regularizer, **kwargs)\n"
     ]
    }
   ],
   "source": [
    "from tensorflow.keras.models import Sequential\n",
    "from tensorflow.keras.layers import Conv2D, MaxPooling2D, Flatten, Dense, Dropout\n",
    "from tensorflow.keras.optimizers import Adam\n",
    "from tensorflow.keras.callbacks import ReduceLROnPlateau, EarlyStopping, ModelCheckpoint\n",
    "from sklearn.metrics import classification_report\n",
    "def create_model():\n",
    "    model = Sequential()\n",
    "    model.add(Conv2D(filters=64, kernel_size=(3, 3), activation='relu', input_shape=(150, 150, 3)))\n",
    "    model.add(Conv2D(filters=64, kernel_size=(3, 3), activation='relu'))\n",
    "    model.add(MaxPooling2D(pool_size=(2, 2)))\n",
    "    model.add(Dropout(0.3))\n",
    "\n",
    "    model.add(Conv2D(filters=128, kernel_size=(3, 3), activation='relu'))\n",
    "    model.add(Conv2D(filters=128, kernel_size=(3, 3), activation='relu'))\n",
    "    model.add(MaxPooling2D(pool_size=(2, 2)))\n",
    "    model.add(Dropout(0.3))\n",
    "\n",
    "    model.add(Flatten())\n",
    "    model.add(Dense(units=256, activation='relu'))\n",
    "    model.add(Dense(units=128, activation='relu'))\n",
    "    model.add(Dropout(0.4))\n",
    "    model.add(Dense(units=1, activation='sigmoid'))\n",
    "    model.compile(optimizer=Adam(learning_rate=0.0001),\n",
    "                  loss='binary_crossentropy',\n",
    "                  metrics=['accuracy'])\n",
    "    return model\n",
    "model = create_model()\n",
    "learning_rate_reduction = ReduceLROnPlateau(monitor='val_accuracy', patience=3, verbose=1, factor=0.5, min_lr=0.00001)\n",
    "early_stopping = EarlyStopping(monitor='val_loss', patience=10, verbose=1, restore_best_weights=True)\n",
    "checkpoint = ModelCheckpoint(\"best_cats_dogs_model.keras\", monitor='val_accuracy', verbose=1, save_best_only=True, mode='max')\n"
   ]
  },
  {
   "cell_type": "code",
   "execution_count": null,
   "id": "acb3d4af-3507-4a0b-87f0-560e08b8ec2f",
   "metadata": {
    "id": "acb3d4af-3507-4a0b-87f0-560e08b8ec2f"
   },
   "outputs": [],
   "source": [
    "history = model.fit(\n",
    "    X_train, y_train,\n",
    "    batch_size=32,\n",
    "    epochs=50,\n",
    "    validation_data=(X_val, y_val),\n",
    "    callbacks=[checkpoint, early_stopping, learning_rate_reduction]\n",
    ")\n",
    "y_pred = (model.predict(X_val) > 0.5).astype(\"int32\")\n",
    "print('Classification Report:\\n', classification_report(y_val, y_pred))"
   ]
  },
  {
   "cell_type": "code",
   "execution_count": null,
   "id": "dae15a25-a13c-4c56-a46e-758ac0babd18",
   "metadata": {
    "id": "dae15a25-a13c-4c56-a46e-758ac0babd18"
   },
   "outputs": [],
   "source": [
    "fig, ax = plt.subplots(2,1)\n",
    "ax[0].plot(history.history['loss'], color='b', label=\"Training loss\")\n",
    "ax[0].plot(history.history['val_loss'], color='r', label=\"validation loss\",axes =ax[0])\n",
    "legend = ax[0].legend(loc='best', shadow=True)\n",
    "\n",
    "ax[1].plot(history.history['accuracy'], color='b', label=\"Training accuracy\")\n",
    "ax[1].plot(history.history['val_accuracy'], color='r',label=\"Validation accuracy\")\n",
    "legend = ax[1].legend(loc='best', shadow=True)"
   ]
  },
  {
   "cell_type": "code",
   "execution_count": null,
   "id": "97c78dc5-b9d0-4e15-a137-01b8c012de42",
   "metadata": {
    "id": "97c78dc5-b9d0-4e15-a137-01b8c012de42"
   },
   "outputs": [],
   "source": [
    "from tensorflow.keras.preprocessing.image import load_img, img_to_array\n",
    "import numpy as np\n",
    "from tensorflow.keras.models import load_model\n",
    "model_path = r\"C:\\Users\\Sigma\\Downloads\\cats_dogs_cnn_model.h5\"\n",
    "model = load_model(model_path)\n",
    "image_path = r\"C:\\Users\\Sigma\\Downloads\\Task Selected\\13-14.jpg\"\n",
    "img = load_img(image_path, target_size=(150, 150))\n",
    "img_array = img_to_array(img)\n",
    "img_array = np.expand_dims(img_array, axis=0)\n",
    "img_array = img_array / 255.0\n",
    "prediction = history.predict(img_array)\n",
    "if prediction[0][0] > 0.5:\n",
    "    print(f\"The image is a *Dog* with probability {prediction[0][0]:.2f}\")\n",
    "else:\n",
    "    print(f\"The image is a *Cat* with probability {1 - prediction[0][0]:.2f}\")"
   ]
  },
  {
   "cell_type": "code",
   "execution_count": null,
   "id": "9bbe6aef-37e5-4e1a-ae90-c5f8f30d8da8",
   "metadata": {
    "id": "9bbe6aef-37e5-4e1a-ae90-c5f8f30d8da8"
   },
   "outputs": [],
   "source": [
    "from tensorflow.keras.preprocessing.image import load_img, img_to_array\n",
    "import numpy as np\n",
    "from tensorflow.keras.models import load_model\n",
    "model_path = r\"C:\\Users\\Sigma\\Downloads\\cats_dogs_cnn_model.h5\"\n",
    "model = load_model(model_path)\n",
    "image_path = r\"C:\\Users\\Sigma\\Downloads\\Task Selected\\23-1.jpg\"\n",
    "img = load_img(image_path, target_size=(180, 180))\n",
    "img_array = img_to_array(img)\n",
    "img_array = np.expand_dims(img_array, axis=0)\n",
    "img_array = img_array / 255.0\n",
    "prediction = model.predict(img_array)\n",
    "if prediction[0][0] > 0.5:\n",
    "    print(f\"The image is a *Dog* with probability {prediction[0][0]:.2f}\")\n",
    "else:\n",
    "    print(f\"The image is a *Cat* with probability {1 - prediction[0][0]:.2f}\")"
   ]
  },
  {
   "cell_type": "code",
   "execution_count": null,
   "id": "7f1981d4-5639-4134-9ec0-d5229d84cd9a",
   "metadata": {
    "id": "7f1981d4-5639-4134-9ec0-d5229d84cd9a"
   },
   "outputs": [],
   "source": [
    "print(history.summary())"
   ]
  }
 ],
 "metadata": {
  "accelerator": "GPU",
  "colab": {
   "gpuType": "T4",
   "provenance": []
  },
  "kernelspec": {
   "display_name": "Python 3 (ipykernel)",
   "language": "python",
   "name": "python3"
  },
  "language_info": {
   "codemirror_mode": {
    "name": "ipython",
    "version": 3
   },
   "file_extension": ".py",
   "mimetype": "text/x-python",
   "name": "python",
   "nbconvert_exporter": "python",
   "pygments_lexer": "ipython3",
   "version": "3.11.7"
  }
 },
 "nbformat": 4,
 "nbformat_minor": 5
}
