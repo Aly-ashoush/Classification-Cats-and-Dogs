{
  "cells": [
    {
      "cell_type": "code",
      "execution_count": 1,
      "id": "ISQtBOkGut6x",
      "metadata": {
        "colab": {
          "base_uri": "https://localhost:8080/"
        },
        "id": "ISQtBOkGut6x",
        "outputId": "c1611273-7083-46e9-8f3c-9945ac874915"
      },
      "outputs": [
        {
          "name": "stdout",
          "output_type": "stream",
          "text": [
            "Mounted at /content/drive\n"
          ]
        }
      ],
      "source": [
        "from google.colab import drive\n",
        "drive.mount('/content/drive')"
      ]
    },
    {
      "cell_type": "code",
      "execution_count": 14,
      "id": "a83dac8c-444e-4c5f-9dc3-2cb6b3356fa5",
      "metadata": {
        "colab": {
          "base_uri": "https://localhost:8080/"
        },
        "id": "a83dac8c-444e-4c5f-9dc3-2cb6b3356fa5",
        "outputId": "cffea866-973b-4343-9d7c-ce5cecdb24c6"
      },
      "outputs": [
        {
          "name": "stdout",
          "output_type": "stream",
          "text": [
            "تمت معالجة الصور وحفظها في المجلدات الجديدة.\n"
          ]
        }
      ],
      "source": [
        "import os\n",
        "from PIL import Image\n",
        "import numpy as np\n",
        "import shutil\n",
        "base_folder = r\"/content/drive/MyDrive/test_data\"\n",
        "cats_folder = os.path.join(base_folder, r\"/content/drive/MyDrive/test_data/cats\")\n",
        "dogs_folder = os.path.join(base_folder, r\"/content/drive/MyDrive/test_data/dogs\")\n",
        "output_folder = r\"/content/drive/MyDrive/after processing\"\n",
        "output_cats_folder = os.path.join(output_folder, r\"/content/drive/MyDrive/after processing/catsss\")\n",
        "output_dogs_folder = os.path.join(output_folder, r\"/content/drive/MyDrive/after processing/dogsss\")\n",
        "os.makedirs(output_cats_folder, exist_ok=True)\n",
        "os.makedirs(output_dogs_folder, exist_ok=True)\n",
        "target_size = (150, 150)\n",
        "def process_and_save_images(input_folder, output_folder):\n",
        "    for filename in os.listdir(input_folder):\n",
        "        if filename.lower().endswith(('.png', '.jpg', '.jpeg','.webp')):\n",
        "            image_path = os.path.join(input_folder, filename)\n",
        "            with Image.open(image_path) as img:\n",
        "                img = img.resize(target_size)\n",
        "                img_array = np.array(img) / 255.0\n",
        "\n",
        "                processed_img = Image.fromarray((img_array * 255).astype(np.uint8))\n",
        "                processed_img.save(os.path.join(output_folder, filename))\n",
        "process_and_save_images(cats_folder, output_cats_folder)\n",
        "process_and_save_images(dogs_folder, output_dogs_folder)\n",
        "print(\"تمت معالجة الصور وحفظها في المجلدات الجديدة.\")"
      ]
    },
    {
      "cell_type": "code",
      "execution_count": 18,
      "id": "IB9rqBWAsJzz",
      "metadata": {
        "colab": {
          "base_uri": "https://localhost:8080/"
        },
        "id": "IB9rqBWAsJzz",
        "outputId": "d3f4d706-4d82-4a42-e0f1-3be90cf920ee"
      },
      "outputs": [
        {
          "name": "stdout",
          "output_type": "stream",
          "text": [
            "تم إنشاء صور Augmentation جديدة!\n"
          ]
        }
      ],
      "source": [
        "from tensorflow.keras.preprocessing.image import ImageDataGenerator\n",
        "import os\n",
        "import numpy as np\n",
        "from PIL import Image\n",
        "processed_cats_folder = r\"/content/drive/MyDrive/after processing/catsss\"\n",
        "processed_dogs_folder = r\"/content/drive/MyDrive/after processing/dogsss\"\n",
        "augmented_cats_folder = r\"/content/drive/MyDrive/after processing/catsss\"\n",
        "augmented_dogs_folder = r\"/content/drive/MyDrive/after processing/dogsss\"\n",
        "os.makedirs(augmented_cats_folder, exist_ok=True)\n",
        "os.makedirs(augmented_dogs_folder, exist_ok=True)\n",
        "def augment_images(input_folder, output_folder, num_augmented_images=8):\n",
        "  datagen = ImageDataGenerator(\n",
        "    rotation_range=10,\n",
        "    width_shift_range=0.1,\n",
        "    height_shift_range=0.1,\n",
        "    zoom_range=0.1,\n",
        "    horizontal_flip=True,\n",
        "    fill_mode='nearest'\n",
        ")\n",
        "\n",
        "\n",
        "  for filename in os.listdir(input_folder):\n",
        "        if filename.lower().endswith(('.png', '.jpg', '.jpeg', '.webp')):\n",
        "            image_path = os.path.join(input_folder, filename)\n",
        "            img = Image.open(image_path)\n",
        "            img = img.resize((150, 150))\n",
        "            img = img.convert(\"RGB\")\n",
        "            img_array = np.array(img)\n",
        "\n",
        "            img_array = np.expand_dims(img_array, axis=0)\n",
        "            i = 0\n",
        "            for batch in datagen.flow(img_array, batch_size=1, save_to_dir=output_folder, save_prefix=\"aug\", save_format=\"jpeg\"):\n",
        "                i += 1\n",
        "                if i >= num_augmented_images:\n",
        "                    break\n",
        "augment_images(processed_cats_folder, augmented_cats_folder)\n",
        "augment_images(processed_dogs_folder, augmented_dogs_folder)\n",
        "\n",
        "print(\"تم إنشاء صور Augmentation جديدة!\")\n"
      ]
    },
    {
      "cell_type": "code",
      "execution_count": 19,
      "id": "b0126676-6aea-461d-91ad-10e55b9135fb",
      "metadata": {
        "colab": {
          "base_uri": "https://localhost:8080/"
        },
        "id": "b0126676-6aea-461d-91ad-10e55b9135fb",
        "outputId": "828dbb6d-b6ba-4b34-98f5-04a4265268b5"
      },
      "outputs": [
        {
          "name": "stdout",
          "output_type": "stream",
          "text": [
            "عدد الصور في فئة القطط: 5847\n",
            "عدد الصور في فئة الكلاب: 5858\n"
          ]
        }
      ],
      "source": [
        "import os\n",
        "processed_cats_folder = r\"/content/drive/MyDrive/after processing/catsss\"\n",
        "processed_dogs_folder = r\"/content/drive/MyDrive/after processing/dogsss\"\n",
        "num_cats = len([f for f in os.listdir(processed_cats_folder) if f.lower().endswith(('.png', '.jpg', '.jpeg', '.webp'))])\n",
        "num_dogs = len([f for f in os.listdir(processed_dogs_folder) if f.lower().endswith(('.png', '.jpg', '.jpeg', '.webp'))])\n",
        "print(f\"عدد الصور في فئة القطط: {num_cats}\")\n",
        "print(f\"عدد الصور في فئة الكلاب: {num_dogs}\")"
      ]
    },
    {
      "cell_type": "code",
      "execution_count": 20,
      "id": "ab27a769-9327-4e37-8ab9-5f2c94aec6a8",
      "metadata": {
        "colab": {
          "base_uri": "https://localhost:8080/"
        },
        "id": "ab27a769-9327-4e37-8ab9-5f2c94aec6a8",
        "outputId": "5376d585-0814-458d-f8a4-a0ccf606009f"
      },
      "outputs": [
        {
          "name": "stdout",
          "output_type": "stream",
          "text": [
            "أبعاد صور القطط:  {(150, 150)}\n",
            "أبعاد صور الكلاب:  {(150, 150)}\n"
          ]
        }
      ],
      "source": [
        "def analyze_image_dimensions(folder):\n",
        "    dimensions = []\n",
        "    for img_name in os.listdir(folder):\n",
        "        if img_name.lower().endswith(('.png', '.jpg', '.jpeg', '.webp')):\n",
        "            img_path = os.path.join(folder, img_name)\n",
        "            img = Image.open(img_path)\n",
        "            dimensions.append(img.size)\n",
        "    return dimensions\n",
        "cat_dimensions = analyze_image_dimensions(processed_cats_folder)\n",
        "dog_dimensions = analyze_image_dimensions(processed_dogs_folder)\n",
        "print(\"أبعاد صور القطط: \", set(cat_dimensions))\n",
        "print(\"أبعاد صور الكلاب: \", set(dog_dimensions))"
      ]
    },
    {
      "cell_type": "code",
      "execution_count": 21,
      "id": "06407bf4-f2a8-4127-8ab2-da09386c7787",
      "metadata": {
        "colab": {
          "base_uri": "https://localhost:8080/",
          "height": 521
        },
        "id": "06407bf4-f2a8-4127-8ab2-da09386c7787",
        "outputId": "18ee5915-5050-4fd5-efa1-fac687e980f0"
      },
      "outputs": [
        {
          "data": {
            "image/png": "[encoded data removed]",
            "text/plain": [
              "<Figure size 600x600 with 1 Axes>"
            ]
          },
          "metadata": {},
          "output_type": "display_data"
        }
      ],
      "source": [
        "import matplotlib.pyplot as plt\n",
        "labels = ['cat', 'dogs']\n",
        "sizes = [num_cats, num_dogs]\n",
        "plt.figure(figsize=(6, 6))\n",
        "plt.pie(sizes, labels=labels, autopct='%1.1f%%', startangle=90, colors=['#ff9999','#66b3ff'])\n",
        "plt.axis('equal')  # لضمان أن الدائرة ستكون دائرية\n",
        "plt.title('distrubuted of cat and dogs ')\n",
        "plt.show()"
      ]
    },
    {
      "cell_type": "code",
      "execution_count": 22,
      "id": "2d91ea81-d054-40f1-bb3a-6077f9a7e304",
      "metadata": {
        "colab": {
          "base_uri": "https://localhost:8080/"
        },
        "id": "2d91ea81-d054-40f1-bb3a-6077f9a7e304",
        "outputId": "e4f62394-c6b4-48ba-99d1-4a81cc13b022"
      },
      "outputs": [
        {
          "name": "stdout",
          "output_type": "stream",
          "text": [
            "Found 9364 images belonging to 2 classes.\n",
            "Found 2340 images belonging to 2 classes.\n"
          ]
        }
      ],
      "source": [
        "from tensorflow.keras.preprocessing.image import ImageDataGenerator\n",
        "data_dir = r\"/content/drive/MyDrive/after processing\"\n",
        "datagen = ImageDataGenerator(rescale=1./255, validation_split=0.2)  # إعادة قياس الصور وقسم البيانات\n",
        "train_generator = datagen.flow_from_directory(\n",
        "    data_dir,\n",
        "    target_size=(150, 150),\n",
        "    batch_size=32,\n",
        "    class_mode='binary',\n",
        "    subset='training'\n",
        ")\n",
        "validation_generator = datagen.flow_from_directory(\n",
        "    data_dir,\n",
        "    target_size=(150, 150),\n",
        "    batch_size=32,\n",
        "    class_mode='binary',\n",
        "    subset='validation'\n",
        ")"
      ]
    },
    {
      "cell_type": "code",
      "execution_count": 23,
      "id": "4d55cfdd-92b2-4b39-9e62-a184992ca1a6",
      "metadata": {
        "id": "4d55cfdd-92b2-4b39-9e62-a184992ca1a6"
      },
      "outputs": [],
      "source": [
        "import numpy as np\n",
        "X_train, y_train = [], []\n",
        "for i in range(len(train_generator)):\n",
        "    X_batch, y_batch = train_generator[i]\n",
        "    X_train.extend(X_batch)\n",
        "    y_train.extend(y_batch)\n",
        "X_train = np.array(X_train)\n",
        "y_train = np.array(y_train)\n",
        "X_val, y_val = [], []\n",
        "for i in range(len(validation_generator)):\n",
        "    X_batch, y_batch = validation_generator[i]\n",
        "    X_val.extend(X_batch)\n",
        "    y_val.extend(y_batch)\n",
        "X_val = np.array(X_val)\n",
        "y_val = np.array(y_val)"
      ]
    },
    {
      "cell_type": "code",
      "execution_count": 24,
      "id": "dff0bbf5-2d44-4d59-a72e-2460e8111bdb",
      "metadata": {
        "colab": {
          "base_uri": "https://localhost:8080/"
        },
        "id": "dff0bbf5-2d44-4d59-a72e-2460e8111bdb",
        "outputId": "65caefc2-e91c-41be-aff4-fbc8f18a7357"
      },
      "outputs": [
        {
          "name": "stdout",
          "output_type": "stream",
          "text": [
            "Collecting scikeras\n",
            "  Downloading scikeras-0.13.0-py3-none-any.whl.metadata (3.1 kB)\n",
            "Requirement already satisfied: keras>=3.2.0 in /usr/local/lib/python3.10/dist-packages (from scikeras) (3.5.0)\n",
            "Requirement already satisfied: scikit-learn>=1.4.2 in /usr/local/lib/python3.10/dist-packages (from scikeras) (1.5.2)\n",
            "Requirement already satisfied: absl-py in /usr/local/lib/python3.10/dist-packages (from keras>=3.2.0->scikeras) (1.4.0)\n",
            "Requirement already satisfied: numpy in /usr/local/lib/python3.10/dist-packages (from keras>=3.2.0->scikeras) (1.26.4)\n",
            "Requirement already satisfied: rich in /usr/local/lib/python3.10/dist-packages (from keras>=3.2.0->scikeras) (13.9.4)\n",
            "Requirement already satisfied: namex in /usr/local/lib/python3.10/dist-packages (from keras>=3.2.0->scikeras) (0.0.8)\n",
            "Requirement already satisfied: h5py in /usr/local/lib/python3.10/dist-packages (from keras>=3.2.0->scikeras) (3.12.1)\n",
            "Requirement already satisfied: optree in /usr/local/lib/python3.10/dist-packages (from keras>=3.2.0->scikeras) (0.13.1)\n",
            "Requirement already satisfied: ml-dtypes in /usr/local/lib/python3.10/dist-packages (from keras>=3.2.0->scikeras) (0.4.1)\n",
            "Requirement already satisfied: packaging in /usr/local/lib/python3.10/dist-packages (from keras>=3.2.0->scikeras) (24.2)\n",
            "Requirement already satisfied: scipy>=1.6.0 in /usr/local/lib/python3.10/dist-packages (from scikit-learn>=1.4.2->scikeras) (1.13.1)\n",
            "Requirement already satisfied: joblib>=1.2.0 in /usr/local/lib/python3.10/dist-packages (from scikit-learn>=1.4.2->scikeras) (1.4.2)\n",
            "Requirement already satisfied: threadpoolctl>=3.1.0 in /usr/local/lib/python3.10/dist-packages (from scikit-learn>=1.4.2->scikeras) (3.5.0)\n",
            "Requirement already satisfied: typing-extensions>=4.5.0 in /usr/local/lib/python3.10/dist-packages (from optree->keras>=3.2.0->scikeras) (4.12.2)\n",
            "Requirement already satisfied: markdown-it-py>=2.2.0 in /usr/local/lib/python3.10/dist-packages (from rich->keras>=3.2.0->scikeras) (3.0.0)\n",
            "Requirement already satisfied: pygments<3.0.0,>=2.13.0 in /usr/local/lib/python3.10/dist-packages (from rich->keras>=3.2.0->scikeras) (2.18.0)\n",
            "Requirement already satisfied: mdurl~=0.1 in /usr/local/lib/python3.10/dist-packages (from markdown-it-py>=2.2.0->rich->keras>=3.2.0->scikeras) (0.1.2)\n",
            "Downloading scikeras-0.13.0-py3-none-any.whl (26 kB)\n",
            "Installing collected packages: scikeras\n",
            "Successfully installed scikeras-0.13.0\n"
          ]
        }
      ],
      "source": [
        "!pip install scikeras\n",
        "from keras.optimizers import Adam\n",
        "from tensorflow.keras.models import Sequential\n",
        "from tensorflow.keras.layers import Conv2D, MaxPooling2D, Flatten, Dense\n",
        "from tensorflow.keras.layers import Dense, Dropout\n",
        "from scikeras.wrappers import KerasClassifier\n",
        "from sklearn.model_selection import GridSearchCV\n",
        "from tensorflow.keras.optimizers import Adam\n",
        "from tensorflow.keras.layers import Dense, Dropout\n",
        "from keras.callbacks import EarlyStopping\n",
        "from tensorflow.keras.callbacks import ModelCheckpoint, EarlyStopping, ReduceLROnPlateau"
      ]
    },
    {
      "cell_type": "code",
      "execution_count": 25,
      "id": "13bbb99f-0640-427d-850a-de61cf74b009",
      "metadata": {
        "id": "13bbb99f-0640-427d-850a-de61cf74b009"
      },
      "outputs": [],
      "source": [
        "\n",
        "X_train_flattened = X_train.reshape(X_train.shape[0], -1)\n",
        "X_test_flattened = X_val.reshape(X_val.shape[0], -1)\n"
      ]
    },
    {
      "cell_type": "markdown",
      "id": "8531e723-78f1-41bd-b307-16a7761edd9e",
      "metadata": {
        "id": "8531e723-78f1-41bd-b307-16a7761edd9e"
      },
      "source": [
        "## NN"
      ]
    },
    {
      "cell_type": "code",
      "execution_count": 26,
      "id": "ecaf3ebf-33b8-41b4-96dd-a9124e27b38b",
      "metadata": {
        "colab": {
          "base_uri": "https://localhost:8080/"
        },
        "id": "ecaf3ebf-33b8-41b4-96dd-a9124e27b38b",
        "outputId": "eb10ff20-63b6-4743-f26d-ba8abc86241c"
      },
      "outputs": [
        {
          "name": "stderr",
          "output_type": "stream",
          "text": [
            "/usr/local/lib/python3.10/dist-packages/keras/src/layers/core/dense.py:87: UserWarning: Do not pass an `input_shape`/`input_dim` argument to a layer. When using Sequential models, prefer using an `Input(shape)` object as the first layer in the model instead.\n",
            "  super().__init__(activity_regularizer=activity_regularizer, **kwargs)\n"
          ]
        }
      ],
      "source": [
        "from tensorflow.keras.models import Sequential\n",
        "from tensorflow.keras.layers import Dense, Dropout\n",
        "from tensorflow.keras.optimizers import Adam\n",
        "from tensorflow.keras.callbacks import ReduceLROnPlateau, EarlyStopping, ModelCheckpoint\n",
        "from sklearn.metrics import classification_report\n",
        "def create_model():\n",
        "    model = Sequential()\n",
        "    model.add(Dense(units=128, activation='relu', input_shape=(150 * 150 * 3,)))\n",
        "    model.add(Dense(units=128, activation='relu'))\n",
        "    model.add(Dense(units=64, activation='relu'))\n",
        "    model.add(Dense(units=32, activation='relu'))\n",
        "    model.add(Dropout(0.3))\n",
        "    model.add(Dense(units=1, activation='sigmoid'))\n",
        "\n",
        "    model.compile(optimizer=Adam(learning_rate=0.0001),\n",
        "                  loss='binary_crossentropy',\n",
        "                  metrics=['accuracy'])\n",
        "    return model\n",
        "\n",
        "model = create_model()\n",
        "\n",
        "learning_rate_reduction = ReduceLROnPlateau(monitor='val_accuracy', patience=3, verbose=1, factor=0.5, min_lr=0.00001)\n",
        "early_stopping = EarlyStopping(monitor='val_loss', patience=10, verbose=1, restore_best_weights=True)\n",
        "checkpoint = ModelCheckpoint(\"ANN_model.keras\", monitor='val_accuracy', verbose=1, save_best_only=True, mode='max')"
      ]
    },
    {
      "cell_type": "code",
      "execution_count": 27,
      "id": "88e2e821-376b-4eab-b4fa-591697aaf37f",
      "metadata": {
        "colab": {
          "base_uri": "https://localhost:8080/"
        },
        "id": "88e2e821-376b-4eab-b4fa-591697aaf37f",
        "outputId": "fe4bd134-a2cd-4905-aaa4-a35e6c9df7c4"
      },
      "outputs": [
        {
          "name": "stdout",
          "output_type": "stream",
          "text": [
            "Epoch 1/50\n",
            "\u001b[1m293/293\u001b[0m \u001b[32m━━━━━━━━━━━━━━━━━━━━\u001b[0m\u001b[37m\u001b[0m \u001b[1m0s\u001b[0m 210ms/step - accuracy: 0.5217 - loss: 0.7398\n",
            "Epoch 1: val_accuracy improved from -inf to 0.54231, saving model to ANN_model.keras\n",
            "\u001b[1m293/293\u001b[0m \u001b[32m━━━━━━━━━━━━━━━━━━━━\u001b[0m\u001b[37m\u001b[0m \u001b[1m70s\u001b[0m 223ms/step - accuracy: 0.5218 - loss: 0.7397 - val_accuracy: 0.5423 - val_loss: 0.6819 - learning_rate: 1.0000e-04\n",
            "Epoch 2/50\n",
            "\u001b[1m293/293\u001b[0m \u001b[32m━━━━━━━━━━━━━━━━━━━━\u001b[0m\u001b[37m\u001b[0m \u001b[1m0s\u001b[0m 197ms/step - accuracy: 0.5521 - loss: 0.6864\n",
            "Epoch 2: val_accuracy did not improve from 0.54231\n",
            "\u001b[1m293/293\u001b[0m \u001b[32m━━━━━━━━━━━━━━━━━━━━\u001b[0m\u001b[37m\u001b[0m \u001b[1m76s\u001b[0m 204ms/step - accuracy: 0.5521 - loss: 0.6864 - val_accuracy: 0.5299 - val_loss: 0.6888 - learning_rate: 1.0000e-04\n",
            "Epoch 3/50\n",
            "\u001b[1m293/293\u001b[0m \u001b[32m━━━━━━━━━━━━━━━━━━━━\u001b[0m\u001b[37m\u001b[0m \u001b[1m0s\u001b[0m 187ms/step - accuracy: 0.5523 - loss: 0.6824\n",
            "Epoch 3: val_accuracy improved from 0.54231 to 0.58675, saving model to ANN_model.keras\n",
            "\u001b[1m293/293\u001b[0m \u001b[32m━━━━━━━━━━━━━━━━━━━━\u001b[0m\u001b[37m\u001b[0m \u001b[1m80s\u001b[0m 198ms/step - accuracy: 0.5524 - loss: 0.6824 - val_accuracy: 0.5868 - val_loss: 0.6661 - learning_rate: 1.0000e-04\n",
            "Epoch 4/50\n",
            "\u001b[1m293/293\u001b[0m \u001b[32m━━━━━━━━━━━━━━━━━━━━\u001b[0m\u001b[37m\u001b[0m \u001b[1m0s\u001b[0m 191ms/step - accuracy: 0.5773 - loss: 0.6729\n",
            "Epoch 4: val_accuracy did not improve from 0.58675\n",
            "\u001b[1m293/293\u001b[0m \u001b[32m━━━━━━━━━━━━━━━━━━━━\u001b[0m\u001b[37m\u001b[0m \u001b[1m83s\u001b[0m 200ms/step - accuracy: 0.5773 - loss: 0.6729 - val_accuracy: 0.5863 - val_loss: 0.6715 - learning_rate: 1.0000e-04\n",
            "Epoch 5/50\n",
            "\u001b[1m293/293\u001b[0m \u001b[32m━━━━━━━━━━━━━━━━━━━━\u001b[0m\u001b[37m\u001b[0m \u001b[1m0s\u001b[0m 142ms/step - accuracy: 0.5677 - loss: 0.6737\n",
            "Epoch 5: val_accuracy did not improve from 0.58675\n",
            "\u001b[1m293/293\u001b[0m \u001b[32m━━━━━━━━━━━━━━━━━━━━\u001b[0m\u001b[37m\u001b[0m \u001b[1m44s\u001b[0m 151ms/step - accuracy: 0.5677 - loss: 0.6737 - val_accuracy: 0.5795 - val_loss: 0.6652 - learning_rate: 1.0000e-04\n",
            "Epoch 6/50\n",
            "\u001b[1m293/293\u001b[0m \u001b[32m━━━━━━━━━━━━━━━━━━━━\u001b[0m\u001b[37m\u001b[0m \u001b[1m0s\u001b[0m 166ms/step - accuracy: 0.5890 - loss: 0.6611\n",
            "Epoch 6: val_accuracy improved from 0.58675 to 0.59744, saving model to ANN_model.keras\n",
            "\u001b[1m293/293\u001b[0m \u001b[32m━━━━━━━━━━━━━━━━━━━━\u001b[0m\u001b[37m\u001b[0m \u001b[1m89s\u001b[0m 176ms/step - accuracy: 0.5890 - loss: 0.6611 - val_accuracy: 0.5974 - val_loss: 0.6574 - learning_rate: 1.0000e-04\n",
            "Epoch 7/50\n",
            "\u001b[1m293/293\u001b[0m \u001b[32m━━━━━━━━━━━━━━━━━━━━\u001b[0m\u001b[37m\u001b[0m \u001b[1m0s\u001b[0m 159ms/step - accuracy: 0.5935 - loss: 0.6578\n",
            "Epoch 7: val_accuracy improved from 0.59744 to 0.61282, saving model to ANN_model.keras\n",
            "\u001b[1m293/293\u001b[0m \u001b[32m━━━━━━━━━━━━━━━━━━━━\u001b[0m\u001b[37m\u001b[0m \u001b[1m78s\u001b[0m 165ms/step - accuracy: 0.5935 - loss: 0.6578 - val_accuracy: 0.6128 - val_loss: 0.6501 - learning_rate: 1.0000e-04\n",
            "Epoch 8/50\n",
            "\u001b[1m293/293\u001b[0m \u001b[32m━━━━━━━━━━━━━━━━━━━━\u001b[0m\u001b[37m\u001b[0m \u001b[1m0s\u001b[0m 151ms/step - accuracy: 0.6089 - loss: 0.6532\n",
            "Epoch 8: val_accuracy did not improve from 0.61282\n",
            "\u001b[1m293/293\u001b[0m \u001b[32m━━━━━━━━━━━━━━━━━━━━\u001b[0m\u001b[37m\u001b[0m \u001b[1m79s\u001b[0m 156ms/step - accuracy: 0.6089 - loss: 0.6532 - val_accuracy: 0.5872 - val_loss: 0.6583 - learning_rate: 1.0000e-04\n",
            "Epoch 9/50\n",
            "\u001b[1m293/293\u001b[0m \u001b[32m━━━━━━━━━━━━━━━━━━━━\u001b[0m\u001b[37m\u001b[0m \u001b[1m0s\u001b[0m 141ms/step - accuracy: 0.6107 - loss: 0.6467\n",
            "Epoch 9: val_accuracy improved from 0.61282 to 0.61538, saving model to ANN_model.keras\n",
            "\u001b[1m293/293\u001b[0m \u001b[32m━━━━━━━━━━━━━━━━━━━━\u001b[0m\u001b[37m\u001b[0m \u001b[1m80s\u001b[0m 150ms/step - accuracy: 0.6107 - loss: 0.6467 - val_accuracy: 0.6154 - val_loss: 0.6534 - learning_rate: 1.0000e-04\n",
            "Epoch 10/50\n",
            "\u001b[1m293/293\u001b[0m \u001b[32m━━━━━━━━━━━━━━━━━━━━\u001b[0m\u001b[37m\u001b[0m \u001b[1m0s\u001b[0m 161ms/step - accuracy: 0.6128 - loss: 0.6411\n",
            "Epoch 10: val_accuracy improved from 0.61538 to 0.61752, saving model to ANN_model.keras\n",
            "\u001b[1m293/293\u001b[0m \u001b[32m━━━━━━━━━━━━━━━━━━━━\u001b[0m\u001b[37m\u001b[0m \u001b[1m50s\u001b[0m 171ms/step - accuracy: 0.6127 - loss: 0.6411 - val_accuracy: 0.6175 - val_loss: 0.6439 - learning_rate: 1.0000e-04\n",
            "Epoch 11/50\n",
            "\u001b[1m293/293\u001b[0m \u001b[32m━━━━━━━━━━━━━━━━━━━━\u001b[0m\u001b[37m\u001b[0m \u001b[1m0s\u001b[0m 152ms/step - accuracy: 0.6257 - loss: 0.6413\n",
            "Epoch 11: val_accuracy did not improve from 0.61752\n",
            "\u001b[1m293/293\u001b[0m \u001b[32m━━━━━━━━━━━━━━━━━━━━\u001b[0m\u001b[37m\u001b[0m \u001b[1m79s\u001b[0m 161ms/step - accuracy: 0.6257 - loss: 0.6413 - val_accuracy: 0.6154 - val_loss: 0.6463 - learning_rate: 1.0000e-04\n",
            "Epoch 12/50\n",
            "\u001b[1m293/293\u001b[0m \u001b[32m━━━━━━━━━━━━━━━━━━━━\u001b[0m\u001b[37m\u001b[0m \u001b[1m0s\u001b[0m 139ms/step - accuracy: 0.6237 - loss: 0.6421\n",
            "Epoch 12: val_accuracy did not improve from 0.61752\n",
            "\u001b[1m293/293\u001b[0m \u001b[32m━━━━━━━━━━━━━━━━━━━━\u001b[0m\u001b[37m\u001b[0m \u001b[1m43s\u001b[0m 148ms/step - accuracy: 0.6237 - loss: 0.6421 - val_accuracy: 0.6154 - val_loss: 0.6485 - learning_rate: 1.0000e-04\n",
            "Epoch 13/50\n",
            "\u001b[1m293/293\u001b[0m \u001b[32m━━━━━━━━━━━━━━━━━━━━\u001b[0m\u001b[37m\u001b[0m \u001b[1m0s\u001b[0m 144ms/step - accuracy: 0.6230 - loss: 0.6417\n",
            "Epoch 13: val_accuracy did not improve from 0.61752\n",
            "\n",
            "Epoch 13: ReduceLROnPlateau reducing learning rate to 4.999999873689376e-05.\n",
            "\u001b[1m293/293\u001b[0m \u001b[32m━━━━━━━━━━━━━━━━━━━━\u001b[0m\u001b[37m\u001b[0m \u001b[1m82s\u001b[0m 148ms/step - accuracy: 0.6230 - loss: 0.6416 - val_accuracy: 0.6056 - val_loss: 0.6545 - learning_rate: 1.0000e-04\n",
            "Epoch 14/50\n",
            "\u001b[1m293/293\u001b[0m \u001b[32m━━━━━━━━━━━━━━━━━━━━\u001b[0m\u001b[37m\u001b[0m \u001b[1m0s\u001b[0m 163ms/step - accuracy: 0.6268 - loss: 0.6278\n",
            "Epoch 14: val_accuracy improved from 0.61752 to 0.64060, saving model to ANN_model.keras\n",
            "\u001b[1m293/293\u001b[0m \u001b[32m━━━━━━━━━━━━━━━━━━━━\u001b[0m\u001b[37m\u001b[0m \u001b[1m88s\u001b[0m 170ms/step - accuracy: 0.6268 - loss: 0.6278 - val_accuracy: 0.6406 - val_loss: 0.6372 - learning_rate: 5.0000e-05\n",
            "Epoch 15/50\n",
            "\u001b[1m293/293\u001b[0m \u001b[32m━━━━━━━━━━━━━━━━━━━━\u001b[0m\u001b[37m\u001b[0m \u001b[1m0s\u001b[0m 154ms/step - accuracy: 0.6341 - loss: 0.6200\n",
            "Epoch 15: val_accuracy did not improve from 0.64060\n",
            "\u001b[1m293/293\u001b[0m \u001b[32m━━━━━━━━━━━━━━━━━━━━\u001b[0m\u001b[37m\u001b[0m \u001b[1m79s\u001b[0m 158ms/step - accuracy: 0.6342 - loss: 0.6200 - val_accuracy: 0.6248 - val_loss: 0.6362 - learning_rate: 5.0000e-05\n",
            "Epoch 16/50\n",
            "\u001b[1m293/293\u001b[0m \u001b[32m━━━━━━━━━━━━━━━━━━━━\u001b[0m\u001b[37m\u001b[0m \u001b[1m0s\u001b[0m 144ms/step - accuracy: 0.6545 - loss: 0.6071\n",
            "Epoch 16: val_accuracy did not improve from 0.64060\n",
            "\u001b[1m293/293\u001b[0m \u001b[32m━━━━━━━━━━━━━━━━━━━━\u001b[0m\u001b[37m\u001b[0m \u001b[1m80s\u001b[0m 153ms/step - accuracy: 0.6545 - loss: 0.6071 - val_accuracy: 0.6355 - val_loss: 0.6333 - learning_rate: 5.0000e-05\n",
            "Epoch 17/50\n",
            "\u001b[1m293/293\u001b[0m \u001b[32m━━━━━━━━━━━━━━━━━━━━\u001b[0m\u001b[37m\u001b[0m \u001b[1m0s\u001b[0m 154ms/step - accuracy: 0.6531 - loss: 0.6083\n",
            "Epoch 17: val_accuracy did not improve from 0.64060\n",
            "\n",
            "Epoch 17: ReduceLROnPlateau reducing learning rate to 2.499999936844688e-05.\n",
            "\u001b[1m293/293\u001b[0m \u001b[32m━━━━━━━━━━━━━━━━━━━━\u001b[0m\u001b[37m\u001b[0m \u001b[1m84s\u001b[0m 159ms/step - accuracy: 0.6531 - loss: 0.6083 - val_accuracy: 0.6244 - val_loss: 0.6421 - learning_rate: 5.0000e-05\n",
            "Epoch 18/50\n",
            "\u001b[1m293/293\u001b[0m \u001b[32m━━━━━━━━━━━━━━━━━━━━\u001b[0m\u001b[37m\u001b[0m \u001b[1m0s\u001b[0m 171ms/step - accuracy: 0.6646 - loss: 0.5941\n",
            "Epoch 18: val_accuracy did not improve from 0.64060\n",
            "\u001b[1m293/293\u001b[0m \u001b[32m━━━━━━━━━━━━━━━━━━━━\u001b[0m\u001b[37m\u001b[0m \u001b[1m87s\u001b[0m 175ms/step - accuracy: 0.6646 - loss: 0.5941 - val_accuracy: 0.6402 - val_loss: 0.6289 - learning_rate: 2.5000e-05\n",
            "Epoch 19/50\n",
            "\u001b[1m293/293\u001b[0m \u001b[32m━━━━━━━━━━━━━━━━━━━━\u001b[0m\u001b[37m\u001b[0m \u001b[1m0s\u001b[0m 150ms/step - accuracy: 0.6705 - loss: 0.5953\n",
            "Epoch 19: val_accuracy improved from 0.64060 to 0.64274, saving model to ANN_model.keras\n",
            "\u001b[1m293/293\u001b[0m \u001b[32m━━━━━━━━━━━━━━━━━━━━\u001b[0m\u001b[37m\u001b[0m \u001b[1m76s\u001b[0m 156ms/step - accuracy: 0.6705 - loss: 0.5953 - val_accuracy: 0.6427 - val_loss: 0.6275 - learning_rate: 2.5000e-05\n",
            "Epoch 20/50\n",
            "\u001b[1m293/293\u001b[0m \u001b[32m━━━━━━━━━━━━━━━━━━━━\u001b[0m\u001b[37m\u001b[0m \u001b[1m0s\u001b[0m 140ms/step - accuracy: 0.6730 - loss: 0.5831\n",
            "Epoch 20: val_accuracy did not improve from 0.64274\n",
            "\u001b[1m293/293\u001b[0m \u001b[32m━━━━━━━━━━━━━━━━━━━━\u001b[0m\u001b[37m\u001b[0m \u001b[1m78s\u001b[0m 144ms/step - accuracy: 0.6730 - loss: 0.5831 - val_accuracy: 0.6338 - val_loss: 0.6299 - learning_rate: 2.5000e-05\n",
            "Epoch 21/50\n",
            "\u001b[1m293/293\u001b[0m \u001b[32m━━━━━━━━━━━━━━━━━━━━\u001b[0m\u001b[37m\u001b[0m \u001b[1m0s\u001b[0m 146ms/step - accuracy: 0.6732 - loss: 0.5871\n",
            "Epoch 21: val_accuracy improved from 0.64274 to 0.64615, saving model to ANN_model.keras\n",
            "\u001b[1m293/293\u001b[0m \u001b[32m━━━━━━━━━━━━━━━━━━━━\u001b[0m\u001b[37m\u001b[0m \u001b[1m44s\u001b[0m 152ms/step - accuracy: 0.6732 - loss: 0.5871 - val_accuracy: 0.6462 - val_loss: 0.6294 - learning_rate: 2.5000e-05\n",
            "Epoch 22/50\n",
            "\u001b[1m293/293\u001b[0m \u001b[32m━━━━━━━━━━━━━━━━━━━━\u001b[0m\u001b[37m\u001b[0m \u001b[1m0s\u001b[0m 156ms/step - accuracy: 0.6780 - loss: 0.5827\n",
            "Epoch 22: val_accuracy did not improve from 0.64615\n",
            "\u001b[1m293/293\u001b[0m \u001b[32m━━━━━━━━━━━━━━━━━━━━\u001b[0m\u001b[37m\u001b[0m \u001b[1m85s\u001b[0m 163ms/step - accuracy: 0.6780 - loss: 0.5827 - val_accuracy: 0.6389 - val_loss: 0.6299 - learning_rate: 2.5000e-05\n",
            "Epoch 23/50\n",
            "\u001b[1m293/293\u001b[0m \u001b[32m━━━━━━━━━━━━━━━━━━━━\u001b[0m\u001b[37m\u001b[0m \u001b[1m0s\u001b[0m 159ms/step - accuracy: 0.6885 - loss: 0.5758\n",
            "Epoch 23: val_accuracy did not improve from 0.64615\n",
            "\u001b[1m293/293\u001b[0m \u001b[32m━━━━━━━━━━━━━━━━━━━━\u001b[0m\u001b[37m\u001b[0m \u001b[1m82s\u001b[0m 164ms/step - accuracy: 0.6885 - loss: 0.5758 - val_accuracy: 0.6376 - val_loss: 0.6312 - learning_rate: 2.5000e-05\n",
            "Epoch 24/50\n",
            "\u001b[1m293/293\u001b[0m \u001b[32m━━━━━━━━━━━━━━━━━━━━\u001b[0m\u001b[37m\u001b[0m \u001b[1m0s\u001b[0m 151ms/step - accuracy: 0.6766 - loss: 0.5794\n",
            "Epoch 24: val_accuracy did not improve from 0.64615\n",
            "\n",
            "Epoch 24: ReduceLROnPlateau reducing learning rate to 1.249999968422344e-05.\n",
            "\u001b[1m293/293\u001b[0m \u001b[32m━━━━━━━━━━━━━━━━━━━━\u001b[0m\u001b[37m\u001b[0m \u001b[1m46s\u001b[0m 156ms/step - accuracy: 0.6766 - loss: 0.5794 - val_accuracy: 0.6432 - val_loss: 0.6267 - learning_rate: 2.5000e-05\n",
            "Epoch 25/50\n",
            "\u001b[1m293/293\u001b[0m \u001b[32m━━━━━━━━━━━━━━━━━━━━\u001b[0m\u001b[37m\u001b[0m \u001b[1m0s\u001b[0m 142ms/step - accuracy: 0.6888 - loss: 0.5663\n",
            "Epoch 25: val_accuracy did not improve from 0.64615\n",
            "\u001b[1m293/293\u001b[0m \u001b[32m━━━━━━━━━━━━━━━━━━━━\u001b[0m\u001b[37m\u001b[0m \u001b[1m79s\u001b[0m 147ms/step - accuracy: 0.6888 - loss: 0.5663 - val_accuracy: 0.6444 - val_loss: 0.6235 - learning_rate: 1.2500e-05\n",
            "Epoch 26/50\n",
            "\u001b[1m293/293\u001b[0m \u001b[32m━━━━━━━━━━━━━━━━━━━━\u001b[0m\u001b[37m\u001b[0m \u001b[1m0s\u001b[0m 169ms/step - accuracy: 0.6903 - loss: 0.5703\n",
            "Epoch 26: val_accuracy improved from 0.64615 to 0.64701, saving model to ANN_model.keras\n",
            "\u001b[1m293/293\u001b[0m \u001b[32m━━━━━━━━━━━━━━━━━━━━\u001b[0m\u001b[37m\u001b[0m \u001b[1m90s\u001b[0m 176ms/step - accuracy: 0.6903 - loss: 0.5703 - val_accuracy: 0.6470 - val_loss: 0.6254 - learning_rate: 1.2500e-05\n",
            "Epoch 27/50\n",
            "\u001b[1m293/293\u001b[0m \u001b[32m━━━━━━━━━━━━━━━━━━━━\u001b[0m\u001b[37m\u001b[0m \u001b[1m0s\u001b[0m 156ms/step - accuracy: 0.6925 - loss: 0.5652\n",
            "Epoch 27: val_accuracy did not improve from 0.64701\n",
            "\u001b[1m293/293\u001b[0m \u001b[32m━━━━━━━━━━━━━━━━━━━━\u001b[0m\u001b[37m\u001b[0m \u001b[1m78s\u001b[0m 161ms/step - accuracy: 0.6925 - loss: 0.5652 - val_accuracy: 0.6440 - val_loss: 0.6253 - learning_rate: 1.2500e-05\n",
            "Epoch 28/50\n",
            "\u001b[1m293/293\u001b[0m \u001b[32m━━━━━━━━━━━━━━━━━━━━\u001b[0m\u001b[37m\u001b[0m \u001b[1m0s\u001b[0m 141ms/step - accuracy: 0.7013 - loss: 0.5563\n",
            "Epoch 28: val_accuracy did not improve from 0.64701\n",
            "\u001b[1m293/293\u001b[0m \u001b[32m━━━━━━━━━━━━━━━━━━━━\u001b[0m\u001b[37m\u001b[0m \u001b[1m78s\u001b[0m 146ms/step - accuracy: 0.7013 - loss: 0.5564 - val_accuracy: 0.6423 - val_loss: 0.6270 - learning_rate: 1.2500e-05\n",
            "Epoch 29/50\n",
            "\u001b[1m293/293\u001b[0m \u001b[32m━━━━━━━━━━━━━━━━━━━━\u001b[0m\u001b[37m\u001b[0m \u001b[1m0s\u001b[0m 148ms/step - accuracy: 0.7011 - loss: 0.5645\n",
            "Epoch 29: val_accuracy did not improve from 0.64701\n",
            "\n",
            "Epoch 29: ReduceLROnPlateau reducing learning rate to 1e-05.\n",
            "\u001b[1m293/293\u001b[0m \u001b[32m━━━━━━━━━━━━━━━━━━━━\u001b[0m\u001b[37m\u001b[0m \u001b[1m45s\u001b[0m 152ms/step - accuracy: 0.7011 - loss: 0.5645 - val_accuracy: 0.6436 - val_loss: 0.6250 - learning_rate: 1.2500e-05\n",
            "Epoch 30/50\n",
            "\u001b[1m293/293\u001b[0m \u001b[32m━━━━━━━━━━━━━━━━━━━━\u001b[0m\u001b[37m\u001b[0m \u001b[1m0s\u001b[0m 173ms/step - accuracy: 0.6959 - loss: 0.5595\n",
            "Epoch 30: val_accuracy did not improve from 0.64701\n",
            "\u001b[1m293/293\u001b[0m \u001b[32m━━━━━━━━━━━━━━━━━━━━\u001b[0m\u001b[37m\u001b[0m \u001b[1m91s\u001b[0m 182ms/step - accuracy: 0.6959 - loss: 0.5595 - val_accuracy: 0.6423 - val_loss: 0.6225 - learning_rate: 1.0000e-05\n",
            "Epoch 31/50\n",
            "\u001b[1m293/293\u001b[0m \u001b[32m━━━━━━━━━━━━━━━━━━━━\u001b[0m\u001b[37m\u001b[0m \u001b[1m0s\u001b[0m 142ms/step - accuracy: 0.7014 - loss: 0.5545\n",
            "Epoch 31: val_accuracy did not improve from 0.64701\n",
            "\u001b[1m293/293\u001b[0m \u001b[32m━━━━━━━━━━━━━━━━━━━━\u001b[0m\u001b[37m\u001b[0m \u001b[1m72s\u001b[0m 149ms/step - accuracy: 0.7014 - loss: 0.5545 - val_accuracy: 0.6380 - val_loss: 0.6257 - learning_rate: 1.0000e-05\n",
            "Epoch 32/50\n",
            "\u001b[1m293/293\u001b[0m \u001b[32m━━━━━━━━━━━━━━━━━━━━\u001b[0m\u001b[37m\u001b[0m \u001b[1m0s\u001b[0m 137ms/step - accuracy: 0.7017 - loss: 0.5558\n",
            "Epoch 32: val_accuracy did not improve from 0.64701\n",
            "\u001b[1m293/293\u001b[0m \u001b[32m━━━━━━━━━━━━━━━━━━━━\u001b[0m\u001b[37m\u001b[0m \u001b[1m80s\u001b[0m 142ms/step - accuracy: 0.7017 - loss: 0.5558 - val_accuracy: 0.6457 - val_loss: 0.6225 - learning_rate: 1.0000e-05\n",
            "Epoch 33/50\n",
            "\u001b[1m293/293\u001b[0m \u001b[32m━━━━━━━━━━━━━━━━━━━━\u001b[0m\u001b[37m\u001b[0m \u001b[1m0s\u001b[0m 151ms/step - accuracy: 0.6972 - loss: 0.5577\n",
            "Epoch 33: val_accuracy did not improve from 0.64701\n",
            "\u001b[1m293/293\u001b[0m \u001b[32m━━━━━━━━━━━━━━━━━━━━\u001b[0m\u001b[37m\u001b[0m \u001b[1m86s\u001b[0m 155ms/step - accuracy: 0.6972 - loss: 0.5577 - val_accuracy: 0.6466 - val_loss: 0.6230 - learning_rate: 1.0000e-05\n",
            "Epoch 34/50\n",
            "\u001b[1m293/293\u001b[0m \u001b[32m━━━━━━━━━━━━━━━━━━━━\u001b[0m\u001b[37m\u001b[0m \u001b[1m0s\u001b[0m 177ms/step - accuracy: 0.7051 - loss: 0.5475\n",
            "Epoch 34: val_accuracy did not improve from 0.64701\n",
            "\u001b[1m293/293\u001b[0m \u001b[32m━━━━━━━━━━━━━━━━━━━━\u001b[0m\u001b[37m\u001b[0m \u001b[1m91s\u001b[0m 186ms/step - accuracy: 0.7051 - loss: 0.5475 - val_accuracy: 0.6466 - val_loss: 0.6228 - learning_rate: 1.0000e-05\n",
            "Epoch 35/50\n",
            "\u001b[1m293/293\u001b[0m \u001b[32m━━━━━━━━━━━━━━━━━━━━\u001b[0m\u001b[37m\u001b[0m \u001b[1m0s\u001b[0m 153ms/step - accuracy: 0.7052 - loss: 0.5560\n",
            "Epoch 35: val_accuracy did not improve from 0.64701\n",
            "\u001b[1m293/293\u001b[0m \u001b[32m━━━━━━━━━━━━━━━━━━━━\u001b[0m\u001b[37m\u001b[0m \u001b[1m46s\u001b[0m 158ms/step - accuracy: 0.7052 - loss: 0.5559 - val_accuracy: 0.6427 - val_loss: 0.6247 - learning_rate: 1.0000e-05\n",
            "Epoch 36/50\n",
            "\u001b[1m293/293\u001b[0m \u001b[32m━━━━━━━━━━━━━━━━━━━━\u001b[0m\u001b[37m\u001b[0m \u001b[1m0s\u001b[0m 155ms/step - accuracy: 0.6937 - loss: 0.5584\n",
            "Epoch 36: val_accuracy did not improve from 0.64701\n",
            "\u001b[1m293/293\u001b[0m \u001b[32m━━━━━━━━━━━━━━━━━━━━\u001b[0m\u001b[37m\u001b[0m \u001b[1m83s\u001b[0m 160ms/step - accuracy: 0.6937 - loss: 0.5584 - val_accuracy: 0.6436 - val_loss: 0.6222 - learning_rate: 1.0000e-05\n",
            "Epoch 37/50\n",
            "\u001b[1m293/293\u001b[0m \u001b[32m━━━━━━━━━━━━━━━━━━━━\u001b[0m\u001b[37m\u001b[0m \u001b[1m0s\u001b[0m 146ms/step - accuracy: 0.7064 - loss: 0.5486\n",
            "Epoch 37: val_accuracy improved from 0.64701 to 0.64744, saving model to ANN_model.keras\n",
            "\u001b[1m293/293\u001b[0m \u001b[32m━━━━━━━━━━━━━━━━━━━━\u001b[0m\u001b[37m\u001b[0m \u001b[1m81s\u001b[0m 157ms/step - accuracy: 0.7064 - loss: 0.5486 - val_accuracy: 0.6474 - val_loss: 0.6224 - learning_rate: 1.0000e-05\n",
            "Epoch 38/50\n",
            "\u001b[1m293/293\u001b[0m \u001b[32m━━━━━━━━━━━━━━━━━━━━\u001b[0m\u001b[37m\u001b[0m \u001b[1m0s\u001b[0m 157ms/step - accuracy: 0.7076 - loss: 0.5472\n",
            "Epoch 38: val_accuracy improved from 0.64744 to 0.64957, saving model to ANN_model.keras\n",
            "\u001b[1m293/293\u001b[0m \u001b[32m━━━━━━━━━━━━━━━━━━━━\u001b[0m\u001b[37m\u001b[0m \u001b[1m85s\u001b[0m 166ms/step - accuracy: 0.7076 - loss: 0.5472 - val_accuracy: 0.6496 - val_loss: 0.6229 - learning_rate: 1.0000e-05\n",
            "Epoch 39/50\n",
            "\u001b[1m293/293\u001b[0m \u001b[32m━━━━━━━━━━━━━━━━━━━━\u001b[0m\u001b[37m\u001b[0m \u001b[1m0s\u001b[0m 155ms/step - accuracy: 0.7068 - loss: 0.5443\n",
            "Epoch 39: val_accuracy did not improve from 0.64957\n",
            "\u001b[1m293/293\u001b[0m \u001b[32m━━━━━━━━━━━━━━━━━━━━\u001b[0m\u001b[37m\u001b[0m \u001b[1m80s\u001b[0m 160ms/step - accuracy: 0.7068 - loss: 0.5443 - val_accuracy: 0.6496 - val_loss: 0.6214 - learning_rate: 1.0000e-05\n",
            "Epoch 40/50\n",
            "\u001b[1m293/293\u001b[0m \u001b[32m━━━━━━━━━━━━━━━━━━━━\u001b[0m\u001b[37m\u001b[0m \u001b[1m0s\u001b[0m 146ms/step - accuracy: 0.7069 - loss: 0.5451\n",
            "Epoch 40: val_accuracy did not improve from 0.64957\n",
            "\u001b[1m293/293\u001b[0m \u001b[32m━━━━━━━━━━━━━━━━━━━━\u001b[0m\u001b[37m\u001b[0m \u001b[1m79s\u001b[0m 151ms/step - accuracy: 0.7069 - loss: 0.5451 - val_accuracy: 0.6483 - val_loss: 0.6216 - learning_rate: 1.0000e-05\n",
            "Epoch 41/50\n",
            "\u001b[1m293/293\u001b[0m \u001b[32m━━━━━━━━━━━━━━━━━━━━\u001b[0m\u001b[37m\u001b[0m \u001b[1m0s\u001b[0m 138ms/step - accuracy: 0.7088 - loss: 0.5454\n",
            "Epoch 41: val_accuracy did not improve from 0.64957\n",
            "\u001b[1m293/293\u001b[0m \u001b[32m━━━━━━━━━━━━━━━━━━━━\u001b[0m\u001b[37m\u001b[0m \u001b[1m80s\u001b[0m 146ms/step - accuracy: 0.7088 - loss: 0.5454 - val_accuracy: 0.6444 - val_loss: 0.6249 - learning_rate: 1.0000e-05\n",
            "Epoch 42/50\n",
            "\u001b[1m293/293\u001b[0m \u001b[32m━━━━━━━━━━━━━━━━━━━━\u001b[0m\u001b[37m\u001b[0m \u001b[1m0s\u001b[0m 154ms/step - accuracy: 0.7002 - loss: 0.5473\n",
            "Epoch 42: val_accuracy did not improve from 0.64957\n",
            "\u001b[1m293/293\u001b[0m \u001b[32m━━━━━━━━━━━━━━━━━━━━\u001b[0m\u001b[37m\u001b[0m \u001b[1m86s\u001b[0m 160ms/step - accuracy: 0.7002 - loss: 0.5473 - val_accuracy: 0.6470 - val_loss: 0.6243 - learning_rate: 1.0000e-05\n",
            "Epoch 43/50\n",
            "\u001b[1m293/293\u001b[0m \u001b[32m━━━━━━━━━━━━━━━━━━━━\u001b[0m\u001b[37m\u001b[0m \u001b[1m0s\u001b[0m 154ms/step - accuracy: 0.7129 - loss: 0.5417\n",
            "Epoch 43: val_accuracy did not improve from 0.64957\n",
            "\u001b[1m293/293\u001b[0m \u001b[32m━━━━━━━━━━━━━━━━━━━━\u001b[0m\u001b[37m\u001b[0m \u001b[1m82s\u001b[0m 159ms/step - accuracy: 0.7128 - loss: 0.5417 - val_accuracy: 0.6440 - val_loss: 0.6251 - learning_rate: 1.0000e-05\n",
            "Epoch 44/50\n",
            "\u001b[1m293/293\u001b[0m \u001b[32m━━━━━━━━━━━━━━━━━━━━\u001b[0m\u001b[37m\u001b[0m \u001b[1m0s\u001b[0m 142ms/step - accuracy: 0.7131 - loss: 0.5399\n",
            "Epoch 44: val_accuracy did not improve from 0.64957\n",
            "\u001b[1m293/293\u001b[0m \u001b[32m━━━━━━━━━━━━━━━━━━━━\u001b[0m\u001b[37m\u001b[0m \u001b[1m78s\u001b[0m 146ms/step - accuracy: 0.7131 - loss: 0.5399 - val_accuracy: 0.6449 - val_loss: 0.6229 - learning_rate: 1.0000e-05\n",
            "Epoch 45/50\n",
            "\u001b[1m293/293\u001b[0m \u001b[32m━━━━━━━━━━━━━━━━━━━━\u001b[0m\u001b[37m\u001b[0m \u001b[1m0s\u001b[0m 144ms/step - accuracy: 0.7181 - loss: 0.5419\n",
            "Epoch 45: val_accuracy did not improve from 0.64957\n",
            "\u001b[1m293/293\u001b[0m \u001b[32m━━━━━━━━━━━━━━━━━━━━\u001b[0m\u001b[37m\u001b[0m \u001b[1m82s\u001b[0m 149ms/step - accuracy: 0.7181 - loss: 0.5419 - val_accuracy: 0.6470 - val_loss: 0.6224 - learning_rate: 1.0000e-05\n",
            "Epoch 46/50\n",
            "\u001b[1m293/293\u001b[0m \u001b[32m━━━━━━━━━━━━━━━━━━━━\u001b[0m\u001b[37m\u001b[0m \u001b[1m0s\u001b[0m 151ms/step - accuracy: 0.7097 - loss: 0.5431\n",
            "Epoch 46: val_accuracy improved from 0.64957 to 0.65214, saving model to ANN_model.keras\n",
            "\u001b[1m293/293\u001b[0m \u001b[32m━━━━━━━━━━━━━━━━━━━━\u001b[0m\u001b[37m\u001b[0m \u001b[1m47s\u001b[0m 161ms/step - accuracy: 0.7097 - loss: 0.5431 - val_accuracy: 0.6521 - val_loss: 0.6206 - learning_rate: 1.0000e-05\n",
            "Epoch 47/50\n",
            "\u001b[1m293/293\u001b[0m \u001b[32m━━━━━━━━━━━━━━━━━━━━\u001b[0m\u001b[37m\u001b[0m \u001b[1m0s\u001b[0m 149ms/step - accuracy: 0.7108 - loss: 0.5420\n",
            "Epoch 47: val_accuracy did not improve from 0.65214\n",
            "\u001b[1m293/293\u001b[0m \u001b[32m━━━━━━━━━━━━━━━━━━━━\u001b[0m\u001b[37m\u001b[0m \u001b[1m80s\u001b[0m 153ms/step - accuracy: 0.7108 - loss: 0.5420 - val_accuracy: 0.6453 - val_loss: 0.6260 - learning_rate: 1.0000e-05\n",
            "Epoch 48/50\n",
            "\u001b[1m293/293\u001b[0m \u001b[32m━━━━━━━━━━━━━━━━━━━━\u001b[0m\u001b[37m\u001b[0m \u001b[1m0s\u001b[0m 148ms/step - accuracy: 0.7137 - loss: 0.5420\n",
            "Epoch 48: val_accuracy did not improve from 0.65214\n",
            "\u001b[1m293/293\u001b[0m \u001b[32m━━━━━━━━━━━━━━━━━━━━\u001b[0m\u001b[37m\u001b[0m \u001b[1m83s\u001b[0m 157ms/step - accuracy: 0.7137 - loss: 0.5420 - val_accuracy: 0.6496 - val_loss: 0.6242 - learning_rate: 1.0000e-05\n",
            "Epoch 49/50\n",
            "\u001b[1m293/293\u001b[0m \u001b[32m━━━━━━━━━━━━━━━━━━━━\u001b[0m\u001b[37m\u001b[0m \u001b[1m0s\u001b[0m 141ms/step - accuracy: 0.7164 - loss: 0.5373\n",
            "Epoch 49: val_accuracy did not improve from 0.65214\n",
            "\u001b[1m293/293\u001b[0m \u001b[32m━━━━━━━━━━━━━━━━━━━━\u001b[0m\u001b[37m\u001b[0m \u001b[1m80s\u001b[0m 150ms/step - accuracy: 0.7164 - loss: 0.5373 - val_accuracy: 0.6462 - val_loss: 0.6247 - learning_rate: 1.0000e-05\n",
            "Epoch 50/50\n",
            "\u001b[1m293/293\u001b[0m \u001b[32m━━━━━━━━━━━━━━━━━━━━\u001b[0m\u001b[37m\u001b[0m \u001b[1m0s\u001b[0m 159ms/step - accuracy: 0.7178 - loss: 0.5342\n",
            "Epoch 50: val_accuracy improved from 0.65214 to 0.65385, saving model to ANN_model.keras\n",
            "\u001b[1m293/293\u001b[0m \u001b[32m━━━━━━━━━━━━━━━━━━━━\u001b[0m\u001b[37m\u001b[0m \u001b[1m86s\u001b[0m 165ms/step - accuracy: 0.7177 - loss: 0.5342 - val_accuracy: 0.6538 - val_loss: 0.6214 - learning_rate: 1.0000e-05\n",
            "Restoring model weights from the end of the best epoch: 46.\n",
            "\u001b[1m74/74\u001b[0m \u001b[32m━━━━━━━━━━━━━━━━━━━━\u001b[0m\u001b[37m\u001b[0m \u001b[1m3s\u001b[0m 32ms/step\n",
            "Classification Report:\n",
            "               precision    recall  f1-score   support\n",
            "\n",
            "         0.0       0.65      0.66      0.65      1169\n",
            "         1.0       0.65      0.65      0.65      1171\n",
            "\n",
            "    accuracy                           0.65      2340\n",
            "   macro avg       0.65      0.65      0.65      2340\n",
            "weighted avg       0.65      0.65      0.65      2340\n",
            "\n"
          ]
        }
      ],
      "source": [
        "history = model.fit(\n",
        "    X_train_flattened, y_train,\n",
        "    batch_size=32,\n",
        "    epochs=50,\n",
        "    validation_data=(X_test_flattened, y_val),\n",
        "    callbacks=[checkpoint, early_stopping, learning_rate_reduction]\n",
        ")\n",
        "y_pred = (model.predict(X_test_flattened) > 0.5).astype(\"int32\")\n",
        "print('Classification Report:\\n', classification_report(y_val, y_pred))"
      ]
    },
    {
      "cell_type": "code",
      "execution_count": 35,
      "id": "7b7524e6-82ec-40ba-99b4-38ba5f0c14c2",
      "metadata": {
        "colab": {
          "base_uri": "https://localhost:8080/",
          "height": 486
        },
        "id": "7b7524e6-82ec-40ba-99b4-38ba5f0c14c2",
        "outputId": "f45c76c6-7dc0-4324-e82f-485ab59a754f"
      },
      "outputs": [
        {
          "data": {
            "image/png": "[encoded data removed]",
            "text/plain": [
              "<Figure size 640x480 with 2 Axes>"
            ]
          },
          "metadata": {},
          "output_type": "display_data"
        }
      ],
      "source": [
        "fig, ax = plt.subplots(2, 1)\n",
        "ax[0].plot(history.history['loss'], color='b', label=\"Training loss\")\n",
        "ax[0].plot(history.history['val_loss'], color='r', label=\"Validation loss\")\n",
        "ax[0].legend(loc='best', shadow=True)\n",
        "ax[0].set_title(\"Loss\")\n",
        "ax[0].set_xlabel(\"Epochs\")\n",
        "ax[0].set_ylabel(\"Loss\")\n",
        "ax[1].plot(history.history['accuracy'], color='b', label=\"Training accuracy\")\n",
        "ax[1].plot(history.history['val_accuracy'], color='r', label=\"Validation accuracy\")\n",
        "ax[1].legend(loc='best', shadow=True)\n",
        "ax[1].set_title(\"Accuracy\")\n",
        "ax[1].set_xlabel(\"Epochs\")\n",
        "ax[1].set_ylabel(\"Accuracy\")\n",
        "plt.tight_layout()\n",
        "plt.show()"
      ]
    },
    {
      "cell_type": "code",
      "execution_count": 34,
      "id": "0bbbd10c-a7c2-405e-9738-87938c06f5e4",
      "metadata": {
        "colab": {
          "base_uri": "https://localhost:8080/"
        },
        "id": "0bbbd10c-a7c2-405e-9738-87938c06f5e4",
        "outputId": "000df75e-6a57-4338-d1cb-51426f20bb43"
      },
      "outputs": [
        {
          "name": "stdout",
          "output_type": "stream",
          "text": [
            "\u001b[1m1/1\u001b[0m \u001b[32m━━━━━━━━━━━━━━━━━━━━\u001b[0m\u001b[37m\u001b[0m \u001b[1m0s\u001b[0m 121ms/step\n",
            "The image is a Dog with probability 0.91\n"
          ]
        }
      ],
      "source": [
        "from tensorflow.keras.models import load_model\n",
        "from tensorflow.keras.preprocessing.image import load_img, img_to_array\n",
        "import numpy as np\n",
        "\n",
        "image_path = \"/content/golden-retriever-bokeh-labrador-lawn-dogs.jpg\"\n",
        "model_path = \"/content/ANN_model.keras\"\n",
        "\n",
        "img = load_img(image_path, target_size=(150, 150))\n",
        "img_array = img_to_array(img)\n",
        "img_array = img_array / 255.0\n",
        "img_flattened = img_array.flatten()\n",
        "img_flattened = np.expand_dims(img_flattened, axis=0)\n",
        "\n",
        "model = load_model(model_path)\n",
        "\n",
        "\n",
        "prediction = model.predict(img_flattened)\n",
        "\n",
        "\n",
        "if prediction[0][0] > 0.5:\n",
        "    print(f\"The image is a Dog with probability {prediction[0][0]:.2f}\")\n",
        "else:\n",
        "    print(f\"The image is a Cat with probability {1 - prediction[0][0]:.2f}\")"
      ]
    },
    {
      "cell_type": "code",
      "execution_count": 30,
      "id": "102e54b6-f631-4cb6-8c7d-525eff44a7c7",
      "metadata": {
        "colab": {
          "base_uri": "https://localhost:8080/",
          "height": 355
        },
        "id": "102e54b6-f631-4cb6-8c7d-525eff44a7c7",
        "outputId": "28957cdf-cfd7-4c7f-898f-b0a6dcdf746c"
      },
      "outputs": [
        {
          "data": {
            "text/html": [
              "<pre style=\"white-space:pre;overflow-x:auto;line-height:normal;font-family:Menlo,'DejaVu Sans Mono',consolas,'Courier New',monospace\"><span style=\"font-weight: bold\">Model: \"sequential\"</span>\n",
              "</pre>\n"
            ],
            "text/plain": [
              "\u001b[1mModel: \"sequential\"\u001b[0m\n"
            ]
          },
          "metadata": {},
          "output_type": "display_data"
        },
        {
          "data": {
            "text/html": [
              "<pre style=\"white-space:pre;overflow-x:auto;line-height:normal;font-family:Menlo,'DejaVu Sans Mono',consolas,'Courier New',monospace\">┏━━━━━━━━━━━━━━━━━━━━━━━━━━━━━━━━━━━━━━┳━━━━━━━━━━━━━━━━━━━━━━━━━━━━━┳━━━━━━━━━━━━━━━━━┓\n",
              "┃<span style=\"font-weight: bold\"> Layer (type)                         </span>┃<span style=\"font-weight: bold\"> Output Shape                </span>┃<span style=\"font-weight: bold\">         Param # </span>┃\n",
              "┡━━━━━━━━━━━━━━━━━━━━━━━━━━━━━━━━━━━━━━╇━━━━━━━━━━━━━━━━━━━━━━━━━━━━━╇━━━━━━━━━━━━━━━━━┩\n",
              "│ dense (<span style=\"color: #0087ff; text-decoration-color: #0087ff\">Dense</span>)                        │ (<span style=\"color: #00d7ff; text-decoration-color: #00d7ff\">None</span>, <span style=\"color: #00af00; text-decoration-color: #00af00\">128</span>)                 │       <span style=\"color: #00af00; text-decoration-color: #00af00\">8,640,128</span> │\n",
              "├──────────────────────────────────────┼─────────────────────────────┼─────────────────┤\n",
              "│ dense_1 (<span style=\"color: #0087ff; text-decoration-color: #0087ff\">Dense</span>)                      │ (<span style=\"color: #00d7ff; text-decoration-color: #00d7ff\">None</span>, <span style=\"color: #00af00; text-decoration-color: #00af00\">128</span>)                 │          <span style=\"color: #00af00; text-decoration-color: #00af00\">16,512</span> │\n",
              "├──────────────────────────────────────┼─────────────────────────────┼─────────────────┤\n",
              "│ dense_2 (<span style=\"color: #0087ff; text-decoration-color: #0087ff\">Dense</span>)                      │ (<span style=\"color: #00d7ff; text-decoration-color: #00d7ff\">None</span>, <span style=\"color: #00af00; text-decoration-color: #00af00\">64</span>)                  │           <span style=\"color: #00af00; text-decoration-color: #00af00\">8,256</span> │\n",
              "├──────────────────────────────────────┼─────────────────────────────┼─────────────────┤\n",
              "│ dense_3 (<span style=\"color: #0087ff; text-decoration-color: #0087ff\">Dense</span>)                      │ (<span style=\"color: #00d7ff; text-decoration-color: #00d7ff\">None</span>, <span style=\"color: #00af00; text-decoration-color: #00af00\">32</span>)                  │           <span style=\"color: #00af00; text-decoration-color: #00af00\">2,080</span> │\n",
              "├──────────────────────────────────────┼─────────────────────────────┼─────────────────┤\n",
              "│ dropout (<span style=\"color: #0087ff; text-decoration-color: #0087ff\">Dropout</span>)                    │ (<span style=\"color: #00d7ff; text-decoration-color: #00d7ff\">None</span>, <span style=\"color: #00af00; text-decoration-color: #00af00\">32</span>)                  │               <span style=\"color: #00af00; text-decoration-color: #00af00\">0</span> │\n",
              "├──────────────────────────────────────┼─────────────────────────────┼─────────────────┤\n",
              "│ dense_4 (<span style=\"color: #0087ff; text-decoration-color: #0087ff\">Dense</span>)                      │ (<span style=\"color: #00d7ff; text-decoration-color: #00d7ff\">None</span>, <span style=\"color: #00af00; text-decoration-color: #00af00\">1</span>)                   │              <span style=\"color: #00af00; text-decoration-color: #00af00\">33</span> │\n",
              "└──────────────────────────────────────┴─────────────────────────────┴─────────────────┘\n",
              "</pre>\n"
            ],
            "text/plain": [
              "┏━━━━━━━━━━━━━━━━━━━━━━━━━━━━━━━━━━━━━━┳━━━━━━━━━━━━━━━━━━━━━━━━━━━━━┳━━━━━━━━━━━━━━━━━┓\n",
              "┃\u001b[1m \u001b[0m\u001b[1mLayer (type)                        \u001b[0m\u001b[1m \u001b[0m┃\u001b[1m \u001b[0m\u001b[1mOutput Shape               \u001b[0m\u001b[1m \u001b[0m┃\u001b[1m \u001b[0m\u001b[1m        Param #\u001b[0m\u001b[1m \u001b[0m┃\n",
              "┡━━━━━━━━━━━━━━━━━━━━━━━━━━━━━━━━━━━━━━╇━━━━━━━━━━━━━━━━━━━━━━━━━━━━━╇━━━━━━━━━━━━━━━━━┩\n",
              "│ dense (\u001b[38;5;33mDense\u001b[0m)                        │ (\u001b[38;5;45mNone\u001b[0m, \u001b[38;5;34m128\u001b[0m)                 │       \u001b[38;5;34m8,640,128\u001b[0m │\n",
              "├──────────────────────────────────────┼─────────────────────────────┼─────────────────┤\n",
              "│ dense_1 (\u001b[38;5;33mDense\u001b[0m)                      │ (\u001b[38;5;45mNone\u001b[0m, \u001b[38;5;34m128\u001b[0m)                 │          \u001b[38;5;34m16,512\u001b[0m │\n",
              "├──────────────────────────────────────┼─────────────────────────────┼─────────────────┤\n",
              "│ dense_2 (\u001b[38;5;33mDense\u001b[0m)                      │ (\u001b[38;5;45mNone\u001b[0m, \u001b[38;5;34m64\u001b[0m)                  │           \u001b[38;5;34m8,256\u001b[0m │\n",
              "├──────────────────────────────────────┼─────────────────────────────┼─────────────────┤\n",
              "│ dense_3 (\u001b[38;5;33mDense\u001b[0m)                      │ (\u001b[38;5;45mNone\u001b[0m, \u001b[38;5;34m32\u001b[0m)                  │           \u001b[38;5;34m2,080\u001b[0m │\n",
              "├──────────────────────────────────────┼─────────────────────────────┼─────────────────┤\n",
              "│ dropout (\u001b[38;5;33mDropout\u001b[0m)                    │ (\u001b[38;5;45mNone\u001b[0m, \u001b[38;5;34m32\u001b[0m)                  │               \u001b[38;5;34m0\u001b[0m │\n",
              "├──────────────────────────────────────┼─────────────────────────────┼─────────────────┤\n",
              "│ dense_4 (\u001b[38;5;33mDense\u001b[0m)                      │ (\u001b[38;5;45mNone\u001b[0m, \u001b[38;5;34m1\u001b[0m)                   │              \u001b[38;5;34m33\u001b[0m │\n",
              "└──────────────────────────────────────┴─────────────────────────────┴─────────────────┘\n"
            ]
          },
          "metadata": {},
          "output_type": "display_data"
        },
        {
          "data": {
            "text/html": [
              "<pre style=\"white-space:pre;overflow-x:auto;line-height:normal;font-family:Menlo,'DejaVu Sans Mono',consolas,'Courier New',monospace\"><span style=\"font-weight: bold\"> Total params: </span><span style=\"color: #00af00; text-decoration-color: #00af00\">26,001,029</span> (99.19 MB)\n",
              "</pre>\n"
            ],
            "text/plain": [
              "\u001b[1m Total params: \u001b[0m\u001b[38;5;34m26,001,029\u001b[0m (99.19 MB)\n"
            ]
          },
          "metadata": {},
          "output_type": "display_data"
        },
        {
          "data": {
            "text/html": [
              "<pre style=\"white-space:pre;overflow-x:auto;line-height:normal;font-family:Menlo,'DejaVu Sans Mono',consolas,'Courier New',monospace\"><span style=\"font-weight: bold\"> Trainable params: </span><span style=\"color: #00af00; text-decoration-color: #00af00\">8,667,009</span> (33.06 MB)\n",
              "</pre>\n"
            ],
            "text/plain": [
              "\u001b[1m Trainable params: \u001b[0m\u001b[38;5;34m8,667,009\u001b[0m (33.06 MB)\n"
            ]
          },
          "metadata": {},
          "output_type": "display_data"
        },
        {
          "data": {
            "text/html": [
              "<pre style=\"white-space:pre;overflow-x:auto;line-height:normal;font-family:Menlo,'DejaVu Sans Mono',consolas,'Courier New',monospace\"><span style=\"font-weight: bold\"> Non-trainable params: </span><span style=\"color: #00af00; text-decoration-color: #00af00\">0</span> (0.00 B)\n",
              "</pre>\n"
            ],
            "text/plain": [
              "\u001b[1m Non-trainable params: \u001b[0m\u001b[38;5;34m0\u001b[0m (0.00 B)\n"
            ]
          },
          "metadata": {},
          "output_type": "display_data"
        },
        {
          "data": {
            "text/html": [
              "<pre style=\"white-space:pre;overflow-x:auto;line-height:normal;font-family:Menlo,'DejaVu Sans Mono',consolas,'Courier New',monospace\"><span style=\"font-weight: bold\"> Optimizer params: </span><span style=\"color: #00af00; text-decoration-color: #00af00\">17,334,020</span> (66.12 MB)\n",
              "</pre>\n"
            ],
            "text/plain": [
              "\u001b[1m Optimizer params: \u001b[0m\u001b[38;5;34m17,334,020\u001b[0m (66.12 MB)\n"
            ]
          },
          "metadata": {},
          "output_type": "display_data"
        },
        {
          "name": "stdout",
          "output_type": "stream",
          "text": [
            "None\n"
          ]
        }
      ],
      "source": [
        "print(model.summary())"
      ]
    },
    {
      "cell_type": "markdown",
      "id": "b1aa184c-95aa-4c1d-825e-da97d578f329",
      "metadata": {
        "id": "b1aa184c-95aa-4c1d-825e-da97d578f329"
      },
      "source": [
        "## NN2"
      ]
    },
    {
      "cell_type": "code",
      "execution_count": 36,
      "id": "a3e4df2a-1069-4cf8-8820-303a21c6ed36",
      "metadata": {
        "colab": {
          "base_uri": "https://localhost:8080/"
        },
        "id": "a3e4df2a-1069-4cf8-8820-303a21c6ed36",
        "outputId": "a00538ef-2f59-43d2-d742-a6f41d3d95ac"
      },
      "outputs": [
        {
          "name": "stderr",
          "output_type": "stream",
          "text": [
            "/usr/local/lib/python3.10/dist-packages/keras/src/layers/core/dense.py:87: UserWarning: Do not pass an `input_shape`/`input_dim` argument to a layer. When using Sequential models, prefer using an `Input(shape)` object as the first layer in the model instead.\n",
            "  super().__init__(activity_regularizer=activity_regularizer, **kwargs)\n"
          ]
        }
      ],
      "source": [
        "from tensorflow.keras.models import Sequential\n",
        "from tensorflow.keras.layers import Dense, Dropout\n",
        "from tensorflow.keras.optimizers import Adam\n",
        "from tensorflow.keras.callbacks import ReduceLROnPlateau, EarlyStopping, ModelCheckpoint\n",
        "from sklearn.metrics import classification_report\n",
        "def create_model():\n",
        "    model = Sequential()\n",
        "    model.add(Dense(units=128, activation='relu', input_shape=(150 * 150 * 3,)))\n",
        "    model.add(Dense(units=128, activation='relu'))\n",
        "    model.add(Dense(units=64, activation='relu'))\n",
        "    model.add(Dense(units=32, activation='relu'))\n",
        "    model.add(Dropout(0.3))\n",
        "    model.add(Dense(units=1, activation='sigmoid'))\n",
        "\n",
        "    model.compile(optimizer=Adam(learning_rate=0.0001),\n",
        "                  loss='binary_crossentropy',\n",
        "                  metrics=['accuracy'])\n",
        "    return model\n",
        "\n",
        "model = create_model()\n",
        "\n",
        "learning_rate_reduction = ReduceLROnPlateau(monitor='val_accuracy', patience=3, verbose=1, factor=0.5, min_lr=0.00001)\n",
        "early_stopping = EarlyStopping(monitor='val_loss', patience=10, verbose=1, restore_best_weights=True)\n",
        "checkpoint = ModelCheckpoint(\"ANN_model.keras\", monitor='val_accuracy', verbose=1, save_best_only=True, mode='max')"
      ]
    },
    {
      "cell_type": "code",
      "execution_count": 37,
      "id": "881971cc-dcfd-4a96-afd6-80390d1a8203",
      "metadata": {
        "colab": {
          "base_uri": "https://localhost:8080/"
        },
        "id": "881971cc-dcfd-4a96-afd6-80390d1a8203",
        "outputId": "1accb14b-abb7-4acc-91b5-6d59d4acf04a"
      },
      "outputs": [
        {
          "name": "stdout",
          "output_type": "stream",
          "text": [
            "Epoch 1/70\n",
            "\u001b[1m586/586\u001b[0m \u001b[32m━━━━━━━━━━━━━━━━━━━━\u001b[0m\u001b[37m\u001b[0m \u001b[1m0s\u001b[0m 126ms/step - accuracy: 0.5274 - loss: 0.7386\n",
            "Epoch 1: val_accuracy improved from -inf to 0.56838, saving model to ANN_model.keras\n",
            "\u001b[1m586/586\u001b[0m \u001b[32m━━━━━━━━━━━━━━━━━━━━\u001b[0m\u001b[37m\u001b[0m \u001b[1m80s\u001b[0m 132ms/step - accuracy: 0.5274 - loss: 0.7385 - val_accuracy: 0.5684 - val_loss: 0.6823 - learning_rate: 1.0000e-04\n",
            "Epoch 2/70\n",
            "\u001b[1m586/586\u001b[0m \u001b[32m━━━━━━━━━━━━━━━━━━━━\u001b[0m\u001b[37m\u001b[0m \u001b[1m0s\u001b[0m 142ms/step - accuracy: 0.5398 - loss: 0.6883\n",
            "Epoch 2: val_accuracy did not improve from 0.56838\n",
            "\u001b[1m586/586\u001b[0m \u001b[32m━━━━━━━━━━━━━━━━━━━━\u001b[0m\u001b[37m\u001b[0m \u001b[1m90s\u001b[0m 147ms/step - accuracy: 0.5398 - loss: 0.6883 - val_accuracy: 0.5577 - val_loss: 0.6820 - learning_rate: 1.0000e-04\n",
            "Epoch 3/70\n",
            "\u001b[1m586/586\u001b[0m \u001b[32m━━━━━━━━━━━━━━━━━━━━\u001b[0m\u001b[37m\u001b[0m \u001b[1m0s\u001b[0m 174ms/step - accuracy: 0.5677 - loss: 0.6807\n",
            "Epoch 3: val_accuracy did not improve from 0.56838\n",
            "\u001b[1m586/586\u001b[0m \u001b[32m━━━━━━━━━━━━━━━━━━━━\u001b[0m\u001b[37m\u001b[0m \u001b[1m161s\u001b[0m 179ms/step - accuracy: 0.5677 - loss: 0.6807 - val_accuracy: 0.5675 - val_loss: 0.6743 - learning_rate: 1.0000e-04\n",
            "Epoch 4/70\n",
            "\u001b[1m586/586\u001b[0m \u001b[32m━━━━━━━━━━━━━━━━━━━━\u001b[0m\u001b[37m\u001b[0m \u001b[1m0s\u001b[0m 165ms/step - accuracy: 0.5541 - loss: 0.6832\n",
            "Epoch 4: val_accuracy improved from 0.56838 to 0.58974, saving model to ANN_model.keras\n",
            "\u001b[1m586/586\u001b[0m \u001b[32m━━━━━━━━━━━━━━━━━━━━\u001b[0m\u001b[37m\u001b[0m \u001b[1m137s\u001b[0m 171ms/step - accuracy: 0.5541 - loss: 0.6832 - val_accuracy: 0.5897 - val_loss: 0.6627 - learning_rate: 1.0000e-04\n",
            "Epoch 5/70\n",
            "\u001b[1m586/586\u001b[0m \u001b[32m━━━━━━━━━━━━━━━━━━━━\u001b[0m\u001b[37m\u001b[0m \u001b[1m0s\u001b[0m 159ms/step - accuracy: 0.5825 - loss: 0.6676\n",
            "Epoch 5: val_accuracy did not improve from 0.58974\n",
            "\u001b[1m586/586\u001b[0m \u001b[32m━━━━━━━━━━━━━━━━━━━━\u001b[0m\u001b[37m\u001b[0m \u001b[1m140s\u001b[0m 168ms/step - accuracy: 0.5825 - loss: 0.6676 - val_accuracy: 0.5786 - val_loss: 0.6707 - learning_rate: 1.0000e-04\n",
            "Epoch 6/70\n",
            "\u001b[1m586/586\u001b[0m \u001b[32m━━━━━━━━━━━━━━━━━━━━\u001b[0m\u001b[37m\u001b[0m \u001b[1m0s\u001b[0m 164ms/step - accuracy: 0.5808 - loss: 0.6659\n",
            "Epoch 6: val_accuracy did not improve from 0.58974\n",
            "\u001b[1m586/586\u001b[0m \u001b[32m━━━━━━━━━━━━━━━━━━━━\u001b[0m\u001b[37m\u001b[0m \u001b[1m141s\u001b[0m 167ms/step - accuracy: 0.5808 - loss: 0.6659 - val_accuracy: 0.5735 - val_loss: 0.6745 - learning_rate: 1.0000e-04\n",
            "Epoch 7/70\n",
            "\u001b[1m586/586\u001b[0m \u001b[32m━━━━━━━━━━━━━━━━━━━━\u001b[0m\u001b[37m\u001b[0m \u001b[1m0s\u001b[0m 128ms/step - accuracy: 0.5854 - loss: 0.6675\n",
            "Epoch 7: val_accuracy did not improve from 0.58974\n",
            "\n",
            "Epoch 7: ReduceLROnPlateau reducing learning rate to 4.999999873689376e-05.\n",
            "\u001b[1m586/586\u001b[0m \u001b[32m━━━━━━━━━━━━━━━━━━━━\u001b[0m\u001b[37m\u001b[0m \u001b[1m121s\u001b[0m 131ms/step - accuracy: 0.5854 - loss: 0.6675 - val_accuracy: 0.5812 - val_loss: 0.6600 - learning_rate: 1.0000e-04\n",
            "Epoch 8/70\n",
            "\u001b[1m586/586\u001b[0m \u001b[32m━━━━━━━━━━━━━━━━━━━━\u001b[0m\u001b[37m\u001b[0m \u001b[1m0s\u001b[0m 121ms/step - accuracy: 0.6004 - loss: 0.6528\n",
            "Epoch 8: val_accuracy improved from 0.58974 to 0.60684, saving model to ANN_model.keras\n",
            "\u001b[1m586/586\u001b[0m \u001b[32m━━━━━━━━━━━━━━━━━━━━\u001b[0m\u001b[37m\u001b[0m \u001b[1m74s\u001b[0m 126ms/step - accuracy: 0.6004 - loss: 0.6528 - val_accuracy: 0.6068 - val_loss: 0.6569 - learning_rate: 5.0000e-05\n",
            "Epoch 9/70\n",
            "\u001b[1m586/586\u001b[0m \u001b[32m━━━━━━━━━━━━━━━━━━━━\u001b[0m\u001b[37m\u001b[0m \u001b[1m0s\u001b[0m 124ms/step - accuracy: 0.6036 - loss: 0.6496\n",
            "Epoch 9: val_accuracy did not improve from 0.60684\n",
            "\u001b[1m586/586\u001b[0m \u001b[32m━━━━━━━━━━━━━━━━━━━━\u001b[0m\u001b[37m\u001b[0m \u001b[1m86s\u001b[0m 133ms/step - accuracy: 0.6036 - loss: 0.6496 - val_accuracy: 0.5906 - val_loss: 0.6594 - learning_rate: 5.0000e-05\n",
            "Epoch 10/70\n",
            "\u001b[1m586/586\u001b[0m \u001b[32m━━━━━━━━━━━━━━━━━━━━\u001b[0m\u001b[37m\u001b[0m \u001b[1m0s\u001b[0m 128ms/step - accuracy: 0.6199 - loss: 0.6455\n",
            "Epoch 10: val_accuracy improved from 0.60684 to 0.62265, saving model to ANN_model.keras\n",
            "\u001b[1m586/586\u001b[0m \u001b[32m━━━━━━━━━━━━━━━━━━━━\u001b[0m\u001b[37m\u001b[0m \u001b[1m82s\u001b[0m 133ms/step - accuracy: 0.6199 - loss: 0.6455 - val_accuracy: 0.6226 - val_loss: 0.6461 - learning_rate: 5.0000e-05\n",
            "Epoch 11/70\n",
            "\u001b[1m586/586\u001b[0m \u001b[32m━━━━━━━━━━━━━━━━━━━━\u001b[0m\u001b[37m\u001b[0m \u001b[1m0s\u001b[0m 165ms/step - accuracy: 0.6207 - loss: 0.6444\n",
            "Epoch 11: val_accuracy improved from 0.62265 to 0.62991, saving model to ANN_model.keras\n",
            "\u001b[1m586/586\u001b[0m \u001b[32m━━━━━━━━━━━━━━━━━━━━\u001b[0m\u001b[37m\u001b[0m \u001b[1m100s\u001b[0m 170ms/step - accuracy: 0.6207 - loss: 0.6444 - val_accuracy: 0.6299 - val_loss: 0.6441 - learning_rate: 5.0000e-05\n",
            "Epoch 12/70\n",
            "\u001b[1m586/586\u001b[0m \u001b[32m━━━━━━━━━━━━━━━━━━━━\u001b[0m\u001b[37m\u001b[0m \u001b[1m0s\u001b[0m 162ms/step - accuracy: 0.6219 - loss: 0.6403\n",
            "Epoch 12: val_accuracy improved from 0.62991 to 0.63462, saving model to ANN_model.keras\n",
            "\u001b[1m586/586\u001b[0m \u001b[32m━━━━━━━━━━━━━━━━━━━━\u001b[0m\u001b[37m\u001b[0m \u001b[1m140s\u001b[0m 167ms/step - accuracy: 0.6219 - loss: 0.6403 - val_accuracy: 0.6346 - val_loss: 0.6407 - learning_rate: 5.0000e-05\n",
            "Epoch 13/70\n",
            "\u001b[1m586/586\u001b[0m \u001b[32m━━━━━━━━━━━━━━━━━━━━\u001b[0m\u001b[37m\u001b[0m \u001b[1m0s\u001b[0m 124ms/step - accuracy: 0.6270 - loss: 0.6271\n",
            "Epoch 13: val_accuracy did not improve from 0.63462\n",
            "\u001b[1m586/586\u001b[0m \u001b[32m━━━━━━━━━━━━━━━━━━━━\u001b[0m\u001b[37m\u001b[0m \u001b[1m122s\u001b[0m 133ms/step - accuracy: 0.6270 - loss: 0.6271 - val_accuracy: 0.6154 - val_loss: 0.6407 - learning_rate: 5.0000e-05\n",
            "Epoch 14/70\n",
            "\u001b[1m586/586\u001b[0m \u001b[32m━━━━━━━━━━━━━━━━━━━━\u001b[0m\u001b[37m\u001b[0m \u001b[1m0s\u001b[0m 124ms/step - accuracy: 0.6199 - loss: 0.6314\n",
            "Epoch 14: val_accuracy did not improve from 0.63462\n",
            "\u001b[1m586/586\u001b[0m \u001b[32m━━━━━━━━━━━━━━━━━━━━\u001b[0m\u001b[37m\u001b[0m \u001b[1m74s\u001b[0m 126ms/step - accuracy: 0.6199 - loss: 0.6314 - val_accuracy: 0.6090 - val_loss: 0.6825 - learning_rate: 5.0000e-05\n",
            "Epoch 15/70\n",
            "\u001b[1m586/586\u001b[0m \u001b[32m━━━━━━━━━━━━━━━━━━━━\u001b[0m\u001b[37m\u001b[0m \u001b[1m0s\u001b[0m 122ms/step - accuracy: 0.6404 - loss: 0.6217\n",
            "Epoch 15: val_accuracy did not improve from 0.63462\n",
            "\n",
            "Epoch 15: ReduceLROnPlateau reducing learning rate to 2.499999936844688e-05.\n",
            "\u001b[1m586/586\u001b[0m \u001b[32m━━━━━━━━━━━━━━━━━━━━\u001b[0m\u001b[37m\u001b[0m \u001b[1m74s\u001b[0m 126ms/step - accuracy: 0.6404 - loss: 0.6217 - val_accuracy: 0.6184 - val_loss: 0.6354 - learning_rate: 5.0000e-05\n",
            "Epoch 16/70\n",
            "\u001b[1m586/586\u001b[0m \u001b[32m━━━━━━━━━━━━━━━━━━━━\u001b[0m\u001b[37m\u001b[0m \u001b[1m0s\u001b[0m 124ms/step - accuracy: 0.6571 - loss: 0.6054\n",
            "Epoch 16: val_accuracy did not improve from 0.63462\n",
            "\u001b[1m586/586\u001b[0m \u001b[32m━━━━━━━━━━━━━━━━━━━━\u001b[0m\u001b[37m\u001b[0m \u001b[1m83s\u001b[0m 129ms/step - accuracy: 0.6570 - loss: 0.6054 - val_accuracy: 0.6325 - val_loss: 0.6451 - learning_rate: 2.5000e-05\n",
            "Epoch 17/70\n",
            "\u001b[1m586/586\u001b[0m \u001b[32m━━━━━━━━━━━━━━━━━━━━\u001b[0m\u001b[37m\u001b[0m \u001b[1m0s\u001b[0m 123ms/step - accuracy: 0.6562 - loss: 0.6084\n",
            "Epoch 17: val_accuracy did not improve from 0.63462\n",
            "\u001b[1m586/586\u001b[0m \u001b[32m━━━━━━━━━━━━━━━━━━━━\u001b[0m\u001b[37m\u001b[0m \u001b[1m74s\u001b[0m 126ms/step - accuracy: 0.6562 - loss: 0.6084 - val_accuracy: 0.6342 - val_loss: 0.6260 - learning_rate: 2.5000e-05\n",
            "Epoch 18/70\n",
            "\u001b[1m586/586\u001b[0m \u001b[32m━━━━━━━━━━━━━━━━━━━━\u001b[0m\u001b[37m\u001b[0m \u001b[1m0s\u001b[0m 122ms/step - accuracy: 0.6612 - loss: 0.5984\n",
            "Epoch 18: val_accuracy improved from 0.63462 to 0.64274, saving model to ANN_model.keras\n",
            "\u001b[1m586/586\u001b[0m \u001b[32m━━━━━━━━━━━━━━━━━━━━\u001b[0m\u001b[37m\u001b[0m \u001b[1m81s\u001b[0m 125ms/step - accuracy: 0.6612 - loss: 0.5984 - val_accuracy: 0.6427 - val_loss: 0.6286 - learning_rate: 2.5000e-05\n",
            "Epoch 19/70\n",
            "\u001b[1m586/586\u001b[0m \u001b[32m━━━━━━━━━━━━━━━━━━━━\u001b[0m\u001b[37m\u001b[0m \u001b[1m0s\u001b[0m 134ms/step - accuracy: 0.6609 - loss: 0.5949\n",
            "Epoch 19: val_accuracy did not improve from 0.64274\n",
            "\u001b[1m586/586\u001b[0m \u001b[32m━━━━━━━━━━━━━━━━━━━━\u001b[0m\u001b[37m\u001b[0m \u001b[1m90s\u001b[0m 139ms/step - accuracy: 0.6609 - loss: 0.5949 - val_accuracy: 0.6201 - val_loss: 0.6421 - learning_rate: 2.5000e-05\n",
            "Epoch 20/70\n",
            "\u001b[1m586/586\u001b[0m \u001b[32m━━━━━━━━━━━━━━━━━━━━\u001b[0m\u001b[37m\u001b[0m \u001b[1m0s\u001b[0m 154ms/step - accuracy: 0.6710 - loss: 0.5877\n",
            "Epoch 20: val_accuracy improved from 0.64274 to 0.64829, saving model to ANN_model.keras\n",
            "\u001b[1m586/586\u001b[0m \u001b[32m━━━━━━━━━━━━━━━━━━━━\u001b[0m\u001b[37m\u001b[0m \u001b[1m94s\u001b[0m 160ms/step - accuracy: 0.6710 - loss: 0.5877 - val_accuracy: 0.6483 - val_loss: 0.6256 - learning_rate: 2.5000e-05\n",
            "Epoch 21/70\n",
            "\u001b[1m586/586\u001b[0m \u001b[32m━━━━━━━━━━━━━━━━━━━━\u001b[0m\u001b[37m\u001b[0m \u001b[1m0s\u001b[0m 131ms/step - accuracy: 0.6699 - loss: 0.5882\n",
            "Epoch 21: val_accuracy did not improve from 0.64829\n",
            "\u001b[1m586/586\u001b[0m \u001b[32m━━━━━━━━━━━━━━━━━━━━\u001b[0m\u001b[37m\u001b[0m \u001b[1m130s\u001b[0m 140ms/step - accuracy: 0.6699 - loss: 0.5882 - val_accuracy: 0.6457 - val_loss: 0.6297 - learning_rate: 2.5000e-05\n",
            "Epoch 22/70\n",
            "\u001b[1m586/586\u001b[0m \u001b[32m━━━━━━━━━━━━━━━━━━━━\u001b[0m\u001b[37m\u001b[0m \u001b[1m0s\u001b[0m 124ms/step - accuracy: 0.6797 - loss: 0.5875\n",
            "Epoch 22: val_accuracy did not improve from 0.64829\n",
            "\u001b[1m586/586\u001b[0m \u001b[32m━━━━━━━━━━━━━━━━━━━━\u001b[0m\u001b[37m\u001b[0m \u001b[1m134s\u001b[0m 127ms/step - accuracy: 0.6797 - loss: 0.5875 - val_accuracy: 0.6312 - val_loss: 0.6388 - learning_rate: 2.5000e-05\n",
            "Epoch 23/70\n",
            "\u001b[1m586/586\u001b[0m \u001b[32m━━━━━━━━━━━━━━━━━━━━\u001b[0m\u001b[37m\u001b[0m \u001b[1m0s\u001b[0m 125ms/step - accuracy: 0.6681 - loss: 0.5825\n",
            "Epoch 23: val_accuracy improved from 0.64829 to 0.65085, saving model to ANN_model.keras\n",
            "\u001b[1m586/586\u001b[0m \u001b[32m━━━━━━━━━━━━━━━━━━━━\u001b[0m\u001b[37m\u001b[0m \u001b[1m75s\u001b[0m 129ms/step - accuracy: 0.6681 - loss: 0.5825 - val_accuracy: 0.6509 - val_loss: 0.6255 - learning_rate: 2.5000e-05\n",
            "Epoch 24/70\n",
            "\u001b[1m586/586\u001b[0m \u001b[32m━━━━━━━━━━━━━━━━━━━━\u001b[0m\u001b[37m\u001b[0m \u001b[1m0s\u001b[0m 129ms/step - accuracy: 0.6772 - loss: 0.5825\n",
            "Epoch 24: val_accuracy did not improve from 0.65085\n",
            "\u001b[1m586/586\u001b[0m \u001b[32m━━━━━━━━━━━━━━━━━━━━\u001b[0m\u001b[37m\u001b[0m \u001b[1m77s\u001b[0m 132ms/step - accuracy: 0.6772 - loss: 0.5825 - val_accuracy: 0.6338 - val_loss: 0.6424 - learning_rate: 2.5000e-05\n",
            "Epoch 25/70\n",
            "\u001b[1m586/586\u001b[0m \u001b[32m━━━━━━━━━━━━━━━━━━━━\u001b[0m\u001b[37m\u001b[0m \u001b[1m0s\u001b[0m 126ms/step - accuracy: 0.6889 - loss: 0.5699\n",
            "Epoch 25: val_accuracy did not improve from 0.65085\n",
            "\u001b[1m586/586\u001b[0m \u001b[32m━━━━━━━━━━━━━━━━━━━━\u001b[0m\u001b[37m\u001b[0m \u001b[1m81s\u001b[0m 131ms/step - accuracy: 0.6888 - loss: 0.5699 - val_accuracy: 0.6372 - val_loss: 0.6345 - learning_rate: 2.5000e-05\n",
            "Epoch 26/70\n",
            "\u001b[1m586/586\u001b[0m \u001b[32m━━━━━━━━━━━━━━━━━━━━\u001b[0m\u001b[37m\u001b[0m \u001b[1m0s\u001b[0m 124ms/step - accuracy: 0.6833 - loss: 0.5728\n",
            "Epoch 26: val_accuracy did not improve from 0.65085\n",
            "\n",
            "Epoch 26: ReduceLROnPlateau reducing learning rate to 1.249999968422344e-05.\n",
            "\u001b[1m586/586\u001b[0m \u001b[32m━━━━━━━━━━━━━━━━━━━━\u001b[0m\u001b[37m\u001b[0m \u001b[1m74s\u001b[0m 127ms/step - accuracy: 0.6834 - loss: 0.5728 - val_accuracy: 0.6432 - val_loss: 0.6310 - learning_rate: 2.5000e-05\n",
            "Epoch 27/70\n",
            "\u001b[1m586/586\u001b[0m \u001b[32m━━━━━━━━━━━━━━━━━━━━\u001b[0m\u001b[37m\u001b[0m \u001b[1m0s\u001b[0m 125ms/step - accuracy: 0.6868 - loss: 0.5598\n",
            "Epoch 27: val_accuracy improved from 0.65085 to 0.65427, saving model to ANN_model.keras\n",
            "\u001b[1m586/586\u001b[0m \u001b[32m━━━━━━━━━━━━━━━━━━━━\u001b[0m\u001b[37m\u001b[0m \u001b[1m85s\u001b[0m 131ms/step - accuracy: 0.6868 - loss: 0.5598 - val_accuracy: 0.6543 - val_loss: 0.6332 - learning_rate: 1.2500e-05\n",
            "Epoch 28/70\n",
            "\u001b[1m586/586\u001b[0m \u001b[32m━━━━━━━━━━━━━━━━━━━━\u001b[0m\u001b[37m\u001b[0m \u001b[1m0s\u001b[0m 124ms/step - accuracy: 0.6963 - loss: 0.5590\n",
            "Epoch 28: val_accuracy did not improve from 0.65427\n",
            "\u001b[1m586/586\u001b[0m \u001b[32m━━━━━━━━━━━━━━━━━━━━\u001b[0m\u001b[37m\u001b[0m \u001b[1m80s\u001b[0m 128ms/step - accuracy: 0.6963 - loss: 0.5590 - val_accuracy: 0.6538 - val_loss: 0.6267 - learning_rate: 1.2500e-05\n",
            "Epoch 29/70\n",
            "\u001b[1m586/586\u001b[0m \u001b[32m━━━━━━━━━━━━━━━━━━━━\u001b[0m\u001b[37m\u001b[0m \u001b[1m0s\u001b[0m 125ms/step - accuracy: 0.7122 - loss: 0.5493\n",
            "Epoch 29: val_accuracy improved from 0.65427 to 0.65513, saving model to ANN_model.keras\n",
            "\u001b[1m586/586\u001b[0m \u001b[32m━━━━━━━━━━━━━━━━━━━━\u001b[0m\u001b[37m\u001b[0m \u001b[1m86s\u001b[0m 134ms/step - accuracy: 0.7122 - loss: 0.5493 - val_accuracy: 0.6551 - val_loss: 0.6209 - learning_rate: 1.2500e-05\n",
            "Epoch 30/70\n",
            "\u001b[1m586/586\u001b[0m \u001b[32m━━━━━━━━━━━━━━━━━━━━\u001b[0m\u001b[37m\u001b[0m \u001b[1m0s\u001b[0m 127ms/step - accuracy: 0.7116 - loss: 0.5446\n",
            "Epoch 30: val_accuracy improved from 0.65513 to 0.65769, saving model to ANN_model.keras\n",
            "\u001b[1m586/586\u001b[0m \u001b[32m━━━━━━━━━━━━━━━━━━━━\u001b[0m\u001b[37m\u001b[0m \u001b[1m81s\u001b[0m 132ms/step - accuracy: 0.7116 - loss: 0.5446 - val_accuracy: 0.6577 - val_loss: 0.6217 - learning_rate: 1.2500e-05\n",
            "Epoch 31/70\n",
            "\u001b[1m586/586\u001b[0m \u001b[32m━━━━━━━━━━━━━━━━━━━━\u001b[0m\u001b[37m\u001b[0m \u001b[1m0s\u001b[0m 135ms/step - accuracy: 0.7139 - loss: 0.5485\n",
            "Epoch 31: val_accuracy did not improve from 0.65769\n",
            "\u001b[1m586/586\u001b[0m \u001b[32m━━━━━━━━━━━━━━━━━━━━\u001b[0m\u001b[37m\u001b[0m \u001b[1m85s\u001b[0m 138ms/step - accuracy: 0.7139 - loss: 0.5485 - val_accuracy: 0.6457 - val_loss: 0.6237 - learning_rate: 1.2500e-05\n",
            "Epoch 32/70\n",
            "\u001b[1m586/586\u001b[0m \u001b[32m━━━━━━━━━━━━━━━━━━━━\u001b[0m\u001b[37m\u001b[0m \u001b[1m0s\u001b[0m 124ms/step - accuracy: 0.7073 - loss: 0.5473\n",
            "Epoch 32: val_accuracy did not improve from 0.65769\n",
            "\u001b[1m586/586\u001b[0m \u001b[32m━━━━━━━━━━━━━━━━━━━━\u001b[0m\u001b[37m\u001b[0m \u001b[1m75s\u001b[0m 128ms/step - accuracy: 0.7073 - loss: 0.5473 - val_accuracy: 0.6526 - val_loss: 0.6240 - learning_rate: 1.2500e-05\n",
            "Epoch 33/70\n",
            "\u001b[1m586/586\u001b[0m \u001b[32m━━━━━━━━━━━━━━━━━━━━\u001b[0m\u001b[37m\u001b[0m \u001b[1m0s\u001b[0m 126ms/step - accuracy: 0.7110 - loss: 0.5486\n",
            "Epoch 33: val_accuracy improved from 0.65769 to 0.66239, saving model to ANN_model.keras\n",
            "\u001b[1m586/586\u001b[0m \u001b[32m━━━━━━━━━━━━━━━━━━━━\u001b[0m\u001b[37m\u001b[0m \u001b[1m76s\u001b[0m 130ms/step - accuracy: 0.7110 - loss: 0.5486 - val_accuracy: 0.6624 - val_loss: 0.6242 - learning_rate: 1.2500e-05\n",
            "Epoch 34/70\n",
            "\u001b[1m586/586\u001b[0m \u001b[32m━━━━━━━━━━━━━━━━━━━━\u001b[0m\u001b[37m\u001b[0m \u001b[1m0s\u001b[0m 129ms/step - accuracy: 0.7206 - loss: 0.5374\n",
            "Epoch 34: val_accuracy did not improve from 0.66239\n",
            "\u001b[1m586/586\u001b[0m \u001b[32m━━━━━━━━━━━━━━━━━━━━\u001b[0m\u001b[37m\u001b[0m \u001b[1m84s\u001b[0m 133ms/step - accuracy: 0.7206 - loss: 0.5374 - val_accuracy: 0.6530 - val_loss: 0.6259 - learning_rate: 1.2500e-05\n",
            "Epoch 35/70\n",
            "\u001b[1m586/586\u001b[0m \u001b[32m━━━━━━━━━━━━━━━━━━━━\u001b[0m\u001b[37m\u001b[0m \u001b[1m0s\u001b[0m 138ms/step - accuracy: 0.7073 - loss: 0.5451\n",
            "Epoch 35: val_accuracy did not improve from 0.66239\n",
            "\u001b[1m586/586\u001b[0m \u001b[32m━━━━━━━━━━━━━━━━━━━━\u001b[0m\u001b[37m\u001b[0m \u001b[1m83s\u001b[0m 142ms/step - accuracy: 0.7073 - loss: 0.5451 - val_accuracy: 0.6526 - val_loss: 0.6248 - learning_rate: 1.2500e-05\n",
            "Epoch 36/70\n",
            "\u001b[1m586/586\u001b[0m \u001b[32m━━━━━━━━━━━━━━━━━━━━\u001b[0m\u001b[37m\u001b[0m \u001b[1m0s\u001b[0m 169ms/step - accuracy: 0.7147 - loss: 0.5390\n",
            "Epoch 36: val_accuracy did not improve from 0.66239\n",
            "\n",
            "Epoch 36: ReduceLROnPlateau reducing learning rate to 1e-05.\n",
            "\u001b[1m586/586\u001b[0m \u001b[32m━━━━━━━━━━━━━━━━━━━━\u001b[0m\u001b[37m\u001b[0m \u001b[1m101s\u001b[0m 172ms/step - accuracy: 0.7147 - loss: 0.5390 - val_accuracy: 0.6620 - val_loss: 0.6247 - learning_rate: 1.2500e-05\n",
            "Epoch 37/70\n",
            "\u001b[1m586/586\u001b[0m \u001b[32m━━━━━━━━━━━━━━━━━━━━\u001b[0m\u001b[37m\u001b[0m \u001b[1m0s\u001b[0m 171ms/step - accuracy: 0.7298 - loss: 0.5199\n",
            "Epoch 37: val_accuracy did not improve from 0.66239\n",
            "\u001b[1m586/586\u001b[0m \u001b[32m━━━━━━━━━━━━━━━━━━━━\u001b[0m\u001b[37m\u001b[0m \u001b[1m144s\u001b[0m 175ms/step - accuracy: 0.7297 - loss: 0.5199 - val_accuracy: 0.6556 - val_loss: 0.6244 - learning_rate: 1.0000e-05\n",
            "Epoch 38/70\n",
            "\u001b[1m586/586\u001b[0m \u001b[32m━━━━━━━━━━━━━━━━━━━━\u001b[0m\u001b[37m\u001b[0m \u001b[1m0s\u001b[0m 166ms/step - accuracy: 0.7176 - loss: 0.5312\n",
            "Epoch 38: val_accuracy did not improve from 0.66239\n",
            "\u001b[1m586/586\u001b[0m \u001b[32m━━━━━━━━━━━━━━━━━━━━\u001b[0m\u001b[37m\u001b[0m \u001b[1m100s\u001b[0m 170ms/step - accuracy: 0.7176 - loss: 0.5312 - val_accuracy: 0.6547 - val_loss: 0.6267 - learning_rate: 1.0000e-05\n",
            "Epoch 39/70\n",
            "\u001b[1m586/586\u001b[0m \u001b[32m━━━━━━━━━━━━━━━━━━━━\u001b[0m\u001b[37m\u001b[0m \u001b[1m0s\u001b[0m 156ms/step - accuracy: 0.7133 - loss: 0.5216\n",
            "Epoch 39: val_accuracy did not improve from 0.66239\n",
            "\u001b[1m586/586\u001b[0m \u001b[32m━━━━━━━━━━━━━━━━━━━━\u001b[0m\u001b[37m\u001b[0m \u001b[1m136s\u001b[0m 160ms/step - accuracy: 0.7133 - loss: 0.5216 - val_accuracy: 0.6560 - val_loss: 0.6281 - learning_rate: 1.0000e-05\n",
            "Epoch 39: early stopping\n",
            "Restoring model weights from the end of the best epoch: 29.\n",
            "\u001b[1m74/74\u001b[0m \u001b[32m━━━━━━━━━━━━━━━━━━━━\u001b[0m\u001b[37m\u001b[0m \u001b[1m2s\u001b[0m 23ms/step\n",
            "Classification Report:\n",
            "               precision    recall  f1-score   support\n",
            "\n",
            "         0.0       0.67      0.62      0.64      1169\n",
            "         1.0       0.65      0.69      0.67      1171\n",
            "\n",
            "    accuracy                           0.66      2340\n",
            "   macro avg       0.66      0.66      0.65      2340\n",
            "weighted avg       0.66      0.66      0.65      2340\n",
            "\n"
          ]
        }
      ],
      "source": [
        "history = model.fit(\n",
        "    X_train_flattened, y_train,\n",
        "    batch_size=16,\n",
        "    epochs=70,\n",
        "    validation_data=(X_test_flattened, y_val),\n",
        "    callbacks=[checkpoint, early_stopping, learning_rate_reduction]\n",
        ")\n",
        "y_pred = (model.predict(X_test_flattened) > 0.5).astype(\"int32\")\n",
        "print('Classification Report:\\n', classification_report(y_val, y_pred))"
      ]
    },
    {
      "cell_type": "code",
      "execution_count": 38,
      "id": "aaf69247-1193-4d7f-af67-e7ffebfc762f",
      "metadata": {
        "colab": {
          "base_uri": "https://localhost:8080/",
          "height": 355
        },
        "id": "aaf69247-1193-4d7f-af67-e7ffebfc762f",
        "outputId": "b47c2dbe-7272-4bf7-a772-cd880df803e4"
      },
      "outputs": [
        {
          "data": {
            "text/html": [
              "<pre style=\"white-space:pre;overflow-x:auto;line-height:normal;font-family:Menlo,'DejaVu Sans Mono',consolas,'Courier New',monospace\"><span style=\"font-weight: bold\">Model: \"sequential_1\"</span>\n",
              "</pre>\n"
            ],
            "text/plain": [
              "\u001b[1mModel: \"sequential_1\"\u001b[0m\n"
            ]
          },
          "metadata": {},
          "output_type": "display_data"
        },
        {
          "data": {
            "text/html": [
              "<pre style=\"white-space:pre;overflow-x:auto;line-height:normal;font-family:Menlo,'DejaVu Sans Mono',consolas,'Courier New',monospace\">┏━━━━━━━━━━━━━━━━━━━━━━━━━━━━━━━━━━━━━━┳━━━━━━━━━━━━━━━━━━━━━━━━━━━━━┳━━━━━━━━━━━━━━━━━┓\n",
              "┃<span style=\"font-weight: bold\"> Layer (type)                         </span>┃<span style=\"font-weight: bold\"> Output Shape                </span>┃<span style=\"font-weight: bold\">         Param # </span>┃\n",
              "┡━━━━━━━━━━━━━━━━━━━━━━━━━━━━━━━━━━━━━━╇━━━━━━━━━━━━━━━━━━━━━━━━━━━━━╇━━━━━━━━━━━━━━━━━┩\n",
              "│ dense_5 (<span style=\"color: #0087ff; text-decoration-color: #0087ff\">Dense</span>)                      │ (<span style=\"color: #00d7ff; text-decoration-color: #00d7ff\">None</span>, <span style=\"color: #00af00; text-decoration-color: #00af00\">128</span>)                 │       <span style=\"color: #00af00; text-decoration-color: #00af00\">8,640,128</span> │\n",
              "├──────────────────────────────────────┼─────────────────────────────┼─────────────────┤\n",
              "│ dense_6 (<span style=\"color: #0087ff; text-decoration-color: #0087ff\">Dense</span>)                      │ (<span style=\"color: #00d7ff; text-decoration-color: #00d7ff\">None</span>, <span style=\"color: #00af00; text-decoration-color: #00af00\">128</span>)                 │          <span style=\"color: #00af00; text-decoration-color: #00af00\">16,512</span> │\n",
              "├──────────────────────────────────────┼─────────────────────────────┼─────────────────┤\n",
              "│ dense_7 (<span style=\"color: #0087ff; text-decoration-color: #0087ff\">Dense</span>)                      │ (<span style=\"color: #00d7ff; text-decoration-color: #00d7ff\">None</span>, <span style=\"color: #00af00; text-decoration-color: #00af00\">64</span>)                  │           <span style=\"color: #00af00; text-decoration-color: #00af00\">8,256</span> │\n",
              "├──────────────────────────────────────┼─────────────────────────────┼─────────────────┤\n",
              "│ dense_8 (<span style=\"color: #0087ff; text-decoration-color: #0087ff\">Dense</span>)                      │ (<span style=\"color: #00d7ff; text-decoration-color: #00d7ff\">None</span>, <span style=\"color: #00af00; text-decoration-color: #00af00\">32</span>)                  │           <span style=\"color: #00af00; text-decoration-color: #00af00\">2,080</span> │\n",
              "├──────────────────────────────────────┼─────────────────────────────┼─────────────────┤\n",
              "│ dropout_1 (<span style=\"color: #0087ff; text-decoration-color: #0087ff\">Dropout</span>)                  │ (<span style=\"color: #00d7ff; text-decoration-color: #00d7ff\">None</span>, <span style=\"color: #00af00; text-decoration-color: #00af00\">32</span>)                  │               <span style=\"color: #00af00; text-decoration-color: #00af00\">0</span> │\n",
              "├──────────────────────────────────────┼─────────────────────────────┼─────────────────┤\n",
              "│ dense_9 (<span style=\"color: #0087ff; text-decoration-color: #0087ff\">Dense</span>)                      │ (<span style=\"color: #00d7ff; text-decoration-color: #00d7ff\">None</span>, <span style=\"color: #00af00; text-decoration-color: #00af00\">1</span>)                   │              <span style=\"color: #00af00; text-decoration-color: #00af00\">33</span> │\n",
              "└──────────────────────────────────────┴─────────────────────────────┴─────────────────┘\n",
              "</pre>\n"
            ],
            "text/plain": [
              "┏━━━━━━━━━━━━━━━━━━━━━━━━━━━━━━━━━━━━━━┳━━━━━━━━━━━━━━━━━━━━━━━━━━━━━┳━━━━━━━━━━━━━━━━━┓\n",
              "┃\u001b[1m \u001b[0m\u001b[1mLayer (type)                        \u001b[0m\u001b[1m \u001b[0m┃\u001b[1m \u001b[0m\u001b[1mOutput Shape               \u001b[0m\u001b[1m \u001b[0m┃\u001b[1m \u001b[0m\u001b[1m        Param #\u001b[0m\u001b[1m \u001b[0m┃\n",
              "┡━━━━━━━━━━━━━━━━━━━━━━━━━━━━━━━━━━━━━━╇━━━━━━━━━━━━━━━━━━━━━━━━━━━━━╇━━━━━━━━━━━━━━━━━┩\n",
              "│ dense_5 (\u001b[38;5;33mDense\u001b[0m)                      │ (\u001b[38;5;45mNone\u001b[0m, \u001b[38;5;34m128\u001b[0m)                 │       \u001b[38;5;34m8,640,128\u001b[0m │\n",
              "├──────────────────────────────────────┼─────────────────────────────┼─────────────────┤\n",
              "│ dense_6 (\u001b[38;5;33mDense\u001b[0m)                      │ (\u001b[38;5;45mNone\u001b[0m, \u001b[38;5;34m128\u001b[0m)                 │          \u001b[38;5;34m16,512\u001b[0m │\n",
              "├──────────────────────────────────────┼─────────────────────────────┼─────────────────┤\n",
              "│ dense_7 (\u001b[38;5;33mDense\u001b[0m)                      │ (\u001b[38;5;45mNone\u001b[0m, \u001b[38;5;34m64\u001b[0m)                  │           \u001b[38;5;34m8,256\u001b[0m │\n",
              "├──────────────────────────────────────┼─────────────────────────────┼─────────────────┤\n",
              "│ dense_8 (\u001b[38;5;33mDense\u001b[0m)                      │ (\u001b[38;5;45mNone\u001b[0m, \u001b[38;5;34m32\u001b[0m)                  │           \u001b[38;5;34m2,080\u001b[0m │\n",
              "├──────────────────────────────────────┼─────────────────────────────┼─────────────────┤\n",
              "│ dropout_1 (\u001b[38;5;33mDropout\u001b[0m)                  │ (\u001b[38;5;45mNone\u001b[0m, \u001b[38;5;34m32\u001b[0m)                  │               \u001b[38;5;34m0\u001b[0m │\n",
              "├──────────────────────────────────────┼─────────────────────────────┼─────────────────┤\n",
              "│ dense_9 (\u001b[38;5;33mDense\u001b[0m)                      │ (\u001b[38;5;45mNone\u001b[0m, \u001b[38;5;34m1\u001b[0m)                   │              \u001b[38;5;34m33\u001b[0m │\n",
              "└──────────────────────────────────────┴─────────────────────────────┴─────────────────┘\n"
            ]
          },
          "metadata": {},
          "output_type": "display_data"
        },
        {
          "data": {
            "text/html": [
              "<pre style=\"white-space:pre;overflow-x:auto;line-height:normal;font-family:Menlo,'DejaVu Sans Mono',consolas,'Courier New',monospace\"><span style=\"font-weight: bold\"> Total params: </span><span style=\"color: #00af00; text-decoration-color: #00af00\">26,001,029</span> (99.19 MB)\n",
              "</pre>\n"
            ],
            "text/plain": [
              "\u001b[1m Total params: \u001b[0m\u001b[38;5;34m26,001,029\u001b[0m (99.19 MB)\n"
            ]
          },
          "metadata": {},
          "output_type": "display_data"
        },
        {
          "data": {
            "text/html": [
              "<pre style=\"white-space:pre;overflow-x:auto;line-height:normal;font-family:Menlo,'DejaVu Sans Mono',consolas,'Courier New',monospace\"><span style=\"font-weight: bold\"> Trainable params: </span><span style=\"color: #00af00; text-decoration-color: #00af00\">8,667,009</span> (33.06 MB)\n",
              "</pre>\n"
            ],
            "text/plain": [
              "\u001b[1m Trainable params: \u001b[0m\u001b[38;5;34m8,667,009\u001b[0m (33.06 MB)\n"
            ]
          },
          "metadata": {},
          "output_type": "display_data"
        },
        {
          "data": {
            "text/html": [
              "<pre style=\"white-space:pre;overflow-x:auto;line-height:normal;font-family:Menlo,'DejaVu Sans Mono',consolas,'Courier New',monospace\"><span style=\"font-weight: bold\"> Non-trainable params: </span><span style=\"color: #00af00; text-decoration-color: #00af00\">0</span> (0.00 B)\n",
              "</pre>\n"
            ],
            "text/plain": [
              "\u001b[1m Non-trainable params: \u001b[0m\u001b[38;5;34m0\u001b[0m (0.00 B)\n"
            ]
          },
          "metadata": {},
          "output_type": "display_data"
        },
        {
          "data": {
            "text/html": [
              "<pre style=\"white-space:pre;overflow-x:auto;line-height:normal;font-family:Menlo,'DejaVu Sans Mono',consolas,'Courier New',monospace\"><span style=\"font-weight: bold\"> Optimizer params: </span><span style=\"color: #00af00; text-decoration-color: #00af00\">17,334,020</span> (66.12 MB)\n",
              "</pre>\n"
            ],
            "text/plain": [
              "\u001b[1m Optimizer params: \u001b[0m\u001b[38;5;34m17,334,020\u001b[0m (66.12 MB)\n"
            ]
          },
          "metadata": {},
          "output_type": "display_data"
        },
        {
          "name": "stdout",
          "output_type": "stream",
          "text": [
            "None\n"
          ]
        }
      ],
      "source": [
        "print(model.summary())"
      ]
    },
    {
      "cell_type": "code",
      "execution_count": 39,
      "id": "77dbeb72-3376-430b-b65d-f5ef51fbbe11",
      "metadata": {
        "colab": {
          "base_uri": "https://localhost:8080/",
          "height": 486
        },
        "id": "77dbeb72-3376-430b-b65d-f5ef51fbbe11",
        "outputId": "a15fc9a5-6fdc-4f11-9a7e-815551f569f6"
      },
      "outputs": [
        {
          "data": {
            "image/png": "[encoded data removed]",
            "text/plain": [
              "<Figure size 640x480 with 2 Axes>"
            ]
          },
          "metadata": {},
          "output_type": "display_data"
        }
      ],
      "source": [
        "fig, ax = plt.subplots(2, 1)\n",
        "ax[0].plot(history.history['loss'], color='b', label=\"Training loss\")\n",
        "ax[0].plot(history.history['val_loss'], color='r', label=\"Validation loss\")\n",
        "ax[0].legend(loc='best', shadow=True)\n",
        "ax[0].set_title(\"Loss\")\n",
        "ax[0].set_xlabel(\"Epochs\")\n",
        "ax[0].set_ylabel(\"Loss\")\n",
        "ax[1].plot(history.history['accuracy'], color='b', label=\"Training accuracy\")\n",
        "ax[1].plot(history.history['val_accuracy'], color='r', label=\"Validation accuracy\")\n",
        "ax[1].legend(loc='best', shadow=True)\n",
        "ax[1].set_title(\"Accuracy\")\n",
        "ax[1].set_xlabel(\"Epochs\")\n",
        "ax[1].set_ylabel(\"Accuracy\")\n",
        "plt.tight_layout()\n",
        "plt.show()"
      ]
    }
  ],
  "metadata": {
    "accelerator": "GPU",
    "colab": {
      "gpuType": "T4",
      "provenance": []
    },
    "kernelspec": {
      "display_name": "Python 3",
      "name": "python3"
    },
    "language_info": {
      "codemirror_mode": {
        "name": "ipython",
        "version": 3
      },
      "file_extension": ".py",
      "mimetype": "text/x-python",
      "name": "python",
      "nbconvert_exporter": "python",
      "pygments_lexer": "ipython3",
      "version": "3.11.7"
    }
  },
  "nbformat": 4,
  "nbformat_minor": 5
}
